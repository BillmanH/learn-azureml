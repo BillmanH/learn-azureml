{
 "cells": [
  {
   "cell_type": "markdown",
   "metadata": {},
   "source": [
    "# How to load a machine learning model into Azure ML\n",
    "\n",
    "Azure's automl takes a lot of the steps our of building a custom model. It's very easy to use. While not the best for any use case, it is suitible for most simple prediction problems. This is especially helpful if you aren't sure what kind of model you want, or want to quickly test that you data will produce good results. \n",
    "\n",
    "* This is the process for training a model in AutoML on an ad-hoc basis.  \n",
    "\n",
    "## Basic Steps\n",
    "1. Munge data into features and targets\n",
    "2. Upload to an azure storage location\n",
    "3. Train the model\n",
    "4. Download the trained model\n",
    "5. Predict new outcomes using `.predict()` (or whatever you intend to do with the model)"
   ]
  },
  {
   "cell_type": "code",
   "execution_count": 1,
   "metadata": {},
   "outputs": [],
   "source": [
    "# standard libraries\n",
    "import pandas as pd\n",
    "import numpy as np\n",
    "import altair as alt\n",
    "from IPython.display import Image\n",
    "\n",
    "# ml libraries\n",
    "import azureml\n",
    "from azureml.core.experiment import Experiment\n",
    "from azureml.core import Workspace\n",
    "from azureml.train.automl import AutoMLConfig\n",
    "\n",
    "from azureml.widgets import RunDetails\n",
    "\n",
    "from azureml.core.authentication import InteractiveLoginAuthentication\n",
    "from azureml.core.compute import ComputeTarget\n",
    "from azureml.core import Dataset\n",
    "\n",
    "from sklearn.model_selection import train_test_split\n",
    "\n",
    "import sys,yaml\n",
    "\n",
    "sys.path.append(\"..\")\n",
    "\n",
    "pd.set_option(\"display.max_columns\", 10)\n",
    "pd.set_option(\"display.max_rows\", 10)\n",
    "%load_ext lab_black"
   ]
  },
  {
   "cell_type": "markdown",
   "metadata": {},
   "source": [
    "AzureML Is always changing, so it is important to know which version you are using. Newer versions aren't always the best, so make sure to check your version and test your code on a new version before upgrading. "
   ]
  },
  {
   "cell_type": "code",
   "execution_count": 2,
   "metadata": {},
   "outputs": [
    {
     "output_type": "execute_result",
     "data": {
      "text/plain": "'1.11.0'"
     },
     "metadata": {},
     "execution_count": 2
    }
   ],
   "source": [
    "azureml.core.VERSION"
   ]
  },
  {
   "cell_type": "markdown",
   "metadata": {},
   "source": [
    "# Setup, Configuration and Loading the local data\n",
    "\n",
    "In order to track everything in `automl tags` (for review and reproducibility purposes), record as many changes in the `tags` dict.  There is no known limit to the number of tags that you can add so feel free to add as many as you think will be useful. Tags can be used to filter and search through model performance at the end of the process. "
   ]
  },
  {
   "cell_type": "code",
   "execution_count": 3,
   "metadata": {},
   "outputs": [],
   "source": [
    "# the stated purpose of the model, to avoid confusion with other models.\n",
    "# Description is the column that shows up in the models view in Azure\n",
    "description = \"experience testing for training course\""
   ]
  },
  {
   "cell_type": "markdown",
   "metadata": {},
   "source": [
    "#### Extra munging step here:\n",
    "Add extra code here to add steps so that you can keep the steps above for future users. I'm adding a local file for testing. "
   ]
  },
  {
   "cell_type": "code",
   "execution_count": 4,
   "metadata": {
    "tags": []
   },
   "outputs": [
    {
     "output_type": "stream",
     "name": "stdout",
     "text": "['setosa' 'versicolor' 'virginica']\n"
    }
   ],
   "source": [
    "from sklearn import datasets\n",
    "\n",
    "iris = datasets.load_iris()\n",
    "print(iris.target_names)"
   ]
  },
  {
   "cell_type": "code",
   "execution_count": 5,
   "metadata": {},
   "outputs": [
    {
     "output_type": "execute_result",
     "data": {
      "text/plain": "     sepal length (cm)  sepal width (cm)  petal length (cm)  petal width (cm)  \\\n0                  5.1               3.5                1.4               0.2   \n1                  4.9               3.0                1.4               0.2   \n2                  4.7               3.2                1.3               0.2   \n3                  4.6               3.1                1.5               0.2   \n4                  5.0               3.6                1.4               0.2   \n..                 ...               ...                ...               ...   \n145                6.7               3.0                5.2               2.3   \n146                6.3               2.5                5.0               1.9   \n147                6.5               3.0                5.2               2.0   \n148                6.2               3.4                5.4               2.3   \n149                5.9               3.0                5.1               1.8   \n\n       species  \n0       setosa  \n1       setosa  \n2       setosa  \n3       setosa  \n4       setosa  \n..         ...  \n145  virginica  \n146  virginica  \n147  virginica  \n148  virginica  \n149  virginica  \n\n[150 rows x 5 columns]",
      "text/html": "<div>\n<style scoped>\n    .dataframe tbody tr th:only-of-type {\n        vertical-align: middle;\n    }\n\n    .dataframe tbody tr th {\n        vertical-align: top;\n    }\n\n    .dataframe thead th {\n        text-align: right;\n    }\n</style>\n<table border=\"1\" class=\"dataframe\">\n  <thead>\n    <tr style=\"text-align: right;\">\n      <th></th>\n      <th>sepal length (cm)</th>\n      <th>sepal width (cm)</th>\n      <th>petal length (cm)</th>\n      <th>petal width (cm)</th>\n      <th>species</th>\n    </tr>\n  </thead>\n  <tbody>\n    <tr>\n      <th>0</th>\n      <td>5.1</td>\n      <td>3.5</td>\n      <td>1.4</td>\n      <td>0.2</td>\n      <td>setosa</td>\n    </tr>\n    <tr>\n      <th>1</th>\n      <td>4.9</td>\n      <td>3.0</td>\n      <td>1.4</td>\n      <td>0.2</td>\n      <td>setosa</td>\n    </tr>\n    <tr>\n      <th>2</th>\n      <td>4.7</td>\n      <td>3.2</td>\n      <td>1.3</td>\n      <td>0.2</td>\n      <td>setosa</td>\n    </tr>\n    <tr>\n      <th>3</th>\n      <td>4.6</td>\n      <td>3.1</td>\n      <td>1.5</td>\n      <td>0.2</td>\n      <td>setosa</td>\n    </tr>\n    <tr>\n      <th>4</th>\n      <td>5.0</td>\n      <td>3.6</td>\n      <td>1.4</td>\n      <td>0.2</td>\n      <td>setosa</td>\n    </tr>\n    <tr>\n      <th>...</th>\n      <td>...</td>\n      <td>...</td>\n      <td>...</td>\n      <td>...</td>\n      <td>...</td>\n    </tr>\n    <tr>\n      <th>145</th>\n      <td>6.7</td>\n      <td>3.0</td>\n      <td>5.2</td>\n      <td>2.3</td>\n      <td>virginica</td>\n    </tr>\n    <tr>\n      <th>146</th>\n      <td>6.3</td>\n      <td>2.5</td>\n      <td>5.0</td>\n      <td>1.9</td>\n      <td>virginica</td>\n    </tr>\n    <tr>\n      <th>147</th>\n      <td>6.5</td>\n      <td>3.0</td>\n      <td>5.2</td>\n      <td>2.0</td>\n      <td>virginica</td>\n    </tr>\n    <tr>\n      <th>148</th>\n      <td>6.2</td>\n      <td>3.4</td>\n      <td>5.4</td>\n      <td>2.3</td>\n      <td>virginica</td>\n    </tr>\n    <tr>\n      <th>149</th>\n      <td>5.9</td>\n      <td>3.0</td>\n      <td>5.1</td>\n      <td>1.8</td>\n      <td>virginica</td>\n    </tr>\n  </tbody>\n</table>\n<p>150 rows × 5 columns</p>\n</div>"
     },
     "metadata": {},
     "execution_count": 5
    }
   ],
   "source": [
    "df = pd.DataFrame(iris.data, columns=iris.feature_names)\n",
    "\n",
    "df[\"species\"] = [iris.target_names[x] for x in iris.target]\n",
    "df"
   ]
  },
  {
   "cell_type": "code",
   "execution_count": 6,
   "metadata": {},
   "outputs": [
    {
     "output_type": "execute_result",
     "data": {
      "application/vnd.vegalite.v3+json": {
       "config": {
        "view": {
         "width": 400,
         "height": 300
        },
        "mark": {
         "tooltip": null
        }
       },
       "repeat": {
        "column": [
         "sepal length (cm)",
         "sepal width (cm)",
         "petal length (cm)",
         "petal width (cm)"
        ],
        "row": [
         "sepal length (cm)",
         "sepal width (cm)",
         "petal length (cm)",
         "petal width (cm)"
        ]
       },
       "spec": {
        "data": {
         "name": "data-2b48399d1e5e9b26ee1083e12b97ec83"
        },
        "mark": "circle",
        "encoding": {
         "color": {
          "type": "nominal",
          "field": "species"
         },
         "x": {
          "type": "quantitative",
          "field": {
           "repeat": "column"
          }
         },
         "y": {
          "type": "quantitative",
          "field": {
           "repeat": "row"
          }
         }
        },
        "height": 200,
        "width": 200
       },
       "$schema": "https://vega.github.io/schema/vega-lite/v3.4.0.json",
       "datasets": {
        "data-2b48399d1e5e9b26ee1083e12b97ec83": [
         {
          "sepal length (cm)": 5.1,
          "sepal width (cm)": 3.5,
          "petal length (cm)": 1.4,
          "petal width (cm)": 0.2,
          "species": "setosa"
         },
         {
          "sepal length (cm)": 4.9,
          "sepal width (cm)": 3,
          "petal length (cm)": 1.4,
          "petal width (cm)": 0.2,
          "species": "setosa"
         },
         {
          "sepal length (cm)": 4.7,
          "sepal width (cm)": 3.2,
          "petal length (cm)": 1.3,
          "petal width (cm)": 0.2,
          "species": "setosa"
         },
         {
          "sepal length (cm)": 4.6,
          "sepal width (cm)": 3.1,
          "petal length (cm)": 1.5,
          "petal width (cm)": 0.2,
          "species": "setosa"
         },
         {
          "sepal length (cm)": 5,
          "sepal width (cm)": 3.6,
          "petal length (cm)": 1.4,
          "petal width (cm)": 0.2,
          "species": "setosa"
         },
         {
          "sepal length (cm)": 5.4,
          "sepal width (cm)": 3.9,
          "petal length (cm)": 1.7,
          "petal width (cm)": 0.4,
          "species": "setosa"
         },
         {
          "sepal length (cm)": 4.6,
          "sepal width (cm)": 3.4,
          "petal length (cm)": 1.4,
          "petal width (cm)": 0.3,
          "species": "setosa"
         },
         {
          "sepal length (cm)": 5,
          "sepal width (cm)": 3.4,
          "petal length (cm)": 1.5,
          "petal width (cm)": 0.2,
          "species": "setosa"
         },
         {
          "sepal length (cm)": 4.4,
          "sepal width (cm)": 2.9,
          "petal length (cm)": 1.4,
          "petal width (cm)": 0.2,
          "species": "setosa"
         },
         {
          "sepal length (cm)": 4.9,
          "sepal width (cm)": 3.1,
          "petal length (cm)": 1.5,
          "petal width (cm)": 0.1,
          "species": "setosa"
         },
         {
          "sepal length (cm)": 5.4,
          "sepal width (cm)": 3.7,
          "petal length (cm)": 1.5,
          "petal width (cm)": 0.2,
          "species": "setosa"
         },
         {
          "sepal length (cm)": 4.8,
          "sepal width (cm)": 3.4,
          "petal length (cm)": 1.6,
          "petal width (cm)": 0.2,
          "species": "setosa"
         },
         {
          "sepal length (cm)": 4.8,
          "sepal width (cm)": 3,
          "petal length (cm)": 1.4,
          "petal width (cm)": 0.1,
          "species": "setosa"
         },
         {
          "sepal length (cm)": 4.3,
          "sepal width (cm)": 3,
          "petal length (cm)": 1.1,
          "petal width (cm)": 0.1,
          "species": "setosa"
         },
         {
          "sepal length (cm)": 5.8,
          "sepal width (cm)": 4,
          "petal length (cm)": 1.2,
          "petal width (cm)": 0.2,
          "species": "setosa"
         },
         {
          "sepal length (cm)": 5.7,
          "sepal width (cm)": 4.4,
          "petal length (cm)": 1.5,
          "petal width (cm)": 0.4,
          "species": "setosa"
         },
         {
          "sepal length (cm)": 5.4,
          "sepal width (cm)": 3.9,
          "petal length (cm)": 1.3,
          "petal width (cm)": 0.4,
          "species": "setosa"
         },
         {
          "sepal length (cm)": 5.1,
          "sepal width (cm)": 3.5,
          "petal length (cm)": 1.4,
          "petal width (cm)": 0.3,
          "species": "setosa"
         },
         {
          "sepal length (cm)": 5.7,
          "sepal width (cm)": 3.8,
          "petal length (cm)": 1.7,
          "petal width (cm)": 0.3,
          "species": "setosa"
         },
         {
          "sepal length (cm)": 5.1,
          "sepal width (cm)": 3.8,
          "petal length (cm)": 1.5,
          "petal width (cm)": 0.3,
          "species": "setosa"
         },
         {
          "sepal length (cm)": 5.4,
          "sepal width (cm)": 3.4,
          "petal length (cm)": 1.7,
          "petal width (cm)": 0.2,
          "species": "setosa"
         },
         {
          "sepal length (cm)": 5.1,
          "sepal width (cm)": 3.7,
          "petal length (cm)": 1.5,
          "petal width (cm)": 0.4,
          "species": "setosa"
         },
         {
          "sepal length (cm)": 4.6,
          "sepal width (cm)": 3.6,
          "petal length (cm)": 1,
          "petal width (cm)": 0.2,
          "species": "setosa"
         },
         {
          "sepal length (cm)": 5.1,
          "sepal width (cm)": 3.3,
          "petal length (cm)": 1.7,
          "petal width (cm)": 0.5,
          "species": "setosa"
         },
         {
          "sepal length (cm)": 4.8,
          "sepal width (cm)": 3.4,
          "petal length (cm)": 1.9,
          "petal width (cm)": 0.2,
          "species": "setosa"
         },
         {
          "sepal length (cm)": 5,
          "sepal width (cm)": 3,
          "petal length (cm)": 1.6,
          "petal width (cm)": 0.2,
          "species": "setosa"
         },
         {
          "sepal length (cm)": 5,
          "sepal width (cm)": 3.4,
          "petal length (cm)": 1.6,
          "petal width (cm)": 0.4,
          "species": "setosa"
         },
         {
          "sepal length (cm)": 5.2,
          "sepal width (cm)": 3.5,
          "petal length (cm)": 1.5,
          "petal width (cm)": 0.2,
          "species": "setosa"
         },
         {
          "sepal length (cm)": 5.2,
          "sepal width (cm)": 3.4,
          "petal length (cm)": 1.4,
          "petal width (cm)": 0.2,
          "species": "setosa"
         },
         {
          "sepal length (cm)": 4.7,
          "sepal width (cm)": 3.2,
          "petal length (cm)": 1.6,
          "petal width (cm)": 0.2,
          "species": "setosa"
         },
         {
          "sepal length (cm)": 4.8,
          "sepal width (cm)": 3.1,
          "petal length (cm)": 1.6,
          "petal width (cm)": 0.2,
          "species": "setosa"
         },
         {
          "sepal length (cm)": 5.4,
          "sepal width (cm)": 3.4,
          "petal length (cm)": 1.5,
          "petal width (cm)": 0.4,
          "species": "setosa"
         },
         {
          "sepal length (cm)": 5.2,
          "sepal width (cm)": 4.1,
          "petal length (cm)": 1.5,
          "petal width (cm)": 0.1,
          "species": "setosa"
         },
         {
          "sepal length (cm)": 5.5,
          "sepal width (cm)": 4.2,
          "petal length (cm)": 1.4,
          "petal width (cm)": 0.2,
          "species": "setosa"
         },
         {
          "sepal length (cm)": 4.9,
          "sepal width (cm)": 3.1,
          "petal length (cm)": 1.5,
          "petal width (cm)": 0.2,
          "species": "setosa"
         },
         {
          "sepal length (cm)": 5,
          "sepal width (cm)": 3.2,
          "petal length (cm)": 1.2,
          "petal width (cm)": 0.2,
          "species": "setosa"
         },
         {
          "sepal length (cm)": 5.5,
          "sepal width (cm)": 3.5,
          "petal length (cm)": 1.3,
          "petal width (cm)": 0.2,
          "species": "setosa"
         },
         {
          "sepal length (cm)": 4.9,
          "sepal width (cm)": 3.6,
          "petal length (cm)": 1.4,
          "petal width (cm)": 0.1,
          "species": "setosa"
         },
         {
          "sepal length (cm)": 4.4,
          "sepal width (cm)": 3,
          "petal length (cm)": 1.3,
          "petal width (cm)": 0.2,
          "species": "setosa"
         },
         {
          "sepal length (cm)": 5.1,
          "sepal width (cm)": 3.4,
          "petal length (cm)": 1.5,
          "petal width (cm)": 0.2,
          "species": "setosa"
         },
         {
          "sepal length (cm)": 5,
          "sepal width (cm)": 3.5,
          "petal length (cm)": 1.3,
          "petal width (cm)": 0.3,
          "species": "setosa"
         },
         {
          "sepal length (cm)": 4.5,
          "sepal width (cm)": 2.3,
          "petal length (cm)": 1.3,
          "petal width (cm)": 0.3,
          "species": "setosa"
         },
         {
          "sepal length (cm)": 4.4,
          "sepal width (cm)": 3.2,
          "petal length (cm)": 1.3,
          "petal width (cm)": 0.2,
          "species": "setosa"
         },
         {
          "sepal length (cm)": 5,
          "sepal width (cm)": 3.5,
          "petal length (cm)": 1.6,
          "petal width (cm)": 0.6,
          "species": "setosa"
         },
         {
          "sepal length (cm)": 5.1,
          "sepal width (cm)": 3.8,
          "petal length (cm)": 1.9,
          "petal width (cm)": 0.4,
          "species": "setosa"
         },
         {
          "sepal length (cm)": 4.8,
          "sepal width (cm)": 3,
          "petal length (cm)": 1.4,
          "petal width (cm)": 0.3,
          "species": "setosa"
         },
         {
          "sepal length (cm)": 5.1,
          "sepal width (cm)": 3.8,
          "petal length (cm)": 1.6,
          "petal width (cm)": 0.2,
          "species": "setosa"
         },
         {
          "sepal length (cm)": 4.6,
          "sepal width (cm)": 3.2,
          "petal length (cm)": 1.4,
          "petal width (cm)": 0.2,
          "species": "setosa"
         },
         {
          "sepal length (cm)": 5.3,
          "sepal width (cm)": 3.7,
          "petal length (cm)": 1.5,
          "petal width (cm)": 0.2,
          "species": "setosa"
         },
         {
          "sepal length (cm)": 5,
          "sepal width (cm)": 3.3,
          "petal length (cm)": 1.4,
          "petal width (cm)": 0.2,
          "species": "setosa"
         },
         {
          "sepal length (cm)": 7,
          "sepal width (cm)": 3.2,
          "petal length (cm)": 4.7,
          "petal width (cm)": 1.4,
          "species": "versicolor"
         },
         {
          "sepal length (cm)": 6.4,
          "sepal width (cm)": 3.2,
          "petal length (cm)": 4.5,
          "petal width (cm)": 1.5,
          "species": "versicolor"
         },
         {
          "sepal length (cm)": 6.9,
          "sepal width (cm)": 3.1,
          "petal length (cm)": 4.9,
          "petal width (cm)": 1.5,
          "species": "versicolor"
         },
         {
          "sepal length (cm)": 5.5,
          "sepal width (cm)": 2.3,
          "petal length (cm)": 4,
          "petal width (cm)": 1.3,
          "species": "versicolor"
         },
         {
          "sepal length (cm)": 6.5,
          "sepal width (cm)": 2.8,
          "petal length (cm)": 4.6,
          "petal width (cm)": 1.5,
          "species": "versicolor"
         },
         {
          "sepal length (cm)": 5.7,
          "sepal width (cm)": 2.8,
          "petal length (cm)": 4.5,
          "petal width (cm)": 1.3,
          "species": "versicolor"
         },
         {
          "sepal length (cm)": 6.3,
          "sepal width (cm)": 3.3,
          "petal length (cm)": 4.7,
          "petal width (cm)": 1.6,
          "species": "versicolor"
         },
         {
          "sepal length (cm)": 4.9,
          "sepal width (cm)": 2.4,
          "petal length (cm)": 3.3,
          "petal width (cm)": 1,
          "species": "versicolor"
         },
         {
          "sepal length (cm)": 6.6,
          "sepal width (cm)": 2.9,
          "petal length (cm)": 4.6,
          "petal width (cm)": 1.3,
          "species": "versicolor"
         },
         {
          "sepal length (cm)": 5.2,
          "sepal width (cm)": 2.7,
          "petal length (cm)": 3.9,
          "petal width (cm)": 1.4,
          "species": "versicolor"
         },
         {
          "sepal length (cm)": 5,
          "sepal width (cm)": 2,
          "petal length (cm)": 3.5,
          "petal width (cm)": 1,
          "species": "versicolor"
         },
         {
          "sepal length (cm)": 5.9,
          "sepal width (cm)": 3,
          "petal length (cm)": 4.2,
          "petal width (cm)": 1.5,
          "species": "versicolor"
         },
         {
          "sepal length (cm)": 6,
          "sepal width (cm)": 2.2,
          "petal length (cm)": 4,
          "petal width (cm)": 1,
          "species": "versicolor"
         },
         {
          "sepal length (cm)": 6.1,
          "sepal width (cm)": 2.9,
          "petal length (cm)": 4.7,
          "petal width (cm)": 1.4,
          "species": "versicolor"
         },
         {
          "sepal length (cm)": 5.6,
          "sepal width (cm)": 2.9,
          "petal length (cm)": 3.6,
          "petal width (cm)": 1.3,
          "species": "versicolor"
         },
         {
          "sepal length (cm)": 6.7,
          "sepal width (cm)": 3.1,
          "petal length (cm)": 4.4,
          "petal width (cm)": 1.4,
          "species": "versicolor"
         },
         {
          "sepal length (cm)": 5.6,
          "sepal width (cm)": 3,
          "petal length (cm)": 4.5,
          "petal width (cm)": 1.5,
          "species": "versicolor"
         },
         {
          "sepal length (cm)": 5.8,
          "sepal width (cm)": 2.7,
          "petal length (cm)": 4.1,
          "petal width (cm)": 1,
          "species": "versicolor"
         },
         {
          "sepal length (cm)": 6.2,
          "sepal width (cm)": 2.2,
          "petal length (cm)": 4.5,
          "petal width (cm)": 1.5,
          "species": "versicolor"
         },
         {
          "sepal length (cm)": 5.6,
          "sepal width (cm)": 2.5,
          "petal length (cm)": 3.9,
          "petal width (cm)": 1.1,
          "species": "versicolor"
         },
         {
          "sepal length (cm)": 5.9,
          "sepal width (cm)": 3.2,
          "petal length (cm)": 4.8,
          "petal width (cm)": 1.8,
          "species": "versicolor"
         },
         {
          "sepal length (cm)": 6.1,
          "sepal width (cm)": 2.8,
          "petal length (cm)": 4,
          "petal width (cm)": 1.3,
          "species": "versicolor"
         },
         {
          "sepal length (cm)": 6.3,
          "sepal width (cm)": 2.5,
          "petal length (cm)": 4.9,
          "petal width (cm)": 1.5,
          "species": "versicolor"
         },
         {
          "sepal length (cm)": 6.1,
          "sepal width (cm)": 2.8,
          "petal length (cm)": 4.7,
          "petal width (cm)": 1.2,
          "species": "versicolor"
         },
         {
          "sepal length (cm)": 6.4,
          "sepal width (cm)": 2.9,
          "petal length (cm)": 4.3,
          "petal width (cm)": 1.3,
          "species": "versicolor"
         },
         {
          "sepal length (cm)": 6.6,
          "sepal width (cm)": 3,
          "petal length (cm)": 4.4,
          "petal width (cm)": 1.4,
          "species": "versicolor"
         },
         {
          "sepal length (cm)": 6.8,
          "sepal width (cm)": 2.8,
          "petal length (cm)": 4.8,
          "petal width (cm)": 1.4,
          "species": "versicolor"
         },
         {
          "sepal length (cm)": 6.7,
          "sepal width (cm)": 3,
          "petal length (cm)": 5,
          "petal width (cm)": 1.7,
          "species": "versicolor"
         },
         {
          "sepal length (cm)": 6,
          "sepal width (cm)": 2.9,
          "petal length (cm)": 4.5,
          "petal width (cm)": 1.5,
          "species": "versicolor"
         },
         {
          "sepal length (cm)": 5.7,
          "sepal width (cm)": 2.6,
          "petal length (cm)": 3.5,
          "petal width (cm)": 1,
          "species": "versicolor"
         },
         {
          "sepal length (cm)": 5.5,
          "sepal width (cm)": 2.4,
          "petal length (cm)": 3.8,
          "petal width (cm)": 1.1,
          "species": "versicolor"
         },
         {
          "sepal length (cm)": 5.5,
          "sepal width (cm)": 2.4,
          "petal length (cm)": 3.7,
          "petal width (cm)": 1,
          "species": "versicolor"
         },
         {
          "sepal length (cm)": 5.8,
          "sepal width (cm)": 2.7,
          "petal length (cm)": 3.9,
          "petal width (cm)": 1.2,
          "species": "versicolor"
         },
         {
          "sepal length (cm)": 6,
          "sepal width (cm)": 2.7,
          "petal length (cm)": 5.1,
          "petal width (cm)": 1.6,
          "species": "versicolor"
         },
         {
          "sepal length (cm)": 5.4,
          "sepal width (cm)": 3,
          "petal length (cm)": 4.5,
          "petal width (cm)": 1.5,
          "species": "versicolor"
         },
         {
          "sepal length (cm)": 6,
          "sepal width (cm)": 3.4,
          "petal length (cm)": 4.5,
          "petal width (cm)": 1.6,
          "species": "versicolor"
         },
         {
          "sepal length (cm)": 6.7,
          "sepal width (cm)": 3.1,
          "petal length (cm)": 4.7,
          "petal width (cm)": 1.5,
          "species": "versicolor"
         },
         {
          "sepal length (cm)": 6.3,
          "sepal width (cm)": 2.3,
          "petal length (cm)": 4.4,
          "petal width (cm)": 1.3,
          "species": "versicolor"
         },
         {
          "sepal length (cm)": 5.6,
          "sepal width (cm)": 3,
          "petal length (cm)": 4.1,
          "petal width (cm)": 1.3,
          "species": "versicolor"
         },
         {
          "sepal length (cm)": 5.5,
          "sepal width (cm)": 2.5,
          "petal length (cm)": 4,
          "petal width (cm)": 1.3,
          "species": "versicolor"
         },
         {
          "sepal length (cm)": 5.5,
          "sepal width (cm)": 2.6,
          "petal length (cm)": 4.4,
          "petal width (cm)": 1.2,
          "species": "versicolor"
         },
         {
          "sepal length (cm)": 6.1,
          "sepal width (cm)": 3,
          "petal length (cm)": 4.6,
          "petal width (cm)": 1.4,
          "species": "versicolor"
         },
         {
          "sepal length (cm)": 5.8,
          "sepal width (cm)": 2.6,
          "petal length (cm)": 4,
          "petal width (cm)": 1.2,
          "species": "versicolor"
         },
         {
          "sepal length (cm)": 5,
          "sepal width (cm)": 2.3,
          "petal length (cm)": 3.3,
          "petal width (cm)": 1,
          "species": "versicolor"
         },
         {
          "sepal length (cm)": 5.6,
          "sepal width (cm)": 2.7,
          "petal length (cm)": 4.2,
          "petal width (cm)": 1.3,
          "species": "versicolor"
         },
         {
          "sepal length (cm)": 5.7,
          "sepal width (cm)": 3,
          "petal length (cm)": 4.2,
          "petal width (cm)": 1.2,
          "species": "versicolor"
         },
         {
          "sepal length (cm)": 5.7,
          "sepal width (cm)": 2.9,
          "petal length (cm)": 4.2,
          "petal width (cm)": 1.3,
          "species": "versicolor"
         },
         {
          "sepal length (cm)": 6.2,
          "sepal width (cm)": 2.9,
          "petal length (cm)": 4.3,
          "petal width (cm)": 1.3,
          "species": "versicolor"
         },
         {
          "sepal length (cm)": 5.1,
          "sepal width (cm)": 2.5,
          "petal length (cm)": 3,
          "petal width (cm)": 1.1,
          "species": "versicolor"
         },
         {
          "sepal length (cm)": 5.7,
          "sepal width (cm)": 2.8,
          "petal length (cm)": 4.1,
          "petal width (cm)": 1.3,
          "species": "versicolor"
         },
         {
          "sepal length (cm)": 6.3,
          "sepal width (cm)": 3.3,
          "petal length (cm)": 6,
          "petal width (cm)": 2.5,
          "species": "virginica"
         },
         {
          "sepal length (cm)": 5.8,
          "sepal width (cm)": 2.7,
          "petal length (cm)": 5.1,
          "petal width (cm)": 1.9,
          "species": "virginica"
         },
         {
          "sepal length (cm)": 7.1,
          "sepal width (cm)": 3,
          "petal length (cm)": 5.9,
          "petal width (cm)": 2.1,
          "species": "virginica"
         },
         {
          "sepal length (cm)": 6.3,
          "sepal width (cm)": 2.9,
          "petal length (cm)": 5.6,
          "petal width (cm)": 1.8,
          "species": "virginica"
         },
         {
          "sepal length (cm)": 6.5,
          "sepal width (cm)": 3,
          "petal length (cm)": 5.8,
          "petal width (cm)": 2.2,
          "species": "virginica"
         },
         {
          "sepal length (cm)": 7.6,
          "sepal width (cm)": 3,
          "petal length (cm)": 6.6,
          "petal width (cm)": 2.1,
          "species": "virginica"
         },
         {
          "sepal length (cm)": 4.9,
          "sepal width (cm)": 2.5,
          "petal length (cm)": 4.5,
          "petal width (cm)": 1.7,
          "species": "virginica"
         },
         {
          "sepal length (cm)": 7.3,
          "sepal width (cm)": 2.9,
          "petal length (cm)": 6.3,
          "petal width (cm)": 1.8,
          "species": "virginica"
         },
         {
          "sepal length (cm)": 6.7,
          "sepal width (cm)": 2.5,
          "petal length (cm)": 5.8,
          "petal width (cm)": 1.8,
          "species": "virginica"
         },
         {
          "sepal length (cm)": 7.2,
          "sepal width (cm)": 3.6,
          "petal length (cm)": 6.1,
          "petal width (cm)": 2.5,
          "species": "virginica"
         },
         {
          "sepal length (cm)": 6.5,
          "sepal width (cm)": 3.2,
          "petal length (cm)": 5.1,
          "petal width (cm)": 2,
          "species": "virginica"
         },
         {
          "sepal length (cm)": 6.4,
          "sepal width (cm)": 2.7,
          "petal length (cm)": 5.3,
          "petal width (cm)": 1.9,
          "species": "virginica"
         },
         {
          "sepal length (cm)": 6.8,
          "sepal width (cm)": 3,
          "petal length (cm)": 5.5,
          "petal width (cm)": 2.1,
          "species": "virginica"
         },
         {
          "sepal length (cm)": 5.7,
          "sepal width (cm)": 2.5,
          "petal length (cm)": 5,
          "petal width (cm)": 2,
          "species": "virginica"
         },
         {
          "sepal length (cm)": 5.8,
          "sepal width (cm)": 2.8,
          "petal length (cm)": 5.1,
          "petal width (cm)": 2.4,
          "species": "virginica"
         },
         {
          "sepal length (cm)": 6.4,
          "sepal width (cm)": 3.2,
          "petal length (cm)": 5.3,
          "petal width (cm)": 2.3,
          "species": "virginica"
         },
         {
          "sepal length (cm)": 6.5,
          "sepal width (cm)": 3,
          "petal length (cm)": 5.5,
          "petal width (cm)": 1.8,
          "species": "virginica"
         },
         {
          "sepal length (cm)": 7.7,
          "sepal width (cm)": 3.8,
          "petal length (cm)": 6.7,
          "petal width (cm)": 2.2,
          "species": "virginica"
         },
         {
          "sepal length (cm)": 7.7,
          "sepal width (cm)": 2.6,
          "petal length (cm)": 6.9,
          "petal width (cm)": 2.3,
          "species": "virginica"
         },
         {
          "sepal length (cm)": 6,
          "sepal width (cm)": 2.2,
          "petal length (cm)": 5,
          "petal width (cm)": 1.5,
          "species": "virginica"
         },
         {
          "sepal length (cm)": 6.9,
          "sepal width (cm)": 3.2,
          "petal length (cm)": 5.7,
          "petal width (cm)": 2.3,
          "species": "virginica"
         },
         {
          "sepal length (cm)": 5.6,
          "sepal width (cm)": 2.8,
          "petal length (cm)": 4.9,
          "petal width (cm)": 2,
          "species": "virginica"
         },
         {
          "sepal length (cm)": 7.7,
          "sepal width (cm)": 2.8,
          "petal length (cm)": 6.7,
          "petal width (cm)": 2,
          "species": "virginica"
         },
         {
          "sepal length (cm)": 6.3,
          "sepal width (cm)": 2.7,
          "petal length (cm)": 4.9,
          "petal width (cm)": 1.8,
          "species": "virginica"
         },
         {
          "sepal length (cm)": 6.7,
          "sepal width (cm)": 3.3,
          "petal length (cm)": 5.7,
          "petal width (cm)": 2.1,
          "species": "virginica"
         },
         {
          "sepal length (cm)": 7.2,
          "sepal width (cm)": 3.2,
          "petal length (cm)": 6,
          "petal width (cm)": 1.8,
          "species": "virginica"
         },
         {
          "sepal length (cm)": 6.2,
          "sepal width (cm)": 2.8,
          "petal length (cm)": 4.8,
          "petal width (cm)": 1.8,
          "species": "virginica"
         },
         {
          "sepal length (cm)": 6.1,
          "sepal width (cm)": 3,
          "petal length (cm)": 4.9,
          "petal width (cm)": 1.8,
          "species": "virginica"
         },
         {
          "sepal length (cm)": 6.4,
          "sepal width (cm)": 2.8,
          "petal length (cm)": 5.6,
          "petal width (cm)": 2.1,
          "species": "virginica"
         },
         {
          "sepal length (cm)": 7.2,
          "sepal width (cm)": 3,
          "petal length (cm)": 5.8,
          "petal width (cm)": 1.6,
          "species": "virginica"
         },
         {
          "sepal length (cm)": 7.4,
          "sepal width (cm)": 2.8,
          "petal length (cm)": 6.1,
          "petal width (cm)": 1.9,
          "species": "virginica"
         },
         {
          "sepal length (cm)": 7.9,
          "sepal width (cm)": 3.8,
          "petal length (cm)": 6.4,
          "petal width (cm)": 2,
          "species": "virginica"
         },
         {
          "sepal length (cm)": 6.4,
          "sepal width (cm)": 2.8,
          "petal length (cm)": 5.6,
          "petal width (cm)": 2.2,
          "species": "virginica"
         },
         {
          "sepal length (cm)": 6.3,
          "sepal width (cm)": 2.8,
          "petal length (cm)": 5.1,
          "petal width (cm)": 1.5,
          "species": "virginica"
         },
         {
          "sepal length (cm)": 6.1,
          "sepal width (cm)": 2.6,
          "petal length (cm)": 5.6,
          "petal width (cm)": 1.4,
          "species": "virginica"
         },
         {
          "sepal length (cm)": 7.7,
          "sepal width (cm)": 3,
          "petal length (cm)": 6.1,
          "petal width (cm)": 2.3,
          "species": "virginica"
         },
         {
          "sepal length (cm)": 6.3,
          "sepal width (cm)": 3.4,
          "petal length (cm)": 5.6,
          "petal width (cm)": 2.4,
          "species": "virginica"
         },
         {
          "sepal length (cm)": 6.4,
          "sepal width (cm)": 3.1,
          "petal length (cm)": 5.5,
          "petal width (cm)": 1.8,
          "species": "virginica"
         },
         {
          "sepal length (cm)": 6,
          "sepal width (cm)": 3,
          "petal length (cm)": 4.8,
          "petal width (cm)": 1.8,
          "species": "virginica"
         },
         {
          "sepal length (cm)": 6.9,
          "sepal width (cm)": 3.1,
          "petal length (cm)": 5.4,
          "petal width (cm)": 2.1,
          "species": "virginica"
         },
         {
          "sepal length (cm)": 6.7,
          "sepal width (cm)": 3.1,
          "petal length (cm)": 5.6,
          "petal width (cm)": 2.4,
          "species": "virginica"
         },
         {
          "sepal length (cm)": 6.9,
          "sepal width (cm)": 3.1,
          "petal length (cm)": 5.1,
          "petal width (cm)": 2.3,
          "species": "virginica"
         },
         {
          "sepal length (cm)": 5.8,
          "sepal width (cm)": 2.7,
          "petal length (cm)": 5.1,
          "petal width (cm)": 1.9,
          "species": "virginica"
         },
         {
          "sepal length (cm)": 6.8,
          "sepal width (cm)": 3.2,
          "petal length (cm)": 5.9,
          "petal width (cm)": 2.3,
          "species": "virginica"
         },
         {
          "sepal length (cm)": 6.7,
          "sepal width (cm)": 3.3,
          "petal length (cm)": 5.7,
          "petal width (cm)": 2.5,
          "species": "virginica"
         },
         {
          "sepal length (cm)": 6.7,
          "sepal width (cm)": 3,
          "petal length (cm)": 5.2,
          "petal width (cm)": 2.3,
          "species": "virginica"
         },
         {
          "sepal length (cm)": 6.3,
          "sepal width (cm)": 2.5,
          "petal length (cm)": 5,
          "petal width (cm)": 1.9,
          "species": "virginica"
         },
         {
          "sepal length (cm)": 6.5,
          "sepal width (cm)": 3,
          "petal length (cm)": 5.2,
          "petal width (cm)": 2,
          "species": "virginica"
         },
         {
          "sepal length (cm)": 6.2,
          "sepal width (cm)": 3.4,
          "petal length (cm)": 5.4,
          "petal width (cm)": 2.3,
          "species": "virginica"
         },
         {
          "sepal length (cm)": 5.9,
          "sepal width (cm)": 3,
          "petal length (cm)": 5.1,
          "petal width (cm)": 1.8,
          "species": "virginica"
         }
        ]
       }
      },
      "text/plain": "<VegaLite 3 object>\n\nIf you see this message, it means the renderer has not been properly enabled\nfor the frontend that you are using. For more information, see\nhttps://altair-viz.github.io/user_guide/troubleshooting.html\n"
     },
     "metadata": {},
     "execution_count": 6
    }
   ],
   "source": [
    "alt.Chart(df).mark_circle().encode(\n",
    "    alt.X(alt.repeat(\"column\"), type=\"quantitative\"),\n",
    "    alt.Y(alt.repeat(\"row\"), type=\"quantitative\"),\n",
    "    color=\"species\",\n",
    ").properties(width=200, height=200).repeat(\n",
    "    row=list(iris.feature_names), column=list(iris.feature_names)\n",
    ")"
   ]
  },
  {
   "cell_type": "markdown",
   "metadata": {},
   "source": [
    "#### Logging into the Azure Experience \n",
    "\n",
    "There are some known issues switching between tenants in `azureml.core.authentication`. So if you have used a different tenant then you may need to specify here. If you are doing this for the first time, a browser window will pop up so that you can authenticate.  \n",
    "\n",
    "\n",
    "**Note** that this won't work for you as you don't have access to the azure resource, but if you use the ids from your own tennant this will run fine. \n",
    "* [docs about the Experiment class](https://docs.microsoft.com/en-us/python/api/azureml-core/azureml.core.experiment.experiment?view=azure-ml-py) "
   ]
  },
  {
   "cell_type": "code",
   "execution_count": 10,
   "metadata": {},
   "outputs": [],
   "source": [
    "params = yaml.safe_load(open(\"../settings.yaml\"))"
   ]
  },
  {
   "cell_type": "code",
   "execution_count": 11,
   "metadata": {},
   "outputs": [],
   "source": [
    "interactive_auth = InteractiveLoginAuthentication(\n",
    "    tenant_id=params['tenant_id']\n",
    ")\n",
    "ws = Workspace.get(\n",
    "    name=params['workspace_name'],\n",
    "    subscription_id=params['subscription_id'],\n",
    "    resource_group=params['resource_group'],\n",
    "    auth=interactive_auth,\n",
    ")\n",
    "\n",
    "experiment = Experiment(ws, params['expermient_name'])"
   ]
  },
  {
   "cell_type": "markdown",
   "metadata": {},
   "source": [
    "Uploading the temp datafile to the cloud. "
   ]
  },
  {
   "cell_type": "code",
   "execution_count": 22,
   "metadata": {
    "tags": []
   },
   "outputs": [
    {
     "output_type": "stream",
     "name": "stdout",
     "text": "Uploading an estimated of 1 files\nUploading ../data/iris.csv\nUploaded ../data/iris.csv, 1 files out of an estimated total of 1\nUploaded 1 files\n"
    },
    {
     "output_type": "execute_result",
     "data": {
      "text/plain": "$AZUREML_DATAREFERENCE_76b7771c46a94283aa9e08811b0abc80"
     },
     "metadata": {},
     "execution_count": 22
    }
   ],
   "source": [
    "df.to_csv(\"../data/iris.csv\", index=False)\n",
    "\n",
    "datastore = ws.get_default_datastore()\n",
    "datastore.upload_files(\n",
    "    files=[\"../data/iris.csv\"],\n",
    "    target_path=\"train-dataset/tabular/\",\n",
    "    overwrite=True,\n",
    "    show_progress=True,\n",
    ")"
   ]
  },
  {
   "cell_type": "code",
   "execution_count": 23,
   "metadata": {},
   "outputs": [
    {
     "output_type": "execute_result",
     "data": {
      "text/plain": "     sepal length (cm)  sepal width (cm)  petal length (cm)  petal width (cm)  \\\n0                  5.1               3.5                1.4               0.2   \n1                  4.9               3.0                1.4               0.2   \n2                  4.7               3.2                1.3               0.2   \n3                  4.6               3.1                1.5               0.2   \n4                  5.0               3.6                1.4               0.2   \n..                 ...               ...                ...               ...   \n145                6.7               3.0                5.2               2.3   \n146                6.3               2.5                5.0               1.9   \n147                6.5               3.0                5.2               2.0   \n148                6.2               3.4                5.4               2.3   \n149                5.9               3.0                5.1               1.8   \n\n       species  \n0       setosa  \n1       setosa  \n2       setosa  \n3       setosa  \n4       setosa  \n..         ...  \n145  virginica  \n146  virginica  \n147  virginica  \n148  virginica  \n149  virginica  \n\n[150 rows x 5 columns]",
      "text/html": "<div>\n<style scoped>\n    .dataframe tbody tr th:only-of-type {\n        vertical-align: middle;\n    }\n\n    .dataframe tbody tr th {\n        vertical-align: top;\n    }\n\n    .dataframe thead th {\n        text-align: right;\n    }\n</style>\n<table border=\"1\" class=\"dataframe\">\n  <thead>\n    <tr style=\"text-align: right;\">\n      <th></th>\n      <th>sepal length (cm)</th>\n      <th>sepal width (cm)</th>\n      <th>petal length (cm)</th>\n      <th>petal width (cm)</th>\n      <th>species</th>\n    </tr>\n  </thead>\n  <tbody>\n    <tr>\n      <th>0</th>\n      <td>5.1</td>\n      <td>3.5</td>\n      <td>1.4</td>\n      <td>0.2</td>\n      <td>setosa</td>\n    </tr>\n    <tr>\n      <th>1</th>\n      <td>4.9</td>\n      <td>3.0</td>\n      <td>1.4</td>\n      <td>0.2</td>\n      <td>setosa</td>\n    </tr>\n    <tr>\n      <th>2</th>\n      <td>4.7</td>\n      <td>3.2</td>\n      <td>1.3</td>\n      <td>0.2</td>\n      <td>setosa</td>\n    </tr>\n    <tr>\n      <th>3</th>\n      <td>4.6</td>\n      <td>3.1</td>\n      <td>1.5</td>\n      <td>0.2</td>\n      <td>setosa</td>\n    </tr>\n    <tr>\n      <th>4</th>\n      <td>5.0</td>\n      <td>3.6</td>\n      <td>1.4</td>\n      <td>0.2</td>\n      <td>setosa</td>\n    </tr>\n    <tr>\n      <th>...</th>\n      <td>...</td>\n      <td>...</td>\n      <td>...</td>\n      <td>...</td>\n      <td>...</td>\n    </tr>\n    <tr>\n      <th>145</th>\n      <td>6.7</td>\n      <td>3.0</td>\n      <td>5.2</td>\n      <td>2.3</td>\n      <td>virginica</td>\n    </tr>\n    <tr>\n      <th>146</th>\n      <td>6.3</td>\n      <td>2.5</td>\n      <td>5.0</td>\n      <td>1.9</td>\n      <td>virginica</td>\n    </tr>\n    <tr>\n      <th>147</th>\n      <td>6.5</td>\n      <td>3.0</td>\n      <td>5.2</td>\n      <td>2.0</td>\n      <td>virginica</td>\n    </tr>\n    <tr>\n      <th>148</th>\n      <td>6.2</td>\n      <td>3.4</td>\n      <td>5.4</td>\n      <td>2.3</td>\n      <td>virginica</td>\n    </tr>\n    <tr>\n      <th>149</th>\n      <td>5.9</td>\n      <td>3.0</td>\n      <td>5.1</td>\n      <td>1.8</td>\n      <td>virginica</td>\n    </tr>\n  </tbody>\n</table>\n<p>150 rows × 5 columns</p>\n</div>"
     },
     "metadata": {},
     "execution_count": 23
    }
   ],
   "source": [
    "df"
   ]
  },
  {
   "cell_type": "code",
   "execution_count": 24,
   "metadata": {},
   "outputs": [],
   "source": [
    "dataset = Dataset.Tabular.from_delimited_files(\n",
    "    path=[(datastore, \"train-dataset/tabular/iris.csv\")]\n",
    ")\n",
    "\n",
    "training_data, validation_data = dataset.random_split(percentage=0.8, seed=42)"
   ]
  },
  {
   "cell_type": "code",
   "execution_count": 25,
   "metadata": {},
   "outputs": [
    {
     "output_type": "execute_result",
     "data": {
      "text/plain": "     sepal length (cm)  sepal width (cm)  petal length (cm)  petal width (cm)  \\\n0                  4.9               3.0                1.4               0.2   \n1                  4.7               3.2                1.3               0.2   \n2                  4.6               3.1                1.5               0.2   \n3                  5.0               3.6                1.4               0.2   \n4                  5.4               3.9                1.7               0.4   \n..                 ...               ...                ...               ...   \n121                6.7               3.0                5.2               2.3   \n122                6.3               2.5                5.0               1.9   \n123                6.5               3.0                5.2               2.0   \n124                6.2               3.4                5.4               2.3   \n125                5.9               3.0                5.1               1.8   \n\n       species  \n0       setosa  \n1       setosa  \n2       setosa  \n3       setosa  \n4       setosa  \n..         ...  \n121  virginica  \n122  virginica  \n123  virginica  \n124  virginica  \n125  virginica  \n\n[126 rows x 5 columns]",
      "text/html": "<div>\n<style scoped>\n    .dataframe tbody tr th:only-of-type {\n        vertical-align: middle;\n    }\n\n    .dataframe tbody tr th {\n        vertical-align: top;\n    }\n\n    .dataframe thead th {\n        text-align: right;\n    }\n</style>\n<table border=\"1\" class=\"dataframe\">\n  <thead>\n    <tr style=\"text-align: right;\">\n      <th></th>\n      <th>sepal length (cm)</th>\n      <th>sepal width (cm)</th>\n      <th>petal length (cm)</th>\n      <th>petal width (cm)</th>\n      <th>species</th>\n    </tr>\n  </thead>\n  <tbody>\n    <tr>\n      <th>0</th>\n      <td>4.9</td>\n      <td>3.0</td>\n      <td>1.4</td>\n      <td>0.2</td>\n      <td>setosa</td>\n    </tr>\n    <tr>\n      <th>1</th>\n      <td>4.7</td>\n      <td>3.2</td>\n      <td>1.3</td>\n      <td>0.2</td>\n      <td>setosa</td>\n    </tr>\n    <tr>\n      <th>2</th>\n      <td>4.6</td>\n      <td>3.1</td>\n      <td>1.5</td>\n      <td>0.2</td>\n      <td>setosa</td>\n    </tr>\n    <tr>\n      <th>3</th>\n      <td>5.0</td>\n      <td>3.6</td>\n      <td>1.4</td>\n      <td>0.2</td>\n      <td>setosa</td>\n    </tr>\n    <tr>\n      <th>4</th>\n      <td>5.4</td>\n      <td>3.9</td>\n      <td>1.7</td>\n      <td>0.4</td>\n      <td>setosa</td>\n    </tr>\n    <tr>\n      <th>...</th>\n      <td>...</td>\n      <td>...</td>\n      <td>...</td>\n      <td>...</td>\n      <td>...</td>\n    </tr>\n    <tr>\n      <th>121</th>\n      <td>6.7</td>\n      <td>3.0</td>\n      <td>5.2</td>\n      <td>2.3</td>\n      <td>virginica</td>\n    </tr>\n    <tr>\n      <th>122</th>\n      <td>6.3</td>\n      <td>2.5</td>\n      <td>5.0</td>\n      <td>1.9</td>\n      <td>virginica</td>\n    </tr>\n    <tr>\n      <th>123</th>\n      <td>6.5</td>\n      <td>3.0</td>\n      <td>5.2</td>\n      <td>2.0</td>\n      <td>virginica</td>\n    </tr>\n    <tr>\n      <th>124</th>\n      <td>6.2</td>\n      <td>3.4</td>\n      <td>5.4</td>\n      <td>2.3</td>\n      <td>virginica</td>\n    </tr>\n    <tr>\n      <th>125</th>\n      <td>5.9</td>\n      <td>3.0</td>\n      <td>5.1</td>\n      <td>1.8</td>\n      <td>virginica</td>\n    </tr>\n  </tbody>\n</table>\n<p>126 rows × 5 columns</p>\n</div>"
     },
     "metadata": {},
     "execution_count": 25
    }
   ],
   "source": [
    "training_data.to_pandas_dataframe()"
   ]
  },
  {
   "cell_type": "code",
   "execution_count": 26,
   "metadata": {},
   "outputs": [
    {
     "output_type": "execute_result",
     "data": {
      "text/plain": "{\n  \"source\": [\n    \"('factset', 'train-dataset/tabular/iris.csv')\"\n  ],\n  \"definition\": [\n    \"GetDatastoreFiles\",\n    \"ParseDelimited\",\n    \"DropColumns\",\n    \"SetColumnTypes\",\n    \"RandomSplit\"\n  ]\n}"
     },
     "metadata": {},
     "execution_count": 26
    }
   ],
   "source": [
    "training_data"
   ]
  },
  {
   "cell_type": "markdown",
   "metadata": {},
   "source": [
    "Defining the remote compute resource that will do the actual training. "
   ]
  },
  {
   "cell_type": "code",
   "execution_count": 27,
   "metadata": {},
   "outputs": [],
   "source": [
    "compute_name = params[\"compute_name\"]\n",
    "\n",
    "compute_target = ComputeTarget(workspace=ws, name=compute_name)"
   ]
  },
  {
   "cell_type": "markdown",
   "metadata": {},
   "source": [
    "# Running the Model "
   ]
  },
  {
   "cell_type": "code",
   "execution_count": 28,
   "metadata": {},
   "outputs": [
    {
     "output_type": "execute_result",
     "data": {
      "text/plain": "['precision_score_weighted',\n 'norm_macro_recall',\n 'AUC_weighted',\n 'average_precision_score_weighted',\n 'accuracy']"
     },
     "metadata": {},
     "execution_count": 28
    }
   ],
   "source": [
    "azureml.train.automl.utilities.get_primary_metrics(\"classification\")"
   ]
  },
  {
   "cell_type": "markdown",
   "metadata": {},
   "source": [
    "All the relevant tags are used in the experiment run. This is important for both QA and keeping track of your model. "
   ]
  },
  {
   "cell_type": "code",
   "execution_count": 30,
   "metadata": {
    "scrolled": true
   },
   "outputs": [],
   "source": [
    "# Tags for experiment documentation\n",
    "tags = {\n",
    "    \"targets\": \"species\",\n",
    "    \"random_state\": 42,\n",
    "    \"description\": description,\n",
    "}"
   ]
  },
  {
   "cell_type": "markdown",
   "metadata": {},
   "source": [
    "The run here is submitted to the cloud where it is run as an experiment. "
   ]
  },
  {
   "cell_type": "code",
   "execution_count": 31,
   "metadata": {
    "tags": []
   },
   "outputs": [
    {
     "output_type": "stream",
     "name": "stdout",
     "text": "Running on remote or ADB.\nWARNING - Converting non-string tag to string: (random_state: 42)\n"
    }
   ],
   "source": [
    "automl_config = AutoMLConfig(\n",
    "    task=\"classification\",\n",
    "    training_data=training_data,\n",
    "    label_column_name=\"species\",\n",
    "    experiment_timeout_minutes=60,\n",
    "    model_explainability=True,\n",
    "    primary_metric=\"accuracy\",\n",
    "    compute_target=compute_target,\n",
    ")\n",
    "\n",
    "run = experiment.submit(config=automl_config, tags=tags)"
   ]
  },
  {
   "cell_type": "markdown",
   "metadata": {},
   "source": [
    "You can click on the URL below to see the run as it is in progress. This will also give you any metadata about that run. "
   ]
  },
  {
   "cell_type": "code",
   "execution_count": 32,
   "metadata": {
    "tags": []
   },
   "outputs": [
    {
     "output_type": "stream",
     "name": "stdout",
     "text": "https://ml.azure.com/experiments/main/runs/AutoML_57a1e0ec-364e-4030-8bcd-d0bed8c9c9f5?wsid=/subscriptions/3465b147-e7ee-497a-8279-774442465d07/resourcegroups/Project_X_Dev/workspaces/pjx-d-cu1-mlw-models\n"
    }
   ],
   "source": [
    "# Uncomment this to get the URL in the web where your data is runing. \n",
    "# print(run.get_portal_url())"
   ]
  },
  {
   "cell_type": "markdown",
   "metadata": {},
   "source": [
    "If you are running in `jupyter notebooks` as opposed to `jupyter lab` the `RunDetails(run).show()` will show a GUID that will demonstrate the results of the experiment and the different KPIs for that run. "
   ]
  },
  {
   "cell_type": "code",
   "execution_count": 33,
   "metadata": {},
   "outputs": [
    {
     "data": {
      "application/vnd.jupyter.widget-view+json": {
       "model_id": "921de6e8171640f6b5d5e9a5cba62180",
       "version_major": 2,
       "version_minor": 0
      },
      "text/plain": "_AutoMLWidget(widget_settings={'childWidgetDisplay': 'popup', 'send_telemetry': False, 'log_level': 'INFO', 's…"
     },
     "metadata": {},
     "output_type": "display_data"
    },
    {
     "data": {
      "application/aml.mini.widget.v1": "{\"status\": \"Preparing\", \"workbench_run_details_uri\": \"https://ml.azure.com/experiments/main/runs/AutoML_57a1e0ec-364e-4030-8bcd-d0bed8c9c9f5?wsid=/subscriptions/3465b147-e7ee-497a-8279-774442465d07/resourcegroups/Project_X_Dev/workspaces/pjx-d-cu1-mlw-models\", \"run_id\": \"AutoML_57a1e0ec-364e-4030-8bcd-d0bed8c9c9f5\", \"run_properties\": {\"run_id\": \"AutoML_57a1e0ec-364e-4030-8bcd-d0bed8c9c9f5\", \"created_utc\": \"2020-08-22T18:29:22.164339Z\", \"properties\": {\"num_iterations\": \"1000\", \"training_type\": \"TrainFull\", \"acquisition_function\": \"EI\", \"primary_metric\": \"accuracy\", \"train_split\": \"0\", \"acquisition_parameter\": \"0\", \"num_cross_validation\": null, \"target\": \"MLWorker1\", \"RawAMLSettingsString\": null, \"AMLSettingsJsonString\": \"{\\\"path\\\":null,\\\"name\\\":\\\"main\\\",\\\"subscription_id\\\":\\\"3465b147-e7ee-497a-8279-774442465d07\\\",\\\"resource_group\\\":\\\"Project_X_Dev\\\",\\\"workspace_name\\\":\\\"pjx-d-cu1-mlw-models\\\",\\\"region\\\":\\\"westus2\\\",\\\"compute_target\\\":\\\"MLWorker1\\\",\\\"spark_service\\\":null,\\\"azure_service\\\":\\\"remote\\\",\\\"_local_managed_run_id\\\":null,\\\"iterations\\\":1000,\\\"primary_metric\\\":\\\"accuracy\\\",\\\"task_type\\\":\\\"classification\\\",\\\"data_script\\\":null,\\\"validation_size\\\":0.0,\\\"n_cross_validations\\\":null,\\\"y_min\\\":null,\\\"y_max\\\":null,\\\"num_classes\\\":null,\\\"featurization\\\":\\\"auto\\\",\\\"_ignore_package_version_incompatibilities\\\":false,\\\"is_timeseries\\\":false,\\\"max_cores_per_iteration\\\":1,\\\"max_concurrent_iterations\\\":1,\\\"iteration_timeout_minutes\\\":null,\\\"mem_in_mb\\\":null,\\\"enforce_time_on_windows\\\":true,\\\"experiment_timeout_minutes\\\":60,\\\"experiment_exit_score\\\":null,\\\"whitelist_models\\\":null,\\\"blacklist_algos\\\":[\\\"TensorFlowLinearClassifier\\\"],\\\"supported_models\\\":[\\\"KNN\\\",\\\"AveragedPerceptronClassifier\\\",\\\"GradientBoosting\\\",\\\"XGBoostClassifier\\\",\\\"BernoulliNaiveBayes\\\",\\\"LightGBM\\\",\\\"RandomForest\\\",\\\"LogisticRegression\\\",\\\"LinearSVM\\\",\\\"MultinomialNaiveBayes\\\",\\\"ExtremeRandomTrees\\\",\\\"SVM\\\",\\\"TensorFlowDNN\\\",\\\"TensorFlowLinearClassifier\\\",\\\"DecisionTree\\\",\\\"SGD\\\"],\\\"auto_blacklist\\\":true,\\\"blacklist_samples_reached\\\":false,\\\"exclude_nan_labels\\\":true,\\\"verbosity\\\":20,\\\"_debug_log\\\":\\\"azureml_automl.log\\\",\\\"show_warnings\\\":false,\\\"model_explainability\\\":true,\\\"service_url\\\":null,\\\"sdk_url\\\":null,\\\"sdk_packages\\\":null,\\\"enable_onnx_compatible_models\\\":false,\\\"enable_split_onnx_featurizer_estimator_models\\\":false,\\\"vm_type\\\":\\\"STANDARD_D3_V2\\\",\\\"telemetry_verbosity\\\":20,\\\"send_telemetry\\\":true,\\\"enable_dnn\\\":false,\\\"force_text_dnn\\\":false,\\\"enable_feature_sweeping\\\":true,\\\"enable_early_stopping\\\":false,\\\"early_stopping_n_iters\\\":10,\\\"metrics\\\":null,\\\"enable_ensembling\\\":true,\\\"enable_stack_ensembling\\\":true,\\\"ensemble_iterations\\\":15,\\\"enable_tf\\\":false,\\\"enable_subsampling\\\":null,\\\"subsample_seed\\\":null,\\\"enable_nimbusml\\\":false,\\\"enable_streaming\\\":false,\\\"force_streaming\\\":false,\\\"track_child_runs\\\":true,\\\"label_column_name\\\":\\\"species\\\",\\\"weight_column_name\\\":null,\\\"cv_split_column_names\\\":null,\\\"enable_local_managed\\\":false,\\\"cost_mode\\\":1,\\\"lag_length\\\":0,\\\"metric_operation\\\":\\\"maximize\\\",\\\"preprocess\\\":true,\\\"scenario\\\":\\\"SDK-Compatible\\\"}\", \"DataPrepJsonString\": \"{\\\\\\\"training_data\\\\\\\": \\\\\\\"{\\\\\\\\\\\\\\\"blocks\\\\\\\\\\\\\\\": [{\\\\\\\\\\\\\\\"id\\\\\\\\\\\\\\\": \\\\\\\\\\\\\\\"75ed2c98-0679-4762-a30e-9a0dbb89daad\\\\\\\\\\\\\\\", \\\\\\\\\\\\\\\"type\\\\\\\\\\\\\\\": \\\\\\\\\\\\\\\"Microsoft.DPrep.GetDatastoreFilesBlock\\\\\\\\\\\\\\\", \\\\\\\\\\\\\\\"arguments\\\\\\\\\\\\\\\": {\\\\\\\\\\\\\\\"datastores\\\\\\\\\\\\\\\": [{\\\\\\\\\\\\\\\"datastoreName\\\\\\\\\\\\\\\": \\\\\\\\\\\\\\\"factset\\\\\\\\\\\\\\\", \\\\\\\\\\\\\\\"path\\\\\\\\\\\\\\\": \\\\\\\\\\\\\\\"train-dataset/tabular/iris.csv\\\\\\\\\\\\\\\", \\\\\\\\\\\\\\\"resourceGroup\\\\\\\\\\\\\\\": \\\\\\\\\\\\\\\"Project_X_Dev\\\\\\\\\\\\\\\", \\\\\\\\\\\\\\\"subscription\\\\\\\\\\\\\\\": \\\\\\\\\\\\\\\"3465b147-e7ee-497a-8279-774442465d07\\\\\\\\\\\\\\\", \\\\\\\\\\\\\\\"workspaceName\\\\\\\\\\\\\\\": \\\\\\\\\\\\\\\"pjx-d-cu1-mlw-models\\\\\\\\\\\\\\\"}]}, \\\\\\\\\\\\\\\"localData\\\\\\\\\\\\\\\": {}, \\\\\\\\\\\\\\\"isEnabled\\\\\\\\\\\\\\\": true, \\\\\\\\\\\\\\\"name\\\\\\\\\\\\\\\": null, \\\\\\\\\\\\\\\"annotation\\\\\\\\\\\\\\\": null}, {\\\\\\\\\\\\\\\"id\\\\\\\\\\\\\\\": \\\\\\\\\\\\\\\"242176b5-6cd0-401c-9ea9-44a1c5cafcbd\\\\\\\\\\\\\\\", \\\\\\\\\\\\\\\"type\\\\\\\\\\\\\\\": \\\\\\\\\\\\\\\"Microsoft.DPrep.ParseDelimitedBlock\\\\\\\\\\\\\\\", \\\\\\\\\\\\\\\"arguments\\\\\\\\\\\\\\\": {\\\\\\\\\\\\\\\"columnHeadersMode\\\\\\\\\\\\\\\": 3, \\\\\\\\\\\\\\\"fileEncoding\\\\\\\\\\\\\\\": 0, \\\\\\\\\\\\\\\"handleQuotedLineBreaks\\\\\\\\\\\\\\\": false, \\\\\\\\\\\\\\\"preview\\\\\\\\\\\\\\\": false, \\\\\\\\\\\\\\\"separator\\\\\\\\\\\\\\\": \\\\\\\\\\\\\\\",\\\\\\\\\\\\\\\", \\\\\\\\\\\\\\\"skipRows\\\\\\\\\\\\\\\": 0, \\\\\\\\\\\\\\\"skipRowsMode\\\\\\\\\\\\\\\": 0}, \\\\\\\\\\\\\\\"localData\\\\\\\\\\\\\\\": {}, \\\\\\\\\\\\\\\"isEnabled\\\\\\\\\\\\\\\": true, \\\\\\\\\\\\\\\"name\\\\\\\\\\\\\\\": null, \\\\\\\\\\\\\\\"annotation\\\\\\\\\\\\\\\": null}, {\\\\\\\\\\\\\\\"id\\\\\\\\\\\\\\\": \\\\\\\\\\\\\\\"c318ef5c-58a4-4415-a783-08fab779a184\\\\\\\\\\\\\\\", \\\\\\\\\\\\\\\"type\\\\\\\\\\\\\\\": \\\\\\\\\\\\\\\"Microsoft.DPrep.DropColumnsBlock\\\\\\\\\\\\\\\", \\\\\\\\\\\\\\\"arguments\\\\\\\\\\\\\\\": {\\\\\\\\\\\\\\\"columns\\\\\\\\\\\\\\\": {\\\\\\\\\\\\\\\"type\\\\\\\\\\\\\\\": 0, \\\\\\\\\\\\\\\"details\\\\\\\\\\\\\\\": {\\\\\\\\\\\\\\\"selectedColumns\\\\\\\\\\\\\\\": [\\\\\\\\\\\\\\\"Path\\\\\\\\\\\\\\\"]}}}, \\\\\\\\\\\\\\\"localData\\\\\\\\\\\\\\\": {}, \\\\\\\\\\\\\\\"isEnabled\\\\\\\\\\\\\\\": true, \\\\\\\\\\\\\\\"name\\\\\\\\\\\\\\\": null, \\\\\\\\\\\\\\\"annotation\\\\\\\\\\\\\\\": null}, {\\\\\\\\\\\\\\\"id\\\\\\\\\\\\\\\": \\\\\\\\\\\\\\\"c49c1ff2-340c-43cc-a2a7-5668a2d5d718\\\\\\\\\\\\\\\", \\\\\\\\\\\\\\\"type\\\\\\\\\\\\\\\": \\\\\\\\\\\\\\\"Microsoft.DPrep.SetColumnTypesBlock\\\\\\\\\\\\\\\", \\\\\\\\\\\\\\\"arguments\\\\\\\\\\\\\\\": {\\\\\\\\\\\\\\\"columnConversion\\\\\\\\\\\\\\\": [{\\\\\\\\\\\\\\\"column\\\\\\\\\\\\\\\": {\\\\\\\\\\\\\\\"type\\\\\\\\\\\\\\\": 2, \\\\\\\\\\\\\\\"details\\\\\\\\\\\\\\\": {\\\\\\\\\\\\\\\"selectedColumn\\\\\\\\\\\\\\\": \\\\\\\\\\\\\\\"sepal length (cm)\\\\\\\\\\\\\\\"}}, \\\\\\\\\\\\\\\"typeProperty\\\\\\\\\\\\\\\": 3}, {\\\\\\\\\\\\\\\"column\\\\\\\\\\\\\\\": {\\\\\\\\\\\\\\\"type\\\\\\\\\\\\\\\": 2, \\\\\\\\\\\\\\\"details\\\\\\\\\\\\\\\": {\\\\\\\\\\\\\\\"selectedColumn\\\\\\\\\\\\\\\": \\\\\\\\\\\\\\\"sepal width (cm)\\\\\\\\\\\\\\\"}}, \\\\\\\\\\\\\\\"typeProperty\\\\\\\\\\\\\\\": 3}, {\\\\\\\\\\\\\\\"column\\\\\\\\\\\\\\\": {\\\\\\\\\\\\\\\"type\\\\\\\\\\\\\\\": 2, \\\\\\\\\\\\\\\"details\\\\\\\\\\\\\\\": {\\\\\\\\\\\\\\\"selectedColumn\\\\\\\\\\\\\\\": \\\\\\\\\\\\\\\"petal length (cm)\\\\\\\\\\\\\\\"}}, \\\\\\\\\\\\\\\"typeProperty\\\\\\\\\\\\\\\": 3}, {\\\\\\\\\\\\\\\"column\\\\\\\\\\\\\\\": {\\\\\\\\\\\\\\\"type\\\\\\\\\\\\\\\": 2, \\\\\\\\\\\\\\\"details\\\\\\\\\\\\\\\": {\\\\\\\\\\\\\\\"selectedColumn\\\\\\\\\\\\\\\": \\\\\\\\\\\\\\\"petal width (cm)\\\\\\\\\\\\\\\"}}, \\\\\\\\\\\\\\\"typeProperty\\\\\\\\\\\\\\\": 3}, {\\\\\\\\\\\\\\\"column\\\\\\\\\\\\\\\": {\\\\\\\\\\\\\\\"type\\\\\\\\\\\\\\\": 2, \\\\\\\\\\\\\\\"details\\\\\\\\\\\\\\\": {\\\\\\\\\\\\\\\"selectedColumn\\\\\\\\\\\\\\\": \\\\\\\\\\\\\\\"species\\\\\\\\\\\\\\\"}}, \\\\\\\\\\\\\\\"typeProperty\\\\\\\\\\\\\\\": 0}]}, \\\\\\\\\\\\\\\"localData\\\\\\\\\\\\\\\": {}, \\\\\\\\\\\\\\\"isEnabled\\\\\\\\\\\\\\\": true, \\\\\\\\\\\\\\\"name\\\\\\\\\\\\\\\": null, \\\\\\\\\\\\\\\"annotation\\\\\\\\\\\\\\\": null}, {\\\\\\\\\\\\\\\"id\\\\\\\\\\\\\\\": \\\\\\\\\\\\\\\"bcc61b95-475c-493a-9182-21b306bd76b6\\\\\\\\\\\\\\\", \\\\\\\\\\\\\\\"type\\\\\\\\\\\\\\\": \\\\\\\\\\\\\\\"Microsoft.DPrep.RandomSplitBlock\\\\\\\\\\\\\\\", \\\\\\\\\\\\\\\"arguments\\\\\\\\\\\\\\\": {\\\\\\\\\\\\\\\"probability\\\\\\\\\\\\\\\": 0.8, \\\\\\\\\\\\\\\"seed\\\\\\\\\\\\\\\": 42}, \\\\\\\\\\\\\\\"localData\\\\\\\\\\\\\\\": {}, \\\\\\\\\\\\\\\"isEnabled\\\\\\\\\\\\\\\": true, \\\\\\\\\\\\\\\"name\\\\\\\\\\\\\\\": null, \\\\\\\\\\\\\\\"annotation\\\\\\\\\\\\\\\": null}], \\\\\\\\\\\\\\\"inspectors\\\\\\\\\\\\\\\": [], \\\\\\\\\\\\\\\"meta\\\\\\\\\\\\\\\": {\\\\\\\\\\\\\\\"savedDatasetId\\\\\\\\\\\\\\\": \\\\\\\\\\\\\\\"a716fd4f-ee2b-449d-bbae-30ba03050de5\\\\\\\\\\\\\\\", \\\\\\\\\\\\\\\"datasetType\\\\\\\\\\\\\\\": \\\\\\\\\\\\\\\"tabular\\\\\\\\\\\\\\\", \\\\\\\\\\\\\\\"subscriptionId\\\\\\\\\\\\\\\": \\\\\\\\\\\\\\\"3465b147-e7ee-497a-8279-774442465d07\\\\\\\\\\\\\\\", \\\\\\\\\\\\\\\"workspaceId\\\\\\\\\\\\\\\": \\\\\\\\\\\\\\\"567c39d2-5be1-4ef7-a33a-174058c32a34\\\\\\\\\\\\\\\", \\\\\\\\\\\\\\\"workspaceLocation\\\\\\\\\\\\\\\": \\\\\\\\\\\\\\\"westus2\\\\\\\\\\\\\\\"}}\\\\\\\", \\\\\\\"activities\\\\\\\": 0}\", \"EnableSubsampling\": null, \"runTemplate\": \"AutoML\", \"azureml.runsource\": \"automl\", \"display_task_type\": \"classification\", \"dependencies_versions\": \"{\\\"azureml-widgets\\\": \\\"1.11.0\\\", \\\"azureml-train\\\": \\\"1.11.0\\\", \\\"azureml-train-restclients-hyperdrive\\\": \\\"1.11.0\\\", \\\"azureml-train-core\\\": \\\"1.11.0\\\", \\\"azureml-train-automl\\\": \\\"1.11.0\\\", \\\"azureml-train-automl-runtime\\\": \\\"1.11.0.post1\\\", \\\"azureml-train-automl-client\\\": \\\"1.11.0\\\", \\\"azureml-telemetry\\\": \\\"1.11.0\\\", \\\"azureml-sdk\\\": \\\"1.11.0\\\", \\\"azureml-pipeline\\\": \\\"1.11.0\\\", \\\"azureml-pipeline-steps\\\": \\\"1.11.0\\\", \\\"azureml-pipeline-core\\\": \\\"1.11.0\\\", \\\"azureml-model-management-sdk\\\": \\\"1.0.1b6.post1\\\", \\\"azureml-interpret\\\": \\\"1.11.0\\\", \\\"azureml-explain-model\\\": \\\"1.11.0\\\", \\\"azureml-defaults\\\": \\\"1.11.0\\\", \\\"azureml-dataset-runtime\\\": \\\"1.11.0.post1\\\", \\\"azureml-dataprep\\\": \\\"2.0.2\\\", \\\"azureml-dataprep-native\\\": \\\"14.2.1\\\", \\\"azureml-core\\\": \\\"1.11.0\\\", \\\"azureml-contrib-notebook\\\": \\\"1.11.0\\\", \\\"azureml-automl-runtime\\\": \\\"1.11.0\\\", \\\"azureml-automl-core\\\": \\\"1.11.0\\\"}\", \"ClientSdkVersion\": \"1.11.0\", \"ClientType\": \"SDK\", \"environment_cpu_name\": \"AzureML-AutoML\", \"environment_cpu_version\": \"30\", \"environment_gpu_name\": \"AzureML-AutoML-GPU\", \"environment_gpu_version\": \"19\", \"root_attribution\": \"automl\", \"attribution\": \"AutoML\", \"CancelUri\": \"https://westus2.experiments.azureml.net/jasmine/v1.0/subscriptions/3465b147-e7ee-497a-8279-774442465d07/resourceGroups/Project_X_Dev/providers/Microsoft.MachineLearningServices/workspaces/pjx-d-cu1-mlw-models/experiment/main/cancel/AutoML_57a1e0ec-364e-4030-8bcd-d0bed8c9c9f5\", \"Orchestrator\": \"AutoML\", \"ContentSnapshotId\": \"262383a2-fc5f-4436-af99-ca389cd20045\", \"azureml.git.repository_uri\": \"https://github.com/BillmanH/learn-azureml.git\", \"mlflow.source.git.repoURL\": \"https://github.com/BillmanH/learn-azureml.git\", \"azureml.git.branch\": \"main\", \"mlflow.source.git.branch\": \"main\", \"azureml.git.commit\": \"6cb802659b36db433977160baadbbb151c4af89c\", \"mlflow.source.git.commit\": \"6cb802659b36db433977160baadbbb151c4af89c\", \"azureml.git.dirty\": \"True\", \"SetupRunId\": \"AutoML_57a1e0ec-364e-4030-8bcd-d0bed8c9c9f5_setup\", \"SetupRunContainerId\": \"dcid.AutoML_57a1e0ec-364e-4030-8bcd-d0bed8c9c9f5_setup\"}, \"tags\": {\"model_explain_run\": \"best_run\", \"azureml.automlComponent\": \"AutoML\", \"targets\": \"species\", \"random_state\": \"42\", \"description\": \"experience testing for training course\"}, \"end_time_utc\": null, \"status\": \"Preparing\", \"log_files\": {}, \"log_groups\": [], \"run_duration\": \"0:00:47\"}, \"child_runs\": [], \"children_metrics\": {}, \"run_metrics\": [], \"run_logs\": \"Your job is submitted in Azure cloud and we are monitoring to get logs...\", \"graph\": {}, \"widget_settings\": {\"childWidgetDisplay\": \"popup\", \"send_telemetry\": false, \"log_level\": \"INFO\", \"sdk_version\": \"1.11.0\"}, \"loading\": false}"
     },
     "metadata": {},
     "output_type": "display_data"
    }
   ],
   "source": [
    "RunDetails(run).show()"
   ]
  },
  {
   "cell_type": "markdown",
   "metadata": {},
   "source": [
    "Don't get too excited about that readout. It doesn't work well and may not work in all versions. "
   ]
  },
  {
   "cell_type": "markdown",
   "metadata": {},
   "source": [
    "This command will pause the kernel until the run comes back successfully. This is not required as the run can take a long time to complete. However, this is a good way to run the entire script from start to finish. "
   ]
  },
  {
   "cell_type": "code",
   "execution_count": 23,
   "metadata": {},
   "outputs": [
    {
     "name": "stdout",
     "output_type": "stream",
     "text": [
      "\n",
      "****************************************************************************************************\n",
      "ITERATION: The iteration being evaluated.\n",
      "PIPELINE: A summary description of the pipeline being evaluated.\n",
      "DURATION: Time taken for the current iteration.\n",
      "METRIC: The result of computing score on the fitted pipeline.\n",
      "BEST: The best observed score thus far.\n",
      "****************************************************************************************************\n",
      "\n",
      " ITERATION   PIPELINE                                       DURATION      METRIC      BEST\n",
      "         0   MaxAbsScaler LightGBM                          0:00:44       0.9372    0.9372\n",
      "         1   MinMaxScaler SGD                               0:00:52       0.8750    0.9372\n",
      "         2   StandardScalerWrapper ExtremeRandomTrees       0:00:43       0.9679    0.9679\n",
      "         3   MinMaxScaler SGD                               0:00:44       0.6974    0.9679\n",
      "         4   RobustScaler ExtremeRandomTrees                0:00:44       0.8833    0.9679\n",
      "         5   StandardScalerWrapper SGD                      0:00:44       0.8282    0.9679\n",
      "         6   StandardScalerWrapper SGD                      0:00:45       0.9135    0.9679\n",
      "         7   RobustScaler BernoulliNaiveBayes               0:00:44       0.9526    0.9679\n",
      "         8   StandardScalerWrapper RandomForest             0:00:50       0.9609    0.9679\n",
      "         9   MinMaxScaler ExtremeRandomTrees                0:00:44       0.9455    0.9679\n",
      "        10   MinMaxScaler SGD                               0:00:44       0.7455    0.9679\n",
      "        11   MinMaxScaler RandomForest                      0:00:41       0.9532    0.9679\n",
      "        12   StandardScalerWrapper ExtremeRandomTrees       0:00:43       0.8981    0.9679\n",
      "        13   MinMaxScaler SGD                               0:00:44       0.8519    0.9679\n",
      "        14   StandardScalerWrapper SGD                      0:00:44       0.7962    0.9679\n",
      "        15   MinMaxScaler RandomForest                      0:00:49       0.9526    0.9679\n",
      "        16   StandardScalerWrapper RandomForest             0:00:45       0.9455    0.9679\n",
      "        17   StandardScalerWrapper RandomForest             0:00:45       0.9218    0.9679\n",
      "        18   StandardScalerWrapper SGD                      0:00:43       0.8276    0.9679\n",
      "        19   StandardScalerWrapper ExtremeRandomTrees       0:00:47       0.9455    0.9679\n",
      "        20   MinMaxScaler RandomForest                      0:00:46       0.9449    0.9679\n",
      "        21   SparseNormalizer LogisticRegression            0:00:47       0.9526    0.9679\n",
      "        22   MaxAbsScaler ExtremeRandomTrees                0:00:43       0.9147    0.9679\n",
      "        23   TruncatedSVDWrapper LogisticRegression         0:00:45       0.7795    0.9679\n",
      "        24   TruncatedSVDWrapper ExtremeRandomTrees         0:00:46       0.9532    0.9679\n",
      "        25   MaxAbsScaler ExtremeRandomTrees                0:00:46       0.3032    0.9679\n",
      "        26   StandardScalerWrapper LightGBM                 0:00:44       0.9455    0.9679\n",
      "        27   SparseNormalizer ExtremeRandomTrees            0:00:49       0.9769    0.9769\n",
      "        28   RobustScaler ExtremeRandomTrees                0:00:44       0.9532    0.9769\n",
      "        29   MaxAbsScaler LightGBM                          0:00:46       0.9365    0.9769\n",
      "        30   MaxAbsScaler ExtremeRandomTrees                0:00:47       0.9071    0.9769\n",
      "        31   MaxAbsScaler GradientBoosting                  0:00:56       0.9449    0.9769\n",
      "        32   StandardScalerWrapper LightGBM                 0:00:49       0.9449    0.9769\n",
      "        33   StandardScalerWrapper ExtremeRandomTrees       0:00:55       0.9449    0.9769\n",
      "        34   MaxAbsScaler ExtremeRandomTrees                0:00:45       0.9532    0.9769\n",
      "        35   StandardScalerWrapper ExtremeRandomTrees       0:01:00       0.8827    0.9769\n",
      "        36   MaxAbsScaler LightGBM                          0:00:55       0.9532    0.9769\n",
      "        37   SparseNormalizer LightGBM                      0:00:47       0.9295    0.9769\n",
      "        38   SparseNormalizer LightGBM                      0:00:52       0.9372    0.9769\n",
      "        39   SparseNormalizer LightGBM                      0:00:51       0.9526    0.9769\n",
      "        40   StandardScalerWrapper ExtremeRandomTrees       0:00:44       0.8673    0.9769\n",
      "        41   SparseNormalizer LightGBM                      0:00:44       0.9538    0.9769\n",
      "        42   StandardScalerWrapper LightGBM                 0:00:47       0.9532    0.9769\n",
      "        43   MaxAbsScaler LightGBM                          0:00:43       0.9532    0.9769\n",
      "        44   StandardScalerWrapper LightGBM                 0:00:52       0.9532    0.9769\n",
      "        45   StandardScalerWrapper ExtremeRandomTrees       0:00:42       0.4532    0.9769\n",
      "        46   MaxAbsScaler RandomForest                      0:00:49       0.9455    0.9769\n",
      "        47   MaxAbsScaler ExtremeRandomTrees                0:00:49       0.9455    0.9769\n",
      "        48   SparseNormalizer LightGBM                      0:00:49       0.9372    0.9769\n",
      "        49   TruncatedSVDWrapper ExtremeRandomTrees         0:00:58       0.9449    0.9769\n",
      "        50   StandardScalerWrapper ExtremeRandomTrees       0:00:55       0.9532    0.9769\n",
      "        51   StandardScalerWrapper LightGBM                 0:00:42       0.9449    0.9769\n",
      "        52   SparseNormalizer LightGBM                      0:00:46       0.9372    0.9769\n",
      "        53   MaxAbsScaler LightGBM                          0:00:49       0.9372    0.9769\n",
      "        54   MaxAbsScaler LightGBM                          0:00:53       0.9449    0.9769\n",
      "        55   SparseNormalizer ExtremeRandomTrees            0:00:45       0.8667    0.9769\n",
      "        56   StandardScalerWrapper LogisticRegression       0:01:03       0.9532    0.9769\n",
      "        57   StandardScalerWrapper LightGBM                 0:00:50       0.9372    0.9769\n",
      "        58   SparseNormalizer LightGBM                      0:00:51       0.9455    0.9769\n",
      "        59   SparseNormalizer LightGBM                      0:00:59       0.9372    0.9769\n",
      "        60   StandardScalerWrapper ExtremeRandomTrees       0:00:50       0.9532    0.9769\n",
      "        61   MaxAbsScaler LightGBM                          0:00:44       0.9449    0.9769\n",
      "        62   MaxAbsScaler RandomForest                      0:00:51       0.9532    0.9769\n",
      "        63   StandardScalerWrapper LightGBM                 0:00:42          nan    0.9769\n",
      "        64    VotingEnsemble                                0:01:14       0.9769    0.9769\n",
      "        65    StackEnsemble                                 0:01:12       0.9769    0.9769\n",
      "\n",
      "Execution Summary\n",
      "=================\n",
      "RunId: AutoML_efd15a94-1101-4567-9b3c-b16273cdb682\n",
      "\n"
     ]
    }
   ],
   "source": [
    "# uncomment to run\n",
    "results = run.wait_for_completion(show_output=True)"
   ]
  },
  {
   "cell_type": "markdown",
   "metadata": {},
   "source": [
    "You can see the success of the run on various models, plus the link to the azure portal where you can see the results of **all** of the runs that have been created thus far. It will also show you all the models that it used and the performance of each. There is a lot more detail on the experiment runs in the Azure portal. "
   ]
  },
  {
   "cell_type": "markdown",
   "metadata": {},
   "source": [
    "## Getting the best model out of our experiment\n",
    "\n",
    "The best run is usually some kind of `VotingEnsemble`\n",
    "\n",
    "* AzureML provides us with get_output() to get the best pipeline from the iterations of our experiment<br/>\n",
    "* You can also fetch a specific model by getting the run id from the azure portal. \n",
    "* We then save the best run and best fitted model from this pipeline<br/>\n",
    "[AzureML-Retrieve the best model](https://docs.microsoft.com/en-us/azure/machine-learning/service/tutorial-auto-train-models#retrieve-the-best-model)\n",
    "\n",
    "You can pull any model using a specific run id from the Azure portal. "
   ]
  },
  {
   "cell_type": "code",
   "execution_count": 24,
   "metadata": {},
   "outputs": [
    {
     "name": "stdout",
     "output_type": "stream",
     "text": [
      "Run(Experiment: workshop,\n",
      "Id: AutoML_efd15a94-1101-4567-9b3c-b16273cdb682_65,\n",
      "Type: azureml.scriptrun,\n",
      "Status: Completed)\n",
      "Pipeline(memory=None,\n",
      "     steps=[('stackensembleclassifier', StackEnsembleClassifier(base_learners=[('27', PipelineWithYTransformations(Pipeline={'memory': None, 'steps': [('SparseNormalizer', <automl.client.core.runtime.model_wrappers.SparseNormalizer object at 0x000001EE75BC3F28>), ('ExtraTreesClassifier', ExtraTreesClassi...olver='warn',\n",
      "          tol=0.0001, verbose=0, warm_start=False),\n",
      "            training_cv_folds=5))])\n",
      "Y_transformer(['LabelEncoder', LabelEncoder()])\n"
     ]
    }
   ],
   "source": [
    "best_run, fitted_model = run.get_output()\n",
    "print(best_run)\n",
    "print(fitted_model)"
   ]
  },
  {
   "cell_type": "code",
   "execution_count": 25,
   "metadata": {},
   "outputs": [
    {
     "data": {
      "text/html": [
       "<div>\n",
       "<style scoped>\n",
       "    .dataframe tbody tr th:only-of-type {\n",
       "        vertical-align: middle;\n",
       "    }\n",
       "\n",
       "    .dataframe tbody tr th {\n",
       "        vertical-align: top;\n",
       "    }\n",
       "\n",
       "    .dataframe thead th {\n",
       "        text-align: right;\n",
       "    }\n",
       "</style>\n",
       "<table border=\"1\" class=\"dataframe\">\n",
       "  <thead>\n",
       "    <tr style=\"text-align: right;\">\n",
       "      <th></th>\n",
       "      <th>sepal length (cm)</th>\n",
       "      <th>sepal width (cm)</th>\n",
       "      <th>petal length (cm)</th>\n",
       "      <th>petal width (cm)</th>\n",
       "      <th>species</th>\n",
       "    </tr>\n",
       "  </thead>\n",
       "  <tbody>\n",
       "    <tr>\n",
       "      <th>0</th>\n",
       "      <td>5.10</td>\n",
       "      <td>3.50</td>\n",
       "      <td>1.40</td>\n",
       "      <td>0.20</td>\n",
       "      <td>setosa</td>\n",
       "    </tr>\n",
       "    <tr>\n",
       "      <th>1</th>\n",
       "      <td>4.80</td>\n",
       "      <td>3.40</td>\n",
       "      <td>1.60</td>\n",
       "      <td>0.20</td>\n",
       "      <td>setosa</td>\n",
       "    </tr>\n",
       "    <tr>\n",
       "      <th>2</th>\n",
       "      <td>5.70</td>\n",
       "      <td>4.40</td>\n",
       "      <td>1.50</td>\n",
       "      <td>0.40</td>\n",
       "      <td>setosa</td>\n",
       "    </tr>\n",
       "    <tr>\n",
       "      <th>3</th>\n",
       "      <td>5.10</td>\n",
       "      <td>3.70</td>\n",
       "      <td>1.50</td>\n",
       "      <td>0.40</td>\n",
       "      <td>setosa</td>\n",
       "    </tr>\n",
       "    <tr>\n",
       "      <th>4</th>\n",
       "      <td>5.00</td>\n",
       "      <td>3.00</td>\n",
       "      <td>1.60</td>\n",
       "      <td>0.20</td>\n",
       "      <td>setosa</td>\n",
       "    </tr>\n",
       "    <tr>\n",
       "      <th>...</th>\n",
       "      <td>...</td>\n",
       "      <td>...</td>\n",
       "      <td>...</td>\n",
       "      <td>...</td>\n",
       "      <td>...</td>\n",
       "    </tr>\n",
       "    <tr>\n",
       "      <th>19</th>\n",
       "      <td>6.40</td>\n",
       "      <td>3.20</td>\n",
       "      <td>5.30</td>\n",
       "      <td>2.30</td>\n",
       "      <td>virginica</td>\n",
       "    </tr>\n",
       "    <tr>\n",
       "      <th>20</th>\n",
       "      <td>6.40</td>\n",
       "      <td>2.80</td>\n",
       "      <td>5.60</td>\n",
       "      <td>2.20</td>\n",
       "      <td>virginica</td>\n",
       "    </tr>\n",
       "    <tr>\n",
       "      <th>21</th>\n",
       "      <td>6.10</td>\n",
       "      <td>2.60</td>\n",
       "      <td>5.60</td>\n",
       "      <td>1.40</td>\n",
       "      <td>virginica</td>\n",
       "    </tr>\n",
       "    <tr>\n",
       "      <th>22</th>\n",
       "      <td>6.30</td>\n",
       "      <td>3.40</td>\n",
       "      <td>5.60</td>\n",
       "      <td>2.40</td>\n",
       "      <td>virginica</td>\n",
       "    </tr>\n",
       "    <tr>\n",
       "      <th>23</th>\n",
       "      <td>6.40</td>\n",
       "      <td>3.10</td>\n",
       "      <td>5.50</td>\n",
       "      <td>1.80</td>\n",
       "      <td>virginica</td>\n",
       "    </tr>\n",
       "  </tbody>\n",
       "</table>\n",
       "<p>24 rows × 5 columns</p>\n",
       "</div>"
      ],
      "text/plain": [
       "    sepal length (cm)  sepal width (cm)  petal length (cm)  petal width (cm)  \\\n",
       "0                5.10              3.50               1.40              0.20   \n",
       "1                4.80              3.40               1.60              0.20   \n",
       "2                5.70              4.40               1.50              0.40   \n",
       "3                5.10              3.70               1.50              0.40   \n",
       "4                5.00              3.00               1.60              0.20   \n",
       "..                ...               ...                ...               ...   \n",
       "19               6.40              3.20               5.30              2.30   \n",
       "20               6.40              2.80               5.60              2.20   \n",
       "21               6.10              2.60               5.60              1.40   \n",
       "22               6.30              3.40               5.60              2.40   \n",
       "23               6.40              3.10               5.50              1.80   \n",
       "\n",
       "      species  \n",
       "0      setosa  \n",
       "1      setosa  \n",
       "2      setosa  \n",
       "3      setosa  \n",
       "4      setosa  \n",
       "..        ...  \n",
       "19  virginica  \n",
       "20  virginica  \n",
       "21  virginica  \n",
       "22  virginica  \n",
       "23  virginica  \n",
       "\n",
       "[24 rows x 5 columns]"
      ]
     },
     "execution_count": 25,
     "metadata": {},
     "output_type": "execute_result"
    }
   ],
   "source": [
    "df_test = validation_data.to_pandas_dataframe()\n",
    "df_test"
   ]
  },
  {
   "cell_type": "markdown",
   "metadata": {},
   "source": [
    "## Testing the model against new data\n",
    "\n",
    "Before training the model, we put aside a certain amount of data with `validation_data`. Now that the model selection is complete, we can use that set to determine how well the model performs against net new companies (companies that it has never seen data for). If the model is _good_ it should predict close to the same as the known amount.   "
   ]
  },
  {
   "cell_type": "code",
   "execution_count": 32,
   "metadata": {},
   "outputs": [
    {
     "data": {
      "text/html": [
       "<div>\n",
       "<style scoped>\n",
       "    .dataframe tbody tr th:only-of-type {\n",
       "        vertical-align: middle;\n",
       "    }\n",
       "\n",
       "    .dataframe tbody tr th {\n",
       "        vertical-align: top;\n",
       "    }\n",
       "\n",
       "    .dataframe thead th {\n",
       "        text-align: right;\n",
       "    }\n",
       "</style>\n",
       "<table border=\"1\" class=\"dataframe\">\n",
       "  <thead>\n",
       "    <tr style=\"text-align: right;\">\n",
       "      <th></th>\n",
       "      <th>actual</th>\n",
       "      <th>predicted</th>\n",
       "      <th>err</th>\n",
       "    </tr>\n",
       "  </thead>\n",
       "  <tbody>\n",
       "    <tr>\n",
       "      <th>0</th>\n",
       "      <td>setosa</td>\n",
       "      <td>setosa</td>\n",
       "      <td>True</td>\n",
       "    </tr>\n",
       "    <tr>\n",
       "      <th>21</th>\n",
       "      <td>virginica</td>\n",
       "      <td>virginica</td>\n",
       "      <td>True</td>\n",
       "    </tr>\n",
       "    <tr>\n",
       "      <th>20</th>\n",
       "      <td>virginica</td>\n",
       "      <td>virginica</td>\n",
       "      <td>True</td>\n",
       "    </tr>\n",
       "    <tr>\n",
       "      <th>19</th>\n",
       "      <td>virginica</td>\n",
       "      <td>virginica</td>\n",
       "      <td>True</td>\n",
       "    </tr>\n",
       "    <tr>\n",
       "      <th>18</th>\n",
       "      <td>virginica</td>\n",
       "      <td>virginica</td>\n",
       "      <td>True</td>\n",
       "    </tr>\n",
       "    <tr>\n",
       "      <th>...</th>\n",
       "      <td>...</td>\n",
       "      <td>...</td>\n",
       "      <td>...</td>\n",
       "    </tr>\n",
       "    <tr>\n",
       "      <th>3</th>\n",
       "      <td>setosa</td>\n",
       "      <td>setosa</td>\n",
       "      <td>True</td>\n",
       "    </tr>\n",
       "    <tr>\n",
       "      <th>2</th>\n",
       "      <td>setosa</td>\n",
       "      <td>setosa</td>\n",
       "      <td>True</td>\n",
       "    </tr>\n",
       "    <tr>\n",
       "      <th>1</th>\n",
       "      <td>setosa</td>\n",
       "      <td>setosa</td>\n",
       "      <td>True</td>\n",
       "    </tr>\n",
       "    <tr>\n",
       "      <th>22</th>\n",
       "      <td>virginica</td>\n",
       "      <td>virginica</td>\n",
       "      <td>True</td>\n",
       "    </tr>\n",
       "    <tr>\n",
       "      <th>23</th>\n",
       "      <td>virginica</td>\n",
       "      <td>virginica</td>\n",
       "      <td>True</td>\n",
       "    </tr>\n",
       "  </tbody>\n",
       "</table>\n",
       "<p>24 rows × 3 columns</p>\n",
       "</div>"
      ],
      "text/plain": [
       "       actual  predicted   err\n",
       "0      setosa     setosa  True\n",
       "21  virginica  virginica  True\n",
       "20  virginica  virginica  True\n",
       "19  virginica  virginica  True\n",
       "18  virginica  virginica  True\n",
       "..        ...        ...   ...\n",
       "3      setosa     setosa  True\n",
       "2      setosa     setosa  True\n",
       "1      setosa     setosa  True\n",
       "22  virginica  virginica  True\n",
       "23  virginica  virginica  True\n",
       "\n",
       "[24 rows x 3 columns]"
      ]
     },
     "execution_count": 32,
     "metadata": {},
     "output_type": "execute_result"
    }
   ],
   "source": [
    "test = pd.DataFrame(df_test[\"species\"].values, index=df_test.index, columns=[\"actual\"])\n",
    "test[\"predicted\"] = list(fitted_model.predict(df_test.drop(\"species\", axis=1)))\n",
    "\n",
    "test[\"err\"] = test[\"actual\"] == test[\"predicted\"]\n",
    "test.sort_values([\"err\"])"
   ]
  },
  {
   "cell_type": "markdown",
   "metadata": {},
   "source": [
    "For a clasification, we can look at the results with a confusion matrix. "
   ]
  },
  {
   "cell_type": "code",
   "execution_count": 33,
   "metadata": {},
   "outputs": [
    {
     "data": {
      "text/html": [
       "<div>\n",
       "<style scoped>\n",
       "    .dataframe tbody tr th:only-of-type {\n",
       "        vertical-align: middle;\n",
       "    }\n",
       "\n",
       "    .dataframe tbody tr th {\n",
       "        vertical-align: top;\n",
       "    }\n",
       "\n",
       "    .dataframe thead tr th {\n",
       "        text-align: left;\n",
       "    }\n",
       "\n",
       "    .dataframe thead tr:last-of-type th {\n",
       "        text-align: right;\n",
       "    }\n",
       "</style>\n",
       "<table border=\"1\" class=\"dataframe\">\n",
       "  <thead>\n",
       "    <tr>\n",
       "      <th></th>\n",
       "      <th colspan=\"3\" halign=\"left\">err</th>\n",
       "    </tr>\n",
       "    <tr>\n",
       "      <th>predicted</th>\n",
       "      <th>setosa</th>\n",
       "      <th>versicolor</th>\n",
       "      <th>virginica</th>\n",
       "    </tr>\n",
       "    <tr>\n",
       "      <th>actual</th>\n",
       "      <th></th>\n",
       "      <th></th>\n",
       "      <th></th>\n",
       "    </tr>\n",
       "  </thead>\n",
       "  <tbody>\n",
       "    <tr>\n",
       "      <th>setosa</th>\n",
       "      <td>9.00</td>\n",
       "      <td>nan</td>\n",
       "      <td>nan</td>\n",
       "    </tr>\n",
       "    <tr>\n",
       "      <th>versicolor</th>\n",
       "      <td>nan</td>\n",
       "      <td>7.00</td>\n",
       "      <td>nan</td>\n",
       "    </tr>\n",
       "    <tr>\n",
       "      <th>virginica</th>\n",
       "      <td>nan</td>\n",
       "      <td>nan</td>\n",
       "      <td>8.00</td>\n",
       "    </tr>\n",
       "  </tbody>\n",
       "</table>\n",
       "</div>"
      ],
      "text/plain": [
       "              err                     \n",
       "predicted  setosa versicolor virginica\n",
       "actual                                \n",
       "setosa       9.00        nan       nan\n",
       "versicolor    nan       7.00       nan\n",
       "virginica     nan        nan      8.00"
      ]
     },
     "execution_count": 33,
     "metadata": {},
     "output_type": "execute_result"
    }
   ],
   "source": [
    "test.groupby([\"actual\", \"predicted\"]).count().unstack()"
   ]
  },
  {
   "cell_type": "markdown",
   "metadata": {},
   "source": [
    "## Explaining the best model with SHAP values \n",
    "\n",
    "* Next, we can create an [explainer](https://docs.microsoft.com/en-us/azure/machine-learning/service/machine-learning-interpretability-explainability#explainers) object for our best fitted model. This is a permutation feature importance explainer, in our case it is used to explain our regression, which is based off of [Breiman's Random Forests Paper](https://www.stat.berkeley.edu/~breiman/randomforest2001.pdf).<br/> \n",
    "\n",
    "* Then we can explain our model locally using the [explain_global](https://docs.microsoft.com/en-us/python/api/azureml-explain-model/azureml.explain.model.permutation.permutation_importance.pfiexplainer?view=azure-ml-py#explain-global-evaluation-examples--true-labels-) method to get our explanation.<br/> \n",
    "\n",
    "* Finally, we can use the get_ranked_glboal_values method to get a list of our importance values. \n",
    "\n",
    "### A more detailed guide can be found [here.](https://docs.microsoft.com/en-us/azure/machine-learning/service/machine-learning-interpretability-explainability#train-and-explain-locally) "
   ]
  },
  {
   "cell_type": "code",
   "execution_count": 34,
   "metadata": {},
   "outputs": [],
   "source": [
    "from azureml.explain.model._internal.explanation_client import ExplanationClient\n",
    "\n",
    "client = ExplanationClient.from_run(best_run)"
   ]
  },
  {
   "cell_type": "code",
   "execution_count": 35,
   "metadata": {},
   "outputs": [],
   "source": [
    "engineered_explanation = client.download_model_explanation(raw=False)"
   ]
  },
  {
   "cell_type": "code",
   "execution_count": 36,
   "metadata": {},
   "outputs": [
    {
     "name": "stderr",
     "output_type": "stream",
     "text": [
      "100%|████████████████████████████████████████████████████████████████████████████████| 150/150 [00:23<00:00,  6.26it/s]\n"
     ]
    },
    {
     "data": {
      "text/plain": [
       "<interpret_community.explanation.explanation.DynamicLocalExplanation at 0x1ee7a2fdac8>"
      ]
     },
     "execution_count": 36,
     "metadata": {},
     "output_type": "execute_result"
    }
   ],
   "source": [
    "from azureml.explain.model.shap import KernelExplainer\n",
    "\n",
    "explainer = KernelExplainer(fitted_model, df[iris.feature_names])\n",
    "\n",
    "local_explanation = explainer.explain_local(df[iris.feature_names])\n",
    "local_explanation"
   ]
  },
  {
   "cell_type": "code",
   "execution_count": 37,
   "metadata": {},
   "outputs": [
    {
     "name": "stderr",
     "output_type": "stream",
     "text": [
      "100%|████████████████████████████████████████████████████████████████████████████████| 150/150 [00:25<00:00,  5.91it/s]\n"
     ]
    }
   ],
   "source": [
    "global_explanation = explainer.explain_global(df[iris.feature_names])"
   ]
  },
  {
   "cell_type": "markdown",
   "metadata": {},
   "source": [
    "In a regression model, the `global_explanation.expected_values` is the equivilant of an x-intercept for the predicted values. We'll come back to this in a second. "
   ]
  },
  {
   "cell_type": "code",
   "execution_count": 38,
   "metadata": {},
   "outputs": [
    {
     "data": {
      "text/html": [
       "[0.29878274733905796, 0.34128291011067186, 0.35993434255027024]"
      ],
      "text/plain": [
       "[0.29878274733905796, 0.34128291011067186, 0.35993434255027024]"
      ]
     },
     "execution_count": 38,
     "metadata": {},
     "output_type": "execute_result"
    }
   ],
   "source": [
    "global_explanation.expected_values"
   ]
  },
  {
   "cell_type": "markdown",
   "metadata": {},
   "source": [
    "The `global_explanation.get_feature_importance_dict` in a regression model is a proxy for the coeficient of each feature."
   ]
  },
  {
   "cell_type": "code",
   "execution_count": 39,
   "metadata": {},
   "outputs": [
    {
     "data": {
      "text/plain": [
       "petal length (cm)   0.24\n",
       "petal width (cm)    0.11\n",
       "sepal length (cm)   0.03\n",
       "sepal width (cm)    0.01\n",
       "dtype: float64"
      ]
     },
     "execution_count": 39,
     "metadata": {},
     "output_type": "execute_result"
    }
   ],
   "source": [
    "shap_global = pd.Series(global_explanation.get_feature_importance_dict())\n",
    "shap_global"
   ]
  },
  {
   "cell_type": "code",
   "execution_count": 47,
   "metadata": {},
   "outputs": [
    {
     "data": {
      "image/png": "[encoded data removed]",
      "text/plain": [
       "<IPython.core.display.Image object>"
      ]
     },
     "execution_count": 47,
     "metadata": {},
     "output_type": "execute_result"
    }
   ],
   "source": [
    "Image(\"../images/shap_class.png\")"
   ]
  },
  {
   "cell_type": "code",
   "execution_count": 50,
   "metadata": {},
   "outputs": [
    {
     "data": {
      "image/png": "[encoded data removed]",
      "text/plain": [
       "<IPython.core.display.Image object>"
      ]
     },
     "execution_count": 50,
     "metadata": {},
     "output_type": "execute_result"
    }
   ],
   "source": [
    "Image(\"../images/shap_class2.png\")"
   ]
  },
  {
   "cell_type": "code",
   "execution_count": 48,
   "metadata": {},
   "outputs": [
    {
     "data": {
      "text/html": [
       "<div>\n",
       "<style scoped>\n",
       "    .dataframe tbody tr th:only-of-type {\n",
       "        vertical-align: middle;\n",
       "    }\n",
       "\n",
       "    .dataframe tbody tr th {\n",
       "        vertical-align: top;\n",
       "    }\n",
       "\n",
       "    .dataframe thead th {\n",
       "        text-align: right;\n",
       "    }\n",
       "</style>\n",
       "<table border=\"1\" class=\"dataframe\">\n",
       "  <thead>\n",
       "    <tr style=\"text-align: right;\">\n",
       "      <th></th>\n",
       "      <th>0</th>\n",
       "      <th>1</th>\n",
       "      <th>2</th>\n",
       "      <th>3</th>\n",
       "    </tr>\n",
       "  </thead>\n",
       "  <tbody>\n",
       "    <tr>\n",
       "      <th>0</th>\n",
       "      <td>0.34</td>\n",
       "      <td>0.14</td>\n",
       "      <td>0.03</td>\n",
       "      <td>0.02</td>\n",
       "    </tr>\n",
       "    <tr>\n",
       "      <th>1</th>\n",
       "      <td>0.34</td>\n",
       "      <td>0.14</td>\n",
       "      <td>0.04</td>\n",
       "      <td>0.00</td>\n",
       "    </tr>\n",
       "    <tr>\n",
       "      <th>2</th>\n",
       "      <td>0.34</td>\n",
       "      <td>0.14</td>\n",
       "      <td>0.04</td>\n",
       "      <td>0.01</td>\n",
       "    </tr>\n",
       "    <tr>\n",
       "      <th>3</th>\n",
       "      <td>0.34</td>\n",
       "      <td>0.15</td>\n",
       "      <td>0.04</td>\n",
       "      <td>0.01</td>\n",
       "    </tr>\n",
       "    <tr>\n",
       "      <th>4</th>\n",
       "      <td>0.33</td>\n",
       "      <td>0.15</td>\n",
       "      <td>0.03</td>\n",
       "      <td>0.02</td>\n",
       "    </tr>\n",
       "    <tr>\n",
       "      <th>...</th>\n",
       "      <td>...</td>\n",
       "      <td>...</td>\n",
       "      <td>...</td>\n",
       "      <td>...</td>\n",
       "    </tr>\n",
       "    <tr>\n",
       "      <th>145</th>\n",
       "      <td>-0.01</td>\n",
       "      <td>-0.02</td>\n",
       "      <td>-0.07</td>\n",
       "      <td>-0.17</td>\n",
       "    </tr>\n",
       "    <tr>\n",
       "      <th>146</th>\n",
       "      <td>-0.02</td>\n",
       "      <td>-0.02</td>\n",
       "      <td>-0.07</td>\n",
       "      <td>-0.16</td>\n",
       "    </tr>\n",
       "    <tr>\n",
       "      <th>147</th>\n",
       "      <td>-0.01</td>\n",
       "      <td>-0.02</td>\n",
       "      <td>-0.08</td>\n",
       "      <td>-0.17</td>\n",
       "    </tr>\n",
       "    <tr>\n",
       "      <th>148</th>\n",
       "      <td>0.00</td>\n",
       "      <td>-0.02</td>\n",
       "      <td>-0.07</td>\n",
       "      <td>-0.18</td>\n",
       "    </tr>\n",
       "    <tr>\n",
       "      <th>149</th>\n",
       "      <td>-0.01</td>\n",
       "      <td>-0.01</td>\n",
       "      <td>-0.07</td>\n",
       "      <td>-0.18</td>\n",
       "    </tr>\n",
       "  </tbody>\n",
       "</table>\n",
       "<p>150 rows × 4 columns</p>\n",
       "</div>"
      ],
      "text/plain": [
       "        0     1     2     3\n",
       "0    0.34  0.14  0.03  0.02\n",
       "1    0.34  0.14  0.04  0.00\n",
       "2    0.34  0.14  0.04  0.01\n",
       "3    0.34  0.15  0.04  0.01\n",
       "4    0.33  0.15  0.03  0.02\n",
       "..    ...   ...   ...   ...\n",
       "145 -0.01 -0.02 -0.07 -0.17\n",
       "146 -0.02 -0.02 -0.07 -0.16\n",
       "147 -0.01 -0.02 -0.08 -0.17\n",
       "148  0.00 -0.02 -0.07 -0.18\n",
       "149 -0.01 -0.01 -0.07 -0.18\n",
       "\n",
       "[150 rows x 4 columns]"
      ]
     },
     "execution_count": 48,
     "metadata": {},
     "output_type": "execute_result"
    }
   ],
   "source": [
    "pd.DataFrame(local_explanation.get_ranked_local_values()[0])"
   ]
  },
  {
   "cell_type": "markdown",
   "metadata": {},
   "source": [
    "The process of getting the local values from the `local_explanation` is convoluted, however the end result is the per row/ per feature _attribution_ to the predicted value. It shows you how much the feature value contribues to the ending prediction. "
   ]
  },
  {
   "cell_type": "code",
   "execution_count": 49,
   "metadata": {},
   "outputs": [
    {
     "data": {
      "text/html": [
       "<div>\n",
       "<style scoped>\n",
       "    .dataframe tbody tr th:only-of-type {\n",
       "        vertical-align: middle;\n",
       "    }\n",
       "\n",
       "    .dataframe tbody tr th {\n",
       "        vertical-align: top;\n",
       "    }\n",
       "\n",
       "    .dataframe thead th {\n",
       "        text-align: right;\n",
       "    }\n",
       "</style>\n",
       "<table border=\"1\" class=\"dataframe\">\n",
       "  <thead>\n",
       "    <tr style=\"text-align: right;\">\n",
       "      <th></th>\n",
       "      <th>0</th>\n",
       "      <th>1</th>\n",
       "      <th>2</th>\n",
       "      <th>3</th>\n",
       "    </tr>\n",
       "  </thead>\n",
       "  <tbody>\n",
       "    <tr>\n",
       "      <th>0</th>\n",
       "      <td>petal length (cm)</td>\n",
       "      <td>petal width (cm)</td>\n",
       "      <td>sepal length (cm)</td>\n",
       "      <td>sepal width (cm)</td>\n",
       "    </tr>\n",
       "    <tr>\n",
       "      <th>1</th>\n",
       "      <td>petal length (cm)</td>\n",
       "      <td>petal width (cm)</td>\n",
       "      <td>sepal length (cm)</td>\n",
       "      <td>sepal width (cm)</td>\n",
       "    </tr>\n",
       "    <tr>\n",
       "      <th>2</th>\n",
       "      <td>petal length (cm)</td>\n",
       "      <td>petal width (cm)</td>\n",
       "      <td>sepal length (cm)</td>\n",
       "      <td>sepal width (cm)</td>\n",
       "    </tr>\n",
       "    <tr>\n",
       "      <th>3</th>\n",
       "      <td>petal length (cm)</td>\n",
       "      <td>petal width (cm)</td>\n",
       "      <td>sepal length (cm)</td>\n",
       "      <td>sepal width (cm)</td>\n",
       "    </tr>\n",
       "    <tr>\n",
       "      <th>4</th>\n",
       "      <td>petal length (cm)</td>\n",
       "      <td>petal width (cm)</td>\n",
       "      <td>sepal length (cm)</td>\n",
       "      <td>sepal width (cm)</td>\n",
       "    </tr>\n",
       "    <tr>\n",
       "      <th>...</th>\n",
       "      <td>...</td>\n",
       "      <td>...</td>\n",
       "      <td>...</td>\n",
       "      <td>...</td>\n",
       "    </tr>\n",
       "    <tr>\n",
       "      <th>145</th>\n",
       "      <td>sepal width (cm)</td>\n",
       "      <td>sepal length (cm)</td>\n",
       "      <td>petal width (cm)</td>\n",
       "      <td>petal length (cm)</td>\n",
       "    </tr>\n",
       "    <tr>\n",
       "      <th>146</th>\n",
       "      <td>sepal width (cm)</td>\n",
       "      <td>sepal length (cm)</td>\n",
       "      <td>petal width (cm)</td>\n",
       "      <td>petal length (cm)</td>\n",
       "    </tr>\n",
       "    <tr>\n",
       "      <th>147</th>\n",
       "      <td>sepal width (cm)</td>\n",
       "      <td>sepal length (cm)</td>\n",
       "      <td>petal width (cm)</td>\n",
       "      <td>petal length (cm)</td>\n",
       "    </tr>\n",
       "    <tr>\n",
       "      <th>148</th>\n",
       "      <td>sepal width (cm)</td>\n",
       "      <td>sepal length (cm)</td>\n",
       "      <td>petal width (cm)</td>\n",
       "      <td>petal length (cm)</td>\n",
       "    </tr>\n",
       "    <tr>\n",
       "      <th>149</th>\n",
       "      <td>sepal width (cm)</td>\n",
       "      <td>sepal length (cm)</td>\n",
       "      <td>petal width (cm)</td>\n",
       "      <td>petal length (cm)</td>\n",
       "    </tr>\n",
       "  </tbody>\n",
       "</table>\n",
       "<p>150 rows × 4 columns</p>\n",
       "</div>"
      ],
      "text/plain": [
       "                     0                  1                  2  \\\n",
       "0    petal length (cm)   petal width (cm)  sepal length (cm)   \n",
       "1    petal length (cm)   petal width (cm)  sepal length (cm)   \n",
       "2    petal length (cm)   petal width (cm)  sepal length (cm)   \n",
       "3    petal length (cm)   petal width (cm)  sepal length (cm)   \n",
       "4    petal length (cm)   petal width (cm)  sepal length (cm)   \n",
       "..                 ...                ...                ...   \n",
       "145   sepal width (cm)  sepal length (cm)   petal width (cm)   \n",
       "146   sepal width (cm)  sepal length (cm)   petal width (cm)   \n",
       "147   sepal width (cm)  sepal length (cm)   petal width (cm)   \n",
       "148   sepal width (cm)  sepal length (cm)   petal width (cm)   \n",
       "149   sepal width (cm)  sepal length (cm)   petal width (cm)   \n",
       "\n",
       "                     3  \n",
       "0     sepal width (cm)  \n",
       "1     sepal width (cm)  \n",
       "2     sepal width (cm)  \n",
       "3     sepal width (cm)  \n",
       "4     sepal width (cm)  \n",
       "..                 ...  \n",
       "145  petal length (cm)  \n",
       "146  petal length (cm)  \n",
       "147  petal length (cm)  \n",
       "148  petal length (cm)  \n",
       "149  petal length (cm)  \n",
       "\n",
       "[150 rows x 4 columns]"
      ]
     },
     "execution_count": 49,
     "metadata": {},
     "output_type": "execute_result"
    }
   ],
   "source": [
    "pd.DataFrame(local_explanation.get_ranked_local_names()[0])"
   ]
  },
  {
   "cell_type": "code",
   "execution_count": 51,
   "metadata": {},
   "outputs": [
    {
     "data": {
      "text/html": [
       "<div>\n",
       "<style scoped>\n",
       "    .dataframe tbody tr th:only-of-type {\n",
       "        vertical-align: middle;\n",
       "    }\n",
       "\n",
       "    .dataframe tbody tr th {\n",
       "        vertical-align: top;\n",
       "    }\n",
       "\n",
       "    .dataframe thead th {\n",
       "        text-align: right;\n",
       "    }\n",
       "</style>\n",
       "<table border=\"1\" class=\"dataframe\">\n",
       "  <thead>\n",
       "    <tr style=\"text-align: right;\">\n",
       "      <th></th>\n",
       "      <th>petal length (cm)</th>\n",
       "      <th>petal width (cm)</th>\n",
       "      <th>sepal length (cm)</th>\n",
       "      <th>sepal width (cm)</th>\n",
       "    </tr>\n",
       "  </thead>\n",
       "  <tbody>\n",
       "    <tr>\n",
       "      <th>0</th>\n",
       "      <td>0.34</td>\n",
       "      <td>0.14</td>\n",
       "      <td>0.03</td>\n",
       "      <td>0.02</td>\n",
       "    </tr>\n",
       "    <tr>\n",
       "      <th>1</th>\n",
       "      <td>0.34</td>\n",
       "      <td>0.14</td>\n",
       "      <td>0.04</td>\n",
       "      <td>0.00</td>\n",
       "    </tr>\n",
       "    <tr>\n",
       "      <th>2</th>\n",
       "      <td>0.34</td>\n",
       "      <td>0.14</td>\n",
       "      <td>0.04</td>\n",
       "      <td>0.01</td>\n",
       "    </tr>\n",
       "    <tr>\n",
       "      <th>3</th>\n",
       "      <td>0.34</td>\n",
       "      <td>0.15</td>\n",
       "      <td>0.04</td>\n",
       "      <td>0.01</td>\n",
       "    </tr>\n",
       "    <tr>\n",
       "      <th>4</th>\n",
       "      <td>0.33</td>\n",
       "      <td>0.15</td>\n",
       "      <td>0.03</td>\n",
       "      <td>0.02</td>\n",
       "    </tr>\n",
       "    <tr>\n",
       "      <th>...</th>\n",
       "      <td>...</td>\n",
       "      <td>...</td>\n",
       "      <td>...</td>\n",
       "      <td>...</td>\n",
       "    </tr>\n",
       "    <tr>\n",
       "      <th>145</th>\n",
       "      <td>-0.17</td>\n",
       "      <td>-0.07</td>\n",
       "      <td>-0.02</td>\n",
       "      <td>-0.01</td>\n",
       "    </tr>\n",
       "    <tr>\n",
       "      <th>146</th>\n",
       "      <td>-0.16</td>\n",
       "      <td>-0.07</td>\n",
       "      <td>-0.02</td>\n",
       "      <td>-0.02</td>\n",
       "    </tr>\n",
       "    <tr>\n",
       "      <th>147</th>\n",
       "      <td>-0.17</td>\n",
       "      <td>-0.08</td>\n",
       "      <td>-0.02</td>\n",
       "      <td>-0.01</td>\n",
       "    </tr>\n",
       "    <tr>\n",
       "      <th>148</th>\n",
       "      <td>-0.18</td>\n",
       "      <td>-0.07</td>\n",
       "      <td>-0.02</td>\n",
       "      <td>0.00</td>\n",
       "    </tr>\n",
       "    <tr>\n",
       "      <th>149</th>\n",
       "      <td>-0.18</td>\n",
       "      <td>-0.07</td>\n",
       "      <td>-0.01</td>\n",
       "      <td>-0.01</td>\n",
       "    </tr>\n",
       "  </tbody>\n",
       "</table>\n",
       "<p>150 rows × 4 columns</p>\n",
       "</div>"
      ],
      "text/plain": [
       "     petal length (cm)  petal width (cm)  sepal length (cm)  sepal width (cm)\n",
       "0                 0.34              0.14               0.03              0.02\n",
       "1                 0.34              0.14               0.04              0.00\n",
       "2                 0.34              0.14               0.04              0.01\n",
       "3                 0.34              0.15               0.04              0.01\n",
       "4                 0.33              0.15               0.03              0.02\n",
       "..                 ...               ...                ...               ...\n",
       "145              -0.17             -0.07              -0.02             -0.01\n",
       "146              -0.16             -0.07              -0.02             -0.02\n",
       "147              -0.17             -0.08              -0.02             -0.01\n",
       "148              -0.18             -0.07              -0.02              0.00\n",
       "149              -0.18             -0.07              -0.01             -0.01\n",
       "\n",
       "[150 rows x 4 columns]"
      ]
     },
     "execution_count": 51,
     "metadata": {},
     "output_type": "execute_result"
    }
   ],
   "source": [
    "def align_shap(names, values):\n",
    "    df = pd.DataFrame(values, index=names).T\n",
    "    return df\n",
    "\n",
    "\n",
    "dfs = []\n",
    "for i in range(np.array(local_explanation.get_ranked_local_values()).shape[0]):\n",
    "    names = pd.DataFrame(local_explanation.get_ranked_local_names()[i])\n",
    "    values = pd.DataFrame(local_explanation.get_ranked_local_values()[i])\n",
    "    dfs.append(\n",
    "        pd.concat(\n",
    "            [\n",
    "                pd.DataFrame(values.loc[i].values, index=names.loc[i].values).T\n",
    "                for i in names.index\n",
    "            ]\n",
    "        ).reset_index(drop=True)\n",
    "    )\n",
    "\n",
    "dfs[0]"
   ]
  },
  {
   "cell_type": "code",
   "execution_count": 52,
   "metadata": {},
   "outputs": [
    {
     "data": {
      "text/html": [
       "<div>\n",
       "<style scoped>\n",
       "    .dataframe tbody tr th:only-of-type {\n",
       "        vertical-align: middle;\n",
       "    }\n",
       "\n",
       "    .dataframe tbody tr th {\n",
       "        vertical-align: top;\n",
       "    }\n",
       "\n",
       "    .dataframe thead th {\n",
       "        text-align: right;\n",
       "    }\n",
       "</style>\n",
       "<table border=\"1\" class=\"dataframe\">\n",
       "  <thead>\n",
       "    <tr style=\"text-align: right;\">\n",
       "      <th></th>\n",
       "      <th>sepal width (cm)</th>\n",
       "      <th>sepal length (cm)</th>\n",
       "      <th>petal width (cm)</th>\n",
       "      <th>petal length (cm)</th>\n",
       "    </tr>\n",
       "  </thead>\n",
       "  <tbody>\n",
       "    <tr>\n",
       "      <th>0</th>\n",
       "      <td>-0.00</td>\n",
       "      <td>-0.03</td>\n",
       "      <td>-0.07</td>\n",
       "      <td>-0.15</td>\n",
       "    </tr>\n",
       "    <tr>\n",
       "      <th>1</th>\n",
       "      <td>0.00</td>\n",
       "      <td>-0.04</td>\n",
       "      <td>-0.07</td>\n",
       "      <td>-0.14</td>\n",
       "    </tr>\n",
       "    <tr>\n",
       "      <th>2</th>\n",
       "      <td>-0.00</td>\n",
       "      <td>-0.05</td>\n",
       "      <td>-0.07</td>\n",
       "      <td>-0.14</td>\n",
       "    </tr>\n",
       "    <tr>\n",
       "      <th>3</th>\n",
       "      <td>-0.00</td>\n",
       "      <td>-0.05</td>\n",
       "      <td>-0.07</td>\n",
       "      <td>-0.13</td>\n",
       "    </tr>\n",
       "    <tr>\n",
       "      <th>4</th>\n",
       "      <td>-0.00</td>\n",
       "      <td>-0.04</td>\n",
       "      <td>-0.07</td>\n",
       "      <td>-0.15</td>\n",
       "    </tr>\n",
       "    <tr>\n",
       "      <th>...</th>\n",
       "      <td>...</td>\n",
       "      <td>...</td>\n",
       "      <td>...</td>\n",
       "      <td>...</td>\n",
       "    </tr>\n",
       "    <tr>\n",
       "      <th>145</th>\n",
       "      <td>0.00</td>\n",
       "      <td>0.06</td>\n",
       "      <td>-0.21</td>\n",
       "      <td>-0.16</td>\n",
       "    </tr>\n",
       "    <tr>\n",
       "      <th>146</th>\n",
       "      <td>-0.02</td>\n",
       "      <td>0.01</td>\n",
       "      <td>-0.13</td>\n",
       "      <td>-0.15</td>\n",
       "    </tr>\n",
       "    <tr>\n",
       "      <th>147</th>\n",
       "      <td>-0.00</td>\n",
       "      <td>0.01</td>\n",
       "      <td>-0.11</td>\n",
       "      <td>-0.20</td>\n",
       "    </tr>\n",
       "    <tr>\n",
       "      <th>148</th>\n",
       "      <td>0.03</td>\n",
       "      <td>-0.00</td>\n",
       "      <td>-0.13</td>\n",
       "      <td>-0.19</td>\n",
       "    </tr>\n",
       "    <tr>\n",
       "      <th>149</th>\n",
       "      <td>0.00</td>\n",
       "      <td>-0.02</td>\n",
       "      <td>-0.10</td>\n",
       "      <td>-0.17</td>\n",
       "    </tr>\n",
       "  </tbody>\n",
       "</table>\n",
       "<p>150 rows × 4 columns</p>\n",
       "</div>"
      ],
      "text/plain": [
       "     sepal width (cm)  sepal length (cm)  petal width (cm)  petal length (cm)\n",
       "0               -0.00              -0.03             -0.07              -0.15\n",
       "1                0.00              -0.04             -0.07              -0.14\n",
       "2               -0.00              -0.05             -0.07              -0.14\n",
       "3               -0.00              -0.05             -0.07              -0.13\n",
       "4               -0.00              -0.04             -0.07              -0.15\n",
       "..                ...                ...               ...                ...\n",
       "145              0.00               0.06             -0.21              -0.16\n",
       "146             -0.02               0.01             -0.13              -0.15\n",
       "147             -0.00               0.01             -0.11              -0.20\n",
       "148              0.03              -0.00             -0.13              -0.19\n",
       "149              0.00              -0.02             -0.10              -0.17\n",
       "\n",
       "[150 rows x 4 columns]"
      ]
     },
     "execution_count": 52,
     "metadata": {},
     "output_type": "execute_result"
    }
   ],
   "source": [
    "dfs[1]"
   ]
  },
  {
   "cell_type": "markdown",
   "metadata": {},
   "source": [
    "A rough approximation for the shap values can be explained as: \n",
    "\n",
    "$\\sum_{i=0}^{n}\\beta_{i}*(x_{i}-\\bar{x})\\space where\\space n=|features|$\n",
    "\n",
    "However the API does some other weights and scalings depending on the model type and nature of the imput values. "
   ]
  },
  {
   "cell_type": "markdown",
   "metadata": {},
   "source": [
    "Note in `df_prediction` above that the prediction and shap values don't exactly match. **However** the `shap` value, plus the `global_explanation.expected_values` (or y intercept point) adds up to the exact prediction. This is how we attribute each feature to the outcome. It also gives us an individual feature contribution for each row (or company). "
   ]
  },
  {
   "cell_type": "code",
   "execution_count": 53,
   "metadata": {},
   "outputs": [
    {
     "data": {
      "text/html": [
       "<div>\n",
       "<style scoped>\n",
       "    .dataframe tbody tr th:only-of-type {\n",
       "        vertical-align: middle;\n",
       "    }\n",
       "\n",
       "    .dataframe tbody tr th {\n",
       "        vertical-align: top;\n",
       "    }\n",
       "\n",
       "    .dataframe thead th {\n",
       "        text-align: right;\n",
       "    }\n",
       "</style>\n",
       "<table border=\"1\" class=\"dataframe\">\n",
       "  <thead>\n",
       "    <tr style=\"text-align: right;\">\n",
       "      <th></th>\n",
       "      <th>petal length (cm)</th>\n",
       "      <th>petal width (cm)</th>\n",
       "      <th>sepal length (cm)</th>\n",
       "      <th>sepal width (cm)</th>\n",
       "    </tr>\n",
       "  </thead>\n",
       "  <tbody>\n",
       "    <tr>\n",
       "      <th>0</th>\n",
       "      <td>0.34</td>\n",
       "      <td>0.14</td>\n",
       "      <td>0.03</td>\n",
       "      <td>0.02</td>\n",
       "    </tr>\n",
       "    <tr>\n",
       "      <th>1</th>\n",
       "      <td>0.34</td>\n",
       "      <td>0.14</td>\n",
       "      <td>0.04</td>\n",
       "      <td>0.00</td>\n",
       "    </tr>\n",
       "    <tr>\n",
       "      <th>2</th>\n",
       "      <td>0.34</td>\n",
       "      <td>0.14</td>\n",
       "      <td>0.04</td>\n",
       "      <td>0.01</td>\n",
       "    </tr>\n",
       "    <tr>\n",
       "      <th>3</th>\n",
       "      <td>0.34</td>\n",
       "      <td>0.15</td>\n",
       "      <td>0.04</td>\n",
       "      <td>0.01</td>\n",
       "    </tr>\n",
       "    <tr>\n",
       "      <th>4</th>\n",
       "      <td>0.33</td>\n",
       "      <td>0.15</td>\n",
       "      <td>0.03</td>\n",
       "      <td>0.02</td>\n",
       "    </tr>\n",
       "    <tr>\n",
       "      <th>...</th>\n",
       "      <td>...</td>\n",
       "      <td>...</td>\n",
       "      <td>...</td>\n",
       "      <td>...</td>\n",
       "    </tr>\n",
       "    <tr>\n",
       "      <th>145</th>\n",
       "      <td>-0.17</td>\n",
       "      <td>-0.07</td>\n",
       "      <td>-0.02</td>\n",
       "      <td>-0.01</td>\n",
       "    </tr>\n",
       "    <tr>\n",
       "      <th>146</th>\n",
       "      <td>-0.16</td>\n",
       "      <td>-0.07</td>\n",
       "      <td>-0.02</td>\n",
       "      <td>-0.02</td>\n",
       "    </tr>\n",
       "    <tr>\n",
       "      <th>147</th>\n",
       "      <td>-0.17</td>\n",
       "      <td>-0.08</td>\n",
       "      <td>-0.02</td>\n",
       "      <td>-0.01</td>\n",
       "    </tr>\n",
       "    <tr>\n",
       "      <th>148</th>\n",
       "      <td>-0.18</td>\n",
       "      <td>-0.07</td>\n",
       "      <td>-0.02</td>\n",
       "      <td>0.00</td>\n",
       "    </tr>\n",
       "    <tr>\n",
       "      <th>149</th>\n",
       "      <td>-0.18</td>\n",
       "      <td>-0.07</td>\n",
       "      <td>-0.01</td>\n",
       "      <td>-0.01</td>\n",
       "    </tr>\n",
       "  </tbody>\n",
       "</table>\n",
       "<p>150 rows × 4 columns</p>\n",
       "</div>"
      ],
      "text/plain": [
       "     petal length (cm)  petal width (cm)  sepal length (cm)  sepal width (cm)\n",
       "0                 0.34              0.14               0.03              0.02\n",
       "1                 0.34              0.14               0.04              0.00\n",
       "2                 0.34              0.14               0.04              0.01\n",
       "3                 0.34              0.15               0.04              0.01\n",
       "4                 0.33              0.15               0.03              0.02\n",
       "..                 ...               ...                ...               ...\n",
       "145              -0.17             -0.07              -0.02             -0.01\n",
       "146              -0.16             -0.07              -0.02             -0.02\n",
       "147              -0.17             -0.08              -0.02             -0.01\n",
       "148              -0.18             -0.07              -0.02              0.00\n",
       "149              -0.18             -0.07              -0.01             -0.01\n",
       "\n",
       "[150 rows x 4 columns]"
      ]
     },
     "execution_count": 53,
     "metadata": {},
     "output_type": "execute_result"
    }
   ],
   "source": [
    "dfs[0]"
   ]
  },
  {
   "cell_type": "code",
   "execution_count": 54,
   "metadata": {},
   "outputs": [
    {
     "name": "stdout",
     "output_type": "stream",
     "text": [
      "['setosa' 'versicolor' 'virginica']\n",
      "['sepal length (cm)', 'sepal width (cm)', 'petal length (cm)', 'petal width (cm)']\n"
     ]
    }
   ],
   "source": [
    "print(iris.target_names)\n",
    "print(iris.feature_names)\n",
    "prediction = 0\n",
    "feature = \"sepal width (cm)\""
   ]
  },
  {
   "cell_type": "code",
   "execution_count": 55,
   "metadata": {},
   "outputs": [
    {
     "data": {
      "text/html": [
       "<div>\n",
       "<style scoped>\n",
       "    .dataframe tbody tr th:only-of-type {\n",
       "        vertical-align: middle;\n",
       "    }\n",
       "\n",
       "    .dataframe tbody tr th {\n",
       "        vertical-align: top;\n",
       "    }\n",
       "\n",
       "    .dataframe thead th {\n",
       "        text-align: right;\n",
       "    }\n",
       "</style>\n",
       "<table border=\"1\" class=\"dataframe\">\n",
       "  <thead>\n",
       "    <tr style=\"text-align: right;\">\n",
       "      <th></th>\n",
       "      <th>s_petal length (cm)</th>\n",
       "      <th>s_petal width (cm)</th>\n",
       "      <th>s_sepal length (cm)</th>\n",
       "      <th>s_sepal width (cm)</th>\n",
       "      <th>sepal length (cm)</th>\n",
       "      <th>sepal width (cm)</th>\n",
       "      <th>petal length (cm)</th>\n",
       "      <th>petal width (cm)</th>\n",
       "      <th>species</th>\n",
       "    </tr>\n",
       "  </thead>\n",
       "  <tbody>\n",
       "    <tr>\n",
       "      <th>0</th>\n",
       "      <td>0.34</td>\n",
       "      <td>0.14</td>\n",
       "      <td>0.03</td>\n",
       "      <td>0.02</td>\n",
       "      <td>5.10</td>\n",
       "      <td>3.50</td>\n",
       "      <td>1.40</td>\n",
       "      <td>0.20</td>\n",
       "      <td>setosa</td>\n",
       "    </tr>\n",
       "    <tr>\n",
       "      <th>1</th>\n",
       "      <td>0.34</td>\n",
       "      <td>0.14</td>\n",
       "      <td>0.04</td>\n",
       "      <td>0.00</td>\n",
       "      <td>4.90</td>\n",
       "      <td>3.00</td>\n",
       "      <td>1.40</td>\n",
       "      <td>0.20</td>\n",
       "      <td>setosa</td>\n",
       "    </tr>\n",
       "    <tr>\n",
       "      <th>2</th>\n",
       "      <td>0.34</td>\n",
       "      <td>0.14</td>\n",
       "      <td>0.04</td>\n",
       "      <td>0.01</td>\n",
       "      <td>4.70</td>\n",
       "      <td>3.20</td>\n",
       "      <td>1.30</td>\n",
       "      <td>0.20</td>\n",
       "      <td>setosa</td>\n",
       "    </tr>\n",
       "    <tr>\n",
       "      <th>3</th>\n",
       "      <td>0.34</td>\n",
       "      <td>0.15</td>\n",
       "      <td>0.04</td>\n",
       "      <td>0.01</td>\n",
       "      <td>4.60</td>\n",
       "      <td>3.10</td>\n",
       "      <td>1.50</td>\n",
       "      <td>0.20</td>\n",
       "      <td>setosa</td>\n",
       "    </tr>\n",
       "    <tr>\n",
       "      <th>4</th>\n",
       "      <td>0.33</td>\n",
       "      <td>0.15</td>\n",
       "      <td>0.03</td>\n",
       "      <td>0.02</td>\n",
       "      <td>5.00</td>\n",
       "      <td>3.60</td>\n",
       "      <td>1.40</td>\n",
       "      <td>0.20</td>\n",
       "      <td>setosa</td>\n",
       "    </tr>\n",
       "    <tr>\n",
       "      <th>...</th>\n",
       "      <td>...</td>\n",
       "      <td>...</td>\n",
       "      <td>...</td>\n",
       "      <td>...</td>\n",
       "      <td>...</td>\n",
       "      <td>...</td>\n",
       "      <td>...</td>\n",
       "      <td>...</td>\n",
       "      <td>...</td>\n",
       "    </tr>\n",
       "    <tr>\n",
       "      <th>145</th>\n",
       "      <td>-0.17</td>\n",
       "      <td>-0.07</td>\n",
       "      <td>-0.02</td>\n",
       "      <td>-0.01</td>\n",
       "      <td>6.70</td>\n",
       "      <td>3.00</td>\n",
       "      <td>5.20</td>\n",
       "      <td>2.30</td>\n",
       "      <td>virginica</td>\n",
       "    </tr>\n",
       "    <tr>\n",
       "      <th>146</th>\n",
       "      <td>-0.16</td>\n",
       "      <td>-0.07</td>\n",
       "      <td>-0.02</td>\n",
       "      <td>-0.02</td>\n",
       "      <td>6.30</td>\n",
       "      <td>2.50</td>\n",
       "      <td>5.00</td>\n",
       "      <td>1.90</td>\n",
       "      <td>virginica</td>\n",
       "    </tr>\n",
       "    <tr>\n",
       "      <th>147</th>\n",
       "      <td>-0.17</td>\n",
       "      <td>-0.08</td>\n",
       "      <td>-0.02</td>\n",
       "      <td>-0.01</td>\n",
       "      <td>6.50</td>\n",
       "      <td>3.00</td>\n",
       "      <td>5.20</td>\n",
       "      <td>2.00</td>\n",
       "      <td>virginica</td>\n",
       "    </tr>\n",
       "    <tr>\n",
       "      <th>148</th>\n",
       "      <td>-0.18</td>\n",
       "      <td>-0.07</td>\n",
       "      <td>-0.02</td>\n",
       "      <td>0.00</td>\n",
       "      <td>6.20</td>\n",
       "      <td>3.40</td>\n",
       "      <td>5.40</td>\n",
       "      <td>2.30</td>\n",
       "      <td>virginica</td>\n",
       "    </tr>\n",
       "    <tr>\n",
       "      <th>149</th>\n",
       "      <td>-0.18</td>\n",
       "      <td>-0.07</td>\n",
       "      <td>-0.01</td>\n",
       "      <td>-0.01</td>\n",
       "      <td>5.90</td>\n",
       "      <td>3.00</td>\n",
       "      <td>5.10</td>\n",
       "      <td>1.80</td>\n",
       "      <td>virginica</td>\n",
       "    </tr>\n",
       "  </tbody>\n",
       "</table>\n",
       "<p>150 rows × 9 columns</p>\n",
       "</div>"
      ],
      "text/plain": [
       "     s_petal length (cm)  s_petal width (cm)  s_sepal length (cm)  \\\n",
       "0                   0.34                0.14                 0.03   \n",
       "1                   0.34                0.14                 0.04   \n",
       "2                   0.34                0.14                 0.04   \n",
       "3                   0.34                0.15                 0.04   \n",
       "4                   0.33                0.15                 0.03   \n",
       "..                   ...                 ...                  ...   \n",
       "145                -0.17               -0.07                -0.02   \n",
       "146                -0.16               -0.07                -0.02   \n",
       "147                -0.17               -0.08                -0.02   \n",
       "148                -0.18               -0.07                -0.02   \n",
       "149                -0.18               -0.07                -0.01   \n",
       "\n",
       "     s_sepal width (cm)  sepal length (cm)  sepal width (cm)  \\\n",
       "0                  0.02               5.10              3.50   \n",
       "1                  0.00               4.90              3.00   \n",
       "2                  0.01               4.70              3.20   \n",
       "3                  0.01               4.60              3.10   \n",
       "4                  0.02               5.00              3.60   \n",
       "..                  ...                ...               ...   \n",
       "145               -0.01               6.70              3.00   \n",
       "146               -0.02               6.30              2.50   \n",
       "147               -0.01               6.50              3.00   \n",
       "148                0.00               6.20              3.40   \n",
       "149               -0.01               5.90              3.00   \n",
       "\n",
       "     petal length (cm)  petal width (cm)    species  \n",
       "0                 1.40              0.20     setosa  \n",
       "1                 1.40              0.20     setosa  \n",
       "2                 1.30              0.20     setosa  \n",
       "3                 1.50              0.20     setosa  \n",
       "4                 1.40              0.20     setosa  \n",
       "..                 ...               ...        ...  \n",
       "145               5.20              2.30  virginica  \n",
       "146               5.00              1.90  virginica  \n",
       "147               5.20              2.00  virginica  \n",
       "148               5.40              2.30  virginica  \n",
       "149               5.10              1.80  virginica  \n",
       "\n",
       "[150 rows x 9 columns]"
      ]
     },
     "execution_count": 55,
     "metadata": {},
     "output_type": "execute_result"
    }
   ],
   "source": [
    "chart_df = pd.concat(\n",
    "    [dfs[prediction].rename(columns={c: f\"s_{c}\" for c in dfs[1].columns}), df], axis=1\n",
    ")\n",
    "\n",
    "chart_df"
   ]
  },
  {
   "cell_type": "code",
   "execution_count": 58,
   "metadata": {},
   "outputs": [
    {
     "data": {
      "text/html": [
       "\n",
       "<div id=\"altair-viz-5aa7b79bd5e143d2a6acaae748ef5951\"></div>\n",
       "<script type=\"text/javascript\">\n",
       "  (function(spec, embedOpt){\n",
       "    let outputDiv = document.currentScript.previousElementSibling;\n",
       "    if (outputDiv.id !== \"altair-viz-5aa7b79bd5e143d2a6acaae748ef5951\") {\n",
       "      outputDiv = document.getElementById(\"altair-viz-5aa7b79bd5e143d2a6acaae748ef5951\");\n",
       "    }\n",
       "    const paths = {\n",
       "      \"vega\": \"https://cdn.jsdelivr.net/npm//vega@5?noext\",\n",
       "      \"vega-lib\": \"https://cdn.jsdelivr.net/npm//vega-lib?noext\",\n",
       "      \"vega-lite\": \"https://cdn.jsdelivr.net/npm//vega-lite@4.8.1?noext\",\n",
       "      \"vega-embed\": \"https://cdn.jsdelivr.net/npm//vega-embed@6?noext\",\n",
       "    };\n",
       "\n",
       "    function loadScript(lib) {\n",
       "      return new Promise(function(resolve, reject) {\n",
       "        var s = document.createElement('script');\n",
       "        s.src = paths[lib];\n",
       "        s.async = true;\n",
       "        s.onload = () => resolve(paths[lib]);\n",
       "        s.onerror = () => reject(`Error loading script: ${paths[lib]}`);\n",
       "        document.getElementsByTagName(\"head\")[0].appendChild(s);\n",
       "      });\n",
       "    }\n",
       "\n",
       "    function showError(err) {\n",
       "      outputDiv.innerHTML = `<div class=\"error\" style=\"color:red;\">${err}</div>`;\n",
       "      throw err;\n",
       "    }\n",
       "\n",
       "    function displayChart(vegaEmbed) {\n",
       "      vegaEmbed(outputDiv, spec, embedOpt)\n",
       "        .catch(err => showError(`Javascript Error: ${err.message}<br>This usually means there's a typo in your chart specification. See the javascript console for the full traceback.`));\n",
       "    }\n",
       "\n",
       "    if(typeof define === \"function\" && define.amd) {\n",
       "      requirejs.config({paths});\n",
       "      require([\"vega-embed\"], displayChart, err => showError(`Error loading script: ${err.message}`));\n",
       "    } else if (typeof vegaEmbed === \"function\") {\n",
       "      displayChart(vegaEmbed);\n",
       "    } else {\n",
       "      loadScript(\"vega\")\n",
       "        .then(() => loadScript(\"vega-lite\"))\n",
       "        .then(() => loadScript(\"vega-embed\"))\n",
       "        .catch(showError)\n",
       "        .then(() => displayChart(vegaEmbed));\n",
       "    }\n",
       "  })({\"config\": {\"view\": {\"continuousWidth\": 400, \"continuousHeight\": 300}}, \"data\": {\"name\": \"data-ce768565a02406b7ee1061416e41245e\"}, \"mark\": \"point\", \"encoding\": {\"color\": {\"type\": \"nominal\", \"field\": \"species\"}, \"x\": {\"type\": \"quantitative\", \"field\": \"sepal width (cm)\"}, \"y\": {\"type\": \"quantitative\", \"field\": \"s_sepal width (cm)\"}}, \"title\": \"predicting setosa\", \"$schema\": \"https://vega.github.io/schema/vega-lite/v4.8.1.json\", \"datasets\": {\"data-ce768565a02406b7ee1061416e41245e\": [{\"s_petal length (cm)\": 0.3379151741004591, \"s_petal width (cm)\": 0.14435473405064236, \"s_sepal length (cm)\": 0.032514385693217435, \"s_sepal width (cm)\": 0.02086701257262491, \"sepal length (cm)\": 5.1, \"sepal width (cm)\": 3.5, \"petal length (cm)\": 1.4, \"petal width (cm)\": 0.2, \"species\": \"setosa\"}, {\"s_petal length (cm)\": 0.34420313680894643, \"s_petal width (cm)\": 0.14402767931373317, \"s_sepal length (cm)\": 0.039351443761062616, \"s_sepal width (cm)\": 0.002827813932558154, \"sepal length (cm)\": 4.9, \"sepal width (cm)\": 3.0, \"petal length (cm)\": 1.4, \"petal width (cm)\": 0.2, \"species\": \"setosa\"}, {\"s_petal length (cm)\": 0.33806327535336006, \"s_petal width (cm)\": 0.14298466383340303, \"s_sepal length (cm)\": 0.042387413128518514, \"s_sepal width (cm)\": 0.011823312708847816, \"sepal length (cm)\": 4.7, \"sepal width (cm)\": 3.2, \"petal length (cm)\": 1.3, \"petal width (cm)\": 0.2, \"species\": \"setosa\"}, {\"s_petal length (cm)\": 0.3374118724566473, \"s_petal width (cm)\": 0.14549170604087913, \"s_sepal length (cm)\": 0.0440728580183182, \"s_sepal width (cm)\": 0.007734323752751265, \"sepal length (cm)\": 4.6, \"sepal width (cm)\": 3.1, \"petal length (cm)\": 1.5, \"petal width (cm)\": 0.2, \"species\": \"setosa\"}, {\"s_petal length (cm)\": 0.3349072924699048, \"s_petal width (cm)\": 0.14524957940234495, \"s_sepal length (cm)\": 0.03288677437773288, \"s_sepal width (cm)\": 0.02260766016696117, \"sepal length (cm)\": 5.0, \"sepal width (cm)\": 3.6, \"petal length (cm)\": 1.4, \"petal width (cm)\": 0.2, \"species\": \"setosa\"}, {\"s_petal length (cm)\": 0.3245154426449175, \"s_petal width (cm)\": 0.14408097823536792, \"s_sepal length (cm)\": 0.027082746286469284, \"s_sepal width (cm)\": 0.034963152325459684, \"sepal length (cm)\": 5.4, \"sepal width (cm)\": 3.9, \"petal length (cm)\": 1.7, \"petal width (cm)\": 0.4, \"species\": \"setosa\"}, {\"s_petal length (cm)\": 0.33025832802361765, \"s_petal width (cm)\": 0.1431121241298562, \"s_sepal length (cm)\": 0.041664689520285764, \"s_sepal width (cm)\": 0.015256459013641033, \"sepal length (cm)\": 4.6, \"sepal width (cm)\": 3.4, \"petal length (cm)\": 1.4, \"petal width (cm)\": 0.3, \"species\": \"setosa\"}, {\"s_petal length (cm)\": 0.33909969362216263, \"s_petal width (cm)\": 0.14375081188144506, \"s_sepal length (cm)\": 0.03606567608619635, \"s_sepal width (cm)\": 0.016196618073046593, \"sepal length (cm)\": 5.0, \"sepal width (cm)\": 3.4, \"petal length (cm)\": 1.5, \"petal width (cm)\": 0.2, \"species\": \"setosa\"}, {\"s_petal length (cm)\": 0.3391679296793041, \"s_petal width (cm)\": 0.14594615814805756, \"s_sepal length (cm)\": 0.05126308163965901, \"s_sepal width (cm)\": -0.0015600789225697353, \"sepal length (cm)\": 4.4, \"sepal width (cm)\": 2.9, \"petal length (cm)\": 1.4, \"petal width (cm)\": 0.2, \"species\": \"setosa\"}, {\"s_petal length (cm)\": 0.34156385313780013, \"s_petal width (cm)\": 0.14492739913372216, \"s_sepal length (cm)\": 0.03982645980403107, \"s_sepal width (cm)\": 0.00834283000772637, \"sepal length (cm)\": 4.9, \"sepal width (cm)\": 3.1, \"petal length (cm)\": 1.5, \"petal width (cm)\": 0.1, \"species\": \"setosa\"}, {\"s_petal length (cm)\": 0.33683725412965726, \"s_petal width (cm)\": 0.14461988326527175, \"s_sepal length (cm)\": 0.02646552874593186, \"s_sepal width (cm)\": 0.027512667464320045, \"sepal length (cm)\": 5.4, \"sepal width (cm)\": 3.7, \"petal length (cm)\": 1.5, \"petal width (cm)\": 0.2, \"species\": \"setosa\"}, {\"s_petal length (cm)\": 0.3303237832333618, \"s_petal width (cm)\": 0.1464986915364429, \"s_sepal length (cm)\": 0.039407176051440035, \"s_sepal width (cm)\": 0.0183615116985415, \"sepal length (cm)\": 4.8, \"sepal width (cm)\": 3.4, \"petal length (cm)\": 1.6, \"petal width (cm)\": 0.2, \"species\": \"setosa\"}, {\"s_petal length (cm)\": 0.3433600696155098, \"s_petal width (cm)\": 0.14510141846901087, \"s_sepal length (cm)\": 0.04190733930224916, \"s_sepal width (cm)\": 0.004448263157681098, \"sepal length (cm)\": 4.8, \"sepal width (cm)\": 3.0, \"petal length (cm)\": 1.4, \"petal width (cm)\": 0.1, \"species\": \"setosa\"}, {\"s_petal length (cm)\": 0.3395559343893291, \"s_petal width (cm)\": 0.14341802486536592, \"s_sepal length (cm)\": 0.04960923577624213, \"s_sepal width (cm)\": 0.002233895513513773, \"sepal length (cm)\": 4.3, \"sepal width (cm)\": 3.0, \"petal length (cm)\": 1.1, \"petal width (cm)\": 0.1, \"species\": \"setosa\"}, {\"s_petal length (cm)\": 0.33287196829261867, \"s_petal width (cm)\": 0.14905539839868154, \"s_sepal length (cm)\": -0.0011982354163126985, \"s_sepal width (cm)\": 0.036246548730632044, \"sepal length (cm)\": 5.8, \"sepal width (cm)\": 4.0, \"petal length (cm)\": 1.2, \"petal width (cm)\": 0.2, \"species\": \"setosa\"}, {\"s_petal length (cm)\": 0.3229400801784209, \"s_petal width (cm)\": 0.14696815109504086, \"s_sepal length (cm)\": 0.005823528350035967, \"s_sepal width (cm)\": 0.041645960194816534, \"sepal length (cm)\": 5.7, \"sepal width (cm)\": 4.4, \"petal length (cm)\": 1.5, \"petal width (cm)\": 0.4, \"species\": \"setosa\"}, {\"s_petal length (cm)\": 0.3344226634969905, \"s_petal width (cm)\": 0.1401664451968661, \"s_sepal length (cm)\": 0.024558785969044233, \"s_sepal width (cm)\": 0.03185476563669712, \"sepal length (cm)\": 5.4, \"sepal width (cm)\": 3.9, \"petal length (cm)\": 1.3, \"petal width (cm)\": 0.4, \"species\": \"setosa\"}, {\"s_petal length (cm)\": 0.3368300195773861, \"s_petal width (cm)\": 0.14003012222737088, \"s_sepal length (cm)\": 0.032756191911067184, \"s_sepal width (cm)\": 0.021116557654540624, \"sepal length (cm)\": 5.1, \"sepal width (cm)\": 3.5, \"petal length (cm)\": 1.4, \"petal width (cm)\": 0.3, \"species\": \"setosa\"}, {\"s_petal length (cm)\": 0.3250706663961792, \"s_petal width (cm)\": 0.1485955734264287, \"s_sepal length (cm)\": 0.009374462924477606, \"s_sepal width (cm)\": 0.036628251640550114, \"sepal length (cm)\": 5.7, \"sepal width (cm)\": 3.8, \"petal length (cm)\": 1.7, \"petal width (cm)\": 0.3, \"species\": \"setosa\"}, {\"s_petal length (cm)\": 0.3287916796552211, \"s_petal width (cm)\": 0.14419611738004762, \"s_sepal length (cm)\": 0.02994707397115201, \"s_sepal width (cm)\": 0.028206240039515024, \"sepal length (cm)\": 5.1, \"sepal width (cm)\": 3.8, \"petal length (cm)\": 1.5, \"petal width (cm)\": 0.3, \"species\": \"setosa\"}, {\"s_petal length (cm)\": 0.331046470545997, \"s_petal width (cm)\": 0.15067492583290798, \"s_sepal length (cm)\": 0.0318820268637367, \"s_sepal width (cm)\": 0.021068337878976967, \"sepal length (cm)\": 5.4, \"sepal width (cm)\": 3.4, \"petal length (cm)\": 1.7, \"petal width (cm)\": 0.2, \"species\": \"setosa\"}, {\"s_petal length (cm)\": 0.33159269814904047, \"s_petal width (cm)\": 0.14074920826223347, \"s_sepal length (cm)\": 0.03146911183492748, \"s_sepal width (cm)\": 0.02664302172428068, \"sepal length (cm)\": 5.1, \"sepal width (cm)\": 3.7, \"petal length (cm)\": 1.5, \"petal width (cm)\": 0.4, \"species\": \"setosa\"}, {\"s_petal length (cm)\": 0.33528561391042594, \"s_petal width (cm)\": 0.1454198210301736, \"s_sepal length (cm)\": 0.03592667332985966, \"s_sepal width (cm)\": 0.018967410884945274, \"sepal length (cm)\": 4.6, \"sepal width (cm)\": 3.6, \"petal length (cm)\": 1.0, \"petal width (cm)\": 0.2, \"species\": \"setosa\"}, {\"s_petal length (cm)\": 0.3282913413311944, \"s_petal width (cm)\": 0.131839324489946, \"s_sepal length (cm)\": 0.03752450602460017, \"s_sepal width (cm)\": 0.023684130792829272, \"sepal length (cm)\": 5.1, \"sepal width (cm)\": 3.3, \"petal length (cm)\": 1.7, \"petal width (cm)\": 0.5, \"species\": \"setosa\"}, {\"s_petal length (cm)\": 0.2981787957629188, \"s_petal width (cm)\": 0.15829529784805174, \"s_sepal length (cm)\": 0.037769847791158634, \"s_sepal width (cm)\": 0.022044177101116474, \"sepal length (cm)\": 4.8, \"sepal width (cm)\": 3.4, \"petal length (cm)\": 1.9, \"petal width (cm)\": 0.2, \"species\": \"setosa\"}, {\"s_petal length (cm)\": 0.3382413548886728, \"s_petal width (cm)\": 0.1479420871487651, \"s_sepal length (cm)\": 0.03887796123669604, \"s_sepal width (cm)\": 0.0036584316383020954, \"sepal length (cm)\": 5.0, \"sepal width (cm)\": 3.0, \"petal length (cm)\": 1.6, \"petal width (cm)\": 0.2, \"species\": \"setosa\"}, {\"s_petal length (cm)\": 0.3322241706887691, \"s_petal width (cm)\": 0.14003474015406747, \"s_sepal length (cm)\": 0.03834868165195662, \"s_sepal width (cm)\": 0.01883117933997769, \"sepal length (cm)\": 5.0, \"sepal width (cm)\": 3.4, \"petal length (cm)\": 1.6, \"petal width (cm)\": 0.4, \"species\": \"setosa\"}, {\"s_petal length (cm)\": 0.3377207501148152, \"s_petal width (cm)\": 0.1439567943240886, \"s_sepal length (cm)\": 0.03096539282488925, \"s_sepal width (cm)\": 0.02243602565940539, \"sepal length (cm)\": 5.2, \"sepal width (cm)\": 3.5, \"petal length (cm)\": 1.5, \"petal width (cm)\": 0.2, \"species\": \"setosa\"}, {\"s_petal length (cm)\": 0.34175647165141365, \"s_petal width (cm)\": 0.14211408928964475, \"s_sepal length (cm)\": 0.03230467071949614, \"s_sepal width (cm)\": 0.018937568002296068, \"sepal length (cm)\": 5.2, \"sepal width (cm)\": 3.4, \"petal length (cm)\": 1.4, \"petal width (cm)\": 0.2, \"species\": \"setosa\"}, {\"s_petal length (cm)\": 0.328840708559812, \"s_petal width (cm)\": 0.1476865791694142, \"s_sepal length (cm)\": 0.04328515115655976, \"s_sepal width (cm)\": 0.014820159589247234, \"sepal length (cm)\": 4.7, \"sepal width (cm)\": 3.2, \"petal length (cm)\": 1.6, \"petal width (cm)\": 0.2, \"species\": \"setosa\"}, {\"s_petal length (cm)\": 0.33257758707283847, \"s_petal width (cm)\": 0.14859770763129143, \"s_sepal length (cm)\": 0.04296151401797335, \"s_sepal width (cm)\": 0.010329409054396138, \"sepal length (cm)\": 4.8, \"sepal width (cm)\": 3.1, \"petal length (cm)\": 1.6, \"petal width (cm)\": 0.2, \"species\": \"setosa\"}, {\"s_petal length (cm)\": 0.3389516305730564, \"s_petal width (cm)\": 0.14154483009185825, \"s_sepal length (cm)\": 0.030641480660354214, \"s_sepal width (cm)\": 0.019520128789244223, \"sepal length (cm)\": 5.4, \"sepal width (cm)\": 3.4, \"petal length (cm)\": 1.5, \"petal width (cm)\": 0.4, \"species\": \"setosa\"}, {\"s_petal length (cm)\": 0.3281872928010564, \"s_petal width (cm)\": 0.14832194093936046, \"s_sepal length (cm)\": 0.025694067723359665, \"s_sepal width (cm)\": 0.03258110987192914, \"sepal length (cm)\": 5.2, \"sepal width (cm)\": 4.1, \"petal length (cm)\": 1.5, \"petal width (cm)\": 0.1, \"species\": \"setosa\"}, {\"s_petal length (cm)\": 0.3278539251961476, \"s_petal width (cm)\": 0.14748187756345255, \"s_sepal length (cm)\": 0.022791730918209102, \"s_sepal width (cm)\": 0.037005659660617, \"sepal length (cm)\": 5.5, \"sepal width (cm)\": 4.2, \"petal length (cm)\": 1.4, \"petal width (cm)\": 0.2, \"species\": \"setosa\"}, {\"s_petal length (cm)\": 0.3418177404750892, \"s_petal width (cm)\": 0.1446234265612487, \"s_sepal length (cm)\": 0.03985874371372883, \"s_sepal width (cm)\": 0.008273891332223476, \"sepal length (cm)\": 4.9, \"sepal width (cm)\": 3.1, \"petal length (cm)\": 1.5, \"petal width (cm)\": 0.2, \"species\": \"setosa\"}, {\"s_petal length (cm)\": 0.3466914652892321, \"s_petal width (cm)\": 0.1412202888810422, \"s_sepal length (cm)\": 0.03687292548125137, \"s_sepal width (cm)\": 0.01036047389576547, \"sepal length (cm)\": 5.0, \"sepal width (cm)\": 3.2, \"petal length (cm)\": 1.2, \"petal width (cm)\": 0.2, \"species\": \"setosa\"}, {\"s_petal length (cm)\": 0.34244926386971514, \"s_petal width (cm)\": 0.143426984848544, \"s_sepal length (cm)\": 0.025448005955569064, \"s_sepal width (cm)\": 0.024294968279702844, \"sepal length (cm)\": 5.5, \"sepal width (cm)\": 3.5, \"petal length (cm)\": 1.3, \"petal width (cm)\": 0.2, \"species\": \"setosa\"}, {\"s_petal length (cm)\": 0.33400870667051086, \"s_petal width (cm)\": 0.145443846795474, \"s_sepal length (cm)\": 0.034050049458274306, \"s_sepal width (cm)\": 0.022148703492684635, \"sepal length (cm)\": 4.9, \"sepal width (cm)\": 3.6, \"petal length (cm)\": 1.4, \"petal width (cm)\": 0.1, \"species\": \"setosa\"}, {\"s_petal length (cm)\": 0.33817828098609737, \"s_petal width (cm)\": 0.1447771934886618, \"s_sepal length (cm)\": 0.04928075472140525, \"s_sepal width (cm)\": 0.002580861348286473, \"sepal length (cm)\": 4.4, \"sepal width (cm)\": 3.0, \"petal length (cm)\": 1.3, \"petal width (cm)\": 0.2, \"species\": \"setosa\"}, {\"s_petal length (cm)\": 0.33973149866180397, \"s_petal width (cm)\": 0.14381893112543576, \"s_sepal length (cm)\": 0.03458393274779717, \"s_sepal width (cm)\": 0.016978437127813772, \"sepal length (cm)\": 5.1, \"sepal width (cm)\": 3.4, \"petal length (cm)\": 1.5, \"petal width (cm)\": 0.2, \"species\": \"setosa\"}, {\"s_petal length (cm)\": 0.3391484544425668, \"s_petal width (cm)\": 0.13905694255919132, \"s_sepal length (cm)\": 0.03299065539249199, \"s_sepal width (cm)\": 0.02013289173907229, \"sepal length (cm)\": 5.0, \"sepal width (cm)\": 3.5, \"petal length (cm)\": 1.3, \"petal width (cm)\": 0.3, \"species\": \"setosa\"}, {\"s_petal length (cm)\": 0.341841825415388, \"s_petal width (cm)\": 0.1453382826070661, \"s_sepal length (cm)\": 0.04814018377497292, \"s_sepal width (cm)\": -0.027484728315023688, \"sepal length (cm)\": 4.5, \"sepal width (cm)\": 2.3, \"petal length (cm)\": 1.3, \"petal width (cm)\": 0.3, \"species\": \"setosa\"}, {\"s_petal length (cm)\": 0.33296101292086133, \"s_petal width (cm)\": 0.14660784817869965, \"s_sepal length (cm)\": 0.04676346114095925, \"s_sepal width (cm)\": 0.008484768303930662, \"sepal length (cm)\": 4.4, \"sepal width (cm)\": 3.2, \"petal length (cm)\": 1.3, \"petal width (cm)\": 0.2, \"species\": \"setosa\"}, {\"s_petal length (cm)\": 0.33229945015970275, \"s_petal width (cm)\": 0.12181253125922087, \"s_sepal length (cm)\": 0.0370206031030072, \"s_sepal width (cm)\": 0.024868981681136215, \"sepal length (cm)\": 5.0, \"sepal width (cm)\": 3.5, \"petal length (cm)\": 1.6, \"petal width (cm)\": 0.6, \"species\": \"setosa\"}, {\"s_petal length (cm)\": 0.2920989577800123, \"s_petal width (cm)\": 0.15491988065490925, \"s_sepal length (cm)\": 0.02878331103515272, \"s_sepal width (cm)\": 0.037837649069511564, \"sepal length (cm)\": 5.1, \"sepal width (cm)\": 3.8, \"petal length (cm)\": 1.9, \"petal width (cm)\": 0.4, \"species\": \"setosa\"}, {\"s_petal length (cm)\": 0.34276519228132313, \"s_petal width (cm)\": 0.14059199368333908, \"s_sepal length (cm)\": 0.042765144736937905, \"s_sepal width (cm)\": 0.004298896734389185, \"sepal length (cm)\": 4.8, \"sepal width (cm)\": 3.0, \"petal length (cm)\": 1.4, \"petal width (cm)\": 0.3, \"species\": \"setosa\"}, {\"s_petal length (cm)\": 0.3243158678836615, \"s_petal width (cm)\": 0.15001397331821364, \"s_sepal length (cm)\": 0.031241204586005017, \"s_sepal width (cm)\": 0.029899893818868234, \"sepal length (cm)\": 5.1, \"sepal width (cm)\": 3.8, \"petal length (cm)\": 1.6, \"petal width (cm)\": 0.2, \"species\": \"setosa\"}, {\"s_petal length (cm)\": 0.3350231406841085, \"s_petal width (cm)\": 0.14484004746829726, \"s_sepal length (cm)\": 0.0439799385834512, \"s_sepal width (cm)\": 0.010973963808593945, \"sepal length (cm)\": 4.6, \"sepal width (cm)\": 3.2, \"petal length (cm)\": 1.4, \"petal width (cm)\": 0.2, \"species\": \"setosa\"}, {\"s_petal length (cm)\": 0.3359689362971824, \"s_petal width (cm)\": 0.1447074957688559, \"s_sepal length (cm)\": 0.02747983923382208, \"s_sepal width (cm)\": 0.02746295165367066, \"sepal length (cm)\": 5.3, \"sepal width (cm)\": 3.7, \"petal length (cm)\": 1.5, \"petal width (cm)\": 0.2, \"species\": \"setosa\"}, {\"s_petal length (cm)\": 0.3415103038839629, \"s_petal width (cm)\": 0.14307470681409035, \"s_sepal length (cm)\": 0.036757640547498305, \"s_sepal width (cm)\": 0.013770148417299066, \"sepal length (cm)\": 5.0, \"sepal width (cm)\": 3.3, \"petal length (cm)\": 1.4, \"petal width (cm)\": 0.2, \"species\": \"setosa\"}, {\"s_petal length (cm)\": -0.15439062606870702, \"s_petal width (cm)\": -0.07773957922437452, \"s_sepal length (cm)\": -0.03667295996172232, \"s_sepal width (cm)\": 0.0005069870369585477, \"sepal length (cm)\": 7.0, \"sepal width (cm)\": 3.2, \"petal length (cm)\": 4.7, \"petal width (cm)\": 1.4, \"species\": \"versicolor\"}, {\"s_petal length (cm)\": -0.1691110432358781, \"s_petal width (cm)\": -0.07196049702536886, \"s_sepal length (cm)\": -0.02457883250408263, \"s_sepal width (cm)\": -0.0012287838928810024, \"sepal length (cm)\": 6.4, \"sepal width (cm)\": 3.2, \"petal length (cm)\": 4.5, \"petal width (cm)\": 1.5, \"species\": \"versicolor\"}, {\"s_petal length (cm)\": -0.14977931455200283, \"s_petal width (cm)\": -0.07963072996585929, \"s_sepal length (cm)\": -0.03574862391580701, \"s_sepal width (cm)\": -0.004202997443984807, \"sepal length (cm)\": 6.9, \"sepal width (cm)\": 3.1, \"petal length (cm)\": 4.9, \"petal width (cm)\": 1.5, \"species\": \"versicolor\"}, {\"s_petal length (cm)\": -0.16383539059544133, \"s_petal width (cm)\": -0.07270764865696294, \"s_sepal length (cm)\": -0.004325657415153533, \"s_sepal width (cm)\": -0.021087963392635828, \"sepal length (cm)\": 5.5, \"sepal width (cm)\": 2.3, \"petal length (cm)\": 4.0, \"petal width (cm)\": 1.3, \"species\": \"versicolor\"}, {\"s_petal length (cm)\": -0.15992260561701524, \"s_petal width (cm)\": -0.07196459114454826, \"s_sepal length (cm)\": -0.025724635513036415, \"s_sepal width (cm)\": -0.010385045945568022, \"sepal length (cm)\": 6.5, \"sepal width (cm)\": 2.8, \"petal length (cm)\": 4.6, \"petal width (cm)\": 1.5, \"species\": \"versicolor\"}, {\"s_petal length (cm)\": -0.16761024637136196, \"s_petal width (cm)\": -0.07306636322854829, \"s_sepal length (cm)\": -0.016584248619656086, \"s_sepal width (cm)\": -0.007669771701716302, \"sepal length (cm)\": 5.7, \"sepal width (cm)\": 2.8, \"petal length (cm)\": 4.5, \"petal width (cm)\": 1.3, \"species\": \"versicolor\"}, {\"s_petal length (cm)\": -0.17383486773892387, \"s_petal width (cm)\": -0.07099161386867359, \"s_sepal length (cm)\": -0.024212170433069405, \"s_sepal width (cm)\": 0.00042904291603118594, \"sepal length (cm)\": 6.3, \"sepal width (cm)\": 3.3, \"petal length (cm)\": 4.7, \"petal width (cm)\": 1.6, \"species\": \"versicolor\"}, {\"s_petal length (cm)\": -0.11818795000013521, \"s_petal width (cm)\": -0.08903274918199422, \"s_sepal length (cm)\": -0.0006840437044769443, \"s_sepal width (cm)\": -0.03427118447899556, \"sepal length (cm)\": 4.9, \"sepal width (cm)\": 2.4, \"petal length (cm)\": 3.3, \"petal width (cm)\": 1.0, \"species\": \"versicolor\"}, {\"s_petal length (cm)\": -0.14941090903563725, \"s_petal width (cm)\": -0.07711049883499188, \"s_sepal length (cm)\": -0.03161675013558583, \"s_sepal width (cm)\": -0.008775130867170716, \"sepal length (cm)\": 6.6, \"sepal width (cm)\": 2.9, \"petal length (cm)\": 4.6, \"petal width (cm)\": 1.3, \"species\": \"versicolor\"}, {\"s_petal length (cm)\": -0.16770249219049982, \"s_petal width (cm)\": -0.07284961041627377, \"s_sepal length (cm)\": -0.0010531674411236869, \"s_sepal width (cm)\": -0.012923986620132999, \"sepal length (cm)\": 5.2, \"sepal width (cm)\": 2.7, \"petal length (cm)\": 3.9, \"petal width (cm)\": 1.4, \"species\": \"versicolor\"}, {\"s_petal length (cm)\": -0.11658842122893975, \"s_petal width (cm)\": -0.08867198538245383, \"s_sepal length (cm)\": -0.0010387429561672656, \"s_sepal width (cm)\": -0.03961785511676763, \"sepal length (cm)\": 5.0, \"sepal width (cm)\": 2.0, \"petal length (cm)\": 3.5, \"petal width (cm)\": 1.0, \"species\": \"versicolor\"}, {\"s_petal length (cm)\": -0.17366042101888213, \"s_petal width (cm)\": -0.0686827345738481, \"s_sepal length (cm)\": -0.01903490123846062, \"s_sepal width (cm)\": -0.004595546646526422, \"sepal length (cm)\": 5.9, \"sepal width (cm)\": 3.0, \"petal length (cm)\": 4.2, \"petal width (cm)\": 1.5, \"species\": \"versicolor\"}, {\"s_petal length (cm)\": -0.14370036242315826, \"s_petal width (cm)\": -0.07754395765514166, \"s_sepal length (cm)\": -0.01716354836155179, \"s_sepal width (cm)\": -0.026584569209267037, \"sepal length (cm)\": 6.0, \"sepal width (cm)\": 2.2, \"petal length (cm)\": 4.0, \"petal width (cm)\": 1.0, \"species\": \"versicolor\"}, {\"s_petal length (cm)\": -0.16940592040622696, \"s_petal width (cm)\": -0.07116529538414776, \"s_sepal length (cm)\": -0.021620357969690335, \"s_sepal width (cm)\": -0.0054892391296363086, \"sepal length (cm)\": 6.1, \"sepal width (cm)\": 2.9, \"petal length (cm)\": 4.7, \"petal width (cm)\": 1.4, \"species\": \"versicolor\"}, {\"s_petal length (cm)\": -0.14259600388675558, \"s_petal width (cm)\": -0.08496105998878589, \"s_sepal length (cm)\": -0.014296857028364501, \"s_sepal width (cm)\": -0.00954522973378881, \"sepal length (cm)\": 5.6, \"sepal width (cm)\": 2.9, \"petal length (cm)\": 3.6, \"petal width (cm)\": 1.3, \"species\": \"versicolor\"}, {\"s_petal length (cm)\": -0.1542183924823044, \"s_petal width (cm)\": -0.07858832950644801, \"s_sepal length (cm)\": -0.03016150920808819, \"s_sepal width (cm)\": -0.0026178384445837977, \"sepal length (cm)\": 6.7, \"sepal width (cm)\": 3.1, \"petal length (cm)\": 4.4, \"petal width (cm)\": 1.4, \"species\": \"versicolor\"}, {\"s_petal length (cm)\": -0.1762676053841826, \"s_petal width (cm)\": -0.07083237922312116, \"s_sepal length (cm)\": -0.014312451697032602, \"s_sepal width (cm)\": -0.004568338183408793, \"sepal length (cm)\": 5.6, \"sepal width (cm)\": 3.0, \"petal length (cm)\": 4.5, \"petal width (cm)\": 1.5, \"species\": \"versicolor\"}, {\"s_petal length (cm)\": -0.15634266634421629, \"s_petal width (cm)\": -0.0735981882229847, \"s_sepal length (cm)\": -0.015882567076353812, \"s_sepal width (cm)\": -0.01569708179377266, \"sepal length (cm)\": 5.8, \"sepal width (cm)\": 2.7, \"petal length (cm)\": 4.1, \"petal width (cm)\": 1.0, \"species\": \"versicolor\"}, {\"s_petal length (cm)\": -0.15760369631347498, \"s_petal width (cm)\": -0.07216821564246331, \"s_sepal length (cm)\": -0.017981476934985627, \"s_sepal width (cm)\": -0.021454816716749855, \"sepal length (cm)\": 6.2, \"sepal width (cm)\": 2.2, \"petal length (cm)\": 4.5, \"petal width (cm)\": 1.5, \"species\": \"versicolor\"}, {\"s_petal length (cm)\": -0.14048638683889528, \"s_petal width (cm)\": -0.08265414337703786, \"s_sepal length (cm)\": -0.016952391095021294, \"s_sepal width (cm)\": -0.020394954369079524, \"sepal length (cm)\": 5.6, \"sepal width (cm)\": 2.5, \"petal length (cm)\": 3.9, \"petal width (cm)\": 1.1, \"species\": \"versicolor\"}, {\"s_petal length (cm)\": -0.17433367174054376, \"s_petal width (cm)\": -0.07274322188104282, \"s_sepal length (cm)\": -0.0161161915463319, \"s_sepal width (cm)\": -0.0004483287342951642, \"sepal length (cm)\": 5.9, \"sepal width (cm)\": 3.2, \"petal length (cm)\": 4.8, \"petal width (cm)\": 1.8, \"species\": \"versicolor\"}, {\"s_petal length (cm)\": -0.1575469861886163, \"s_petal width (cm)\": -0.0765650752718639, \"s_sepal length (cm)\": -0.02200551560409135, \"s_sepal width (cm)\": -0.008776947452274503, \"sepal length (cm)\": 6.1, \"sepal width (cm)\": 2.8, \"petal length (cm)\": 4.0, \"petal width (cm)\": 1.3, \"species\": \"versicolor\"}, {\"s_petal length (cm)\": -0.15748816402406873, \"s_petal width (cm)\": -0.0772783919233167, \"s_sepal length (cm)\": -0.017555400348262792, \"s_sepal width (cm)\": -0.01481466950497215, \"sepal length (cm)\": 6.3, \"sepal width (cm)\": 2.5, \"petal length (cm)\": 4.9, \"petal width (cm)\": 1.5, \"species\": \"versicolor\"}, {\"s_petal length (cm)\": -0.15831054359589986, \"s_petal width (cm)\": -0.07680699881660319, \"s_sepal length (cm)\": -0.023471670772418227, \"s_sepal width (cm)\": -0.009360318909069701, \"sepal length (cm)\": 6.1, \"sepal width (cm)\": 2.8, \"petal length (cm)\": 4.7, \"petal width (cm)\": 1.2, \"species\": \"versicolor\"}, {\"s_petal length (cm)\": -0.15120113925356796, \"s_petal width (cm)\": -0.07861402514171628, \"s_sepal length (cm)\": -0.027367714230383602, \"s_sepal width (cm)\": -0.00894284906496201, \"sepal length (cm)\": 6.4, \"sepal width (cm)\": 2.9, \"petal length (cm)\": 4.3, \"petal width (cm)\": 1.3, \"species\": \"versicolor\"}, {\"s_petal length (cm)\": -0.14847745106795554, \"s_petal width (cm)\": -0.07998914744655297, \"s_sepal length (cm)\": -0.031237296688862576, \"s_sepal width (cm)\": -0.0063935358464566605, \"sepal length (cm)\": 6.6, \"sepal width (cm)\": 3.0, \"petal length (cm)\": 4.4, \"petal width (cm)\": 1.4, \"species\": \"versicolor\"}, {\"s_petal length (cm)\": -0.14725623546352712, \"s_petal width (cm)\": -0.07713779524429429, \"s_sepal length (cm)\": -0.032952290373357354, \"s_sepal width (cm)\": -0.01134729205416525, \"sepal length (cm)\": 6.8, \"sepal width (cm)\": 2.8, \"petal length (cm)\": 4.8, \"petal width (cm)\": 1.4, \"species\": \"versicolor\"}, {\"s_petal length (cm)\": -0.1633092522151205, \"s_petal width (cm)\": -0.07226863920394527, \"s_sepal length (cm)\": -0.026468677665286766, \"s_sepal width (cm)\": -0.007567925797057631, \"sepal length (cm)\": 6.7, \"sepal width (cm)\": 3.0, \"petal length (cm)\": 5.0, \"petal width (cm)\": 1.7, \"species\": \"versicolor\"}, {\"s_petal length (cm)\": -0.1719112840799522, \"s_petal width (cm)\": -0.06880458904681935, \"s_sepal length (cm)\": -0.019425463678304222, \"s_sepal width (cm)\": -0.007148059476835181, \"sepal length (cm)\": 6.0, \"sepal width (cm)\": 2.9, \"petal length (cm)\": 4.5, \"petal width (cm)\": 1.5, \"species\": \"versicolor\"}, {\"s_petal length (cm)\": -0.11969596890238163, \"s_petal width (cm)\": -0.08766931713806142, \"s_sepal length (cm)\": -0.015341894330853562, \"s_sepal width (cm)\": -0.02743391344838557, \"sepal length (cm)\": 5.7, \"sepal width (cm)\": 2.6, \"petal length (cm)\": 3.5, \"petal width (cm)\": 1.0, \"species\": \"versicolor\"}, {\"s_petal length (cm)\": -0.14071769520858934, \"s_petal width (cm)\": -0.08404997899879912, \"s_sepal length (cm)\": -0.006078536104814042, \"s_sepal width (cm)\": -0.0245057774736617, \"sepal length (cm)\": 5.5, \"sepal width (cm)\": 2.4, \"petal length (cm)\": 3.8, \"petal width (cm)\": 1.1, \"species\": \"versicolor\"}, {\"s_petal length (cm)\": -0.1306096442590216, \"s_petal width (cm)\": -0.08394403073922976, \"s_sepal length (cm)\": -0.0061303932201737105, \"s_sepal width (cm)\": -0.029383669482290584, \"sepal length (cm)\": 5.5, \"sepal width (cm)\": 2.4, \"petal length (cm)\": 3.7, \"petal width (cm)\": 1.0, \"species\": \"versicolor\"}, {\"s_petal length (cm)\": -0.14573885038297535, \"s_petal width (cm)\": -0.08212858651182253, \"s_sepal length (cm)\": -0.019334632534551047, \"s_sepal width (cm)\": -0.012717537475136098, \"sepal length (cm)\": 5.8, \"sepal width (cm)\": 2.7, \"petal length (cm)\": 3.9, \"petal width (cm)\": 1.2, \"species\": \"versicolor\"}, {\"s_petal length (cm)\": -0.16265510758158647, \"s_petal width (cm)\": -0.0731528440622552, \"s_sepal length (cm)\": -0.015169293273270698, \"s_sepal width (cm)\": -0.01593156818684352, \"sepal length (cm)\": 6.0, \"sepal width (cm)\": 2.7, \"petal length (cm)\": 5.1, \"petal width (cm)\": 1.6, \"species\": \"versicolor\"}, {\"s_petal length (cm)\": -0.1764317494856799, \"s_petal width (cm)\": -0.07545158058847728, \"s_sepal length (cm)\": -1.3745424846917098e-05, \"s_sepal width (cm)\": -0.0045586381109731094, \"sepal length (cm)\": 5.4, \"sepal width (cm)\": 3.0, \"petal length (cm)\": 4.5, \"petal width (cm)\": 1.5, \"species\": \"versicolor\"}, {\"s_petal length (cm)\": -0.1723059101647633, \"s_petal width (cm)\": -0.07418885097610384, \"s_sepal length (cm)\": -0.01986574310190238, \"s_sepal width (cm)\": 0.003992218070237252, \"sepal length (cm)\": 6.0, \"sepal width (cm)\": 3.4, \"petal length (cm)\": 4.5, \"petal width (cm)\": 1.6, \"species\": \"versicolor\"}, {\"s_petal length (cm)\": -0.16113835943697663, \"s_petal width (cm)\": -0.07501791249301257, \"s_sepal length (cm)\": -0.031033305811550435, \"s_sepal width (cm)\": -0.001971991203664078, \"sepal length (cm)\": 6.7, \"sepal width (cm)\": 3.1, \"petal length (cm)\": 4.7, \"petal width (cm)\": 1.5, \"species\": \"versicolor\"}, {\"s_petal length (cm)\": -0.14763551847752376, \"s_petal width (cm)\": -0.07695138555150283, \"s_sepal length (cm)\": -0.023796429679016462, \"s_sepal width (cm)\": -0.019187792354391067, \"sepal length (cm)\": 6.3, \"sepal width (cm)\": 2.3, \"petal length (cm)\": 4.4, \"petal width (cm)\": 1.3, \"species\": \"versicolor\"}, {\"s_petal length (cm)\": -0.17097508146004115, \"s_petal width (cm)\": -0.07277211415591309, \"s_sepal length (cm)\": -0.016421520438842027, \"s_sepal width (cm)\": -0.0045642751392322295, \"sepal length (cm)\": 5.6, \"sepal width (cm)\": 3.0, \"petal length (cm)\": 4.1, \"petal width (cm)\": 1.3, \"species\": \"versicolor\"}, {\"s_petal length (cm)\": -0.16853525581659667, \"s_petal width (cm)\": -0.07198589393941635, \"s_sepal length (cm)\": -0.004557877787682532, \"s_sepal width (cm)\": -0.016727874408364957, \"sepal length (cm)\": 5.5, \"sepal width (cm)\": 2.5, \"petal length (cm)\": 4.0, \"petal width (cm)\": 1.3, \"species\": \"versicolor\"}, {\"s_petal length (cm)\": -0.16319255938504887, \"s_petal width (cm)\": -0.07877100185204206, \"s_sepal length (cm)\": -0.0039026859944073095, \"s_sepal width (cm)\": -0.010807649086125373, \"sepal length (cm)\": 5.5, \"sepal width (cm)\": 2.6, \"petal length (cm)\": 4.4, \"petal width (cm)\": 1.2, \"species\": \"versicolor\"}, {\"s_petal length (cm)\": -0.1695016469117374, \"s_petal width (cm)\": -0.07081846693205551, \"s_sepal length (cm)\": -0.02317578420442057, \"s_sepal width (cm)\": -0.0036708441358590665, \"sepal length (cm)\": 6.1, \"sepal width (cm)\": 3.0, \"petal length (cm)\": 4.6, \"petal width (cm)\": 1.4, \"species\": \"versicolor\"}, {\"s_petal length (cm)\": -0.15025078414017806, \"s_petal width (cm)\": -0.07817235748956158, \"s_sepal length (cm)\": -0.02088796665848526, \"s_sepal width (cm)\": -0.016123531167591007, \"sepal length (cm)\": 5.8, \"sepal width (cm)\": 2.6, \"petal length (cm)\": 4.0, \"petal width (cm)\": 1.2, \"species\": \"versicolor\"}, {\"s_petal length (cm)\": -0.10791438796327124, \"s_petal width (cm)\": -0.09275782343605696, \"s_sepal length (cm)\": -0.002596831066118674, \"s_sepal width (cm)\": -0.03971483340735531, \"sepal length (cm)\": 5.0, \"sepal width (cm)\": 2.3, \"petal length (cm)\": 3.3, \"petal width (cm)\": 1.0, \"species\": \"versicolor\"}, {\"s_petal length (cm)\": -0.17320661525278394, \"s_petal width (cm)\": -0.07002266243574296, \"s_sepal length (cm)\": -0.013877456865905607, \"s_sepal width (cm)\": -0.009034098187776715, \"sepal length (cm)\": 5.6, \"sepal width (cm)\": 2.7, \"petal length (cm)\": 4.2, \"petal width (cm)\": 1.3, \"species\": \"versicolor\"}, {\"s_petal length (cm)\": -0.16346970906743322, \"s_petal width (cm)\": -0.07708650308091286, \"s_sepal length (cm)\": -0.018448583060981405, \"s_sepal width (cm)\": -0.006009827808937704, \"sepal length (cm)\": 5.7, \"sepal width (cm)\": 3.0, \"petal length (cm)\": 4.2, \"petal width (cm)\": 1.2, \"species\": \"versicolor\"}, {\"s_petal length (cm)\": -0.16780254729084843, \"s_petal width (cm)\": -0.07346206135650604, \"s_sepal length (cm)\": -0.018411275384616316, \"s_sepal width (cm)\": -0.00601380167753951, \"sepal length (cm)\": 5.7, \"sepal width (cm)\": 2.9, \"petal length (cm)\": 4.2, \"petal width (cm)\": 1.3, \"species\": \"versicolor\"}, {\"s_petal length (cm)\": -0.1593153086552919, \"s_petal width (cm)\": -0.07566719803316979, \"s_sepal length (cm)\": -0.0244780609897242, \"s_sepal width (cm)\": -0.006715008554497137, \"sepal length (cm)\": 6.2, \"sepal width (cm)\": 2.9, \"petal length (cm)\": 4.3, \"petal width (cm)\": 1.3, \"species\": \"versicolor\"}, {\"s_petal length (cm)\": -0.08820191716361138, \"s_petal width (cm)\": -0.11354624736149015, \"s_sepal length (cm)\": 0.005893011069435912, \"s_sepal width (cm)\": -0.03340597150422909, \"sepal length (cm)\": 5.1, \"sepal width (cm)\": 2.5, \"petal length (cm)\": 3.0, \"petal width (cm)\": 1.1, \"species\": \"versicolor\"}, {\"s_petal length (cm)\": -0.16888377812221725, \"s_petal width (cm)\": -0.07218927258139798, \"s_sepal length (cm)\": -0.016267192413609438, \"s_sepal width (cm)\": -0.008003926986847182, \"sepal length (cm)\": 5.7, \"sepal width (cm)\": 2.8, \"petal length (cm)\": 4.1, \"petal width (cm)\": 1.3, \"species\": \"versicolor\"}, {\"s_petal length (cm)\": -0.18629534890978988, \"s_petal width (cm)\": -0.06867977775204265, \"s_sepal length (cm)\": -0.013883480347951116, \"s_sepal width (cm)\": -0.0005561193092977618, \"sepal length (cm)\": 6.3, \"sepal width (cm)\": 3.3, \"petal length (cm)\": 6.0, \"petal width (cm)\": 2.5, \"species\": \"virginica\"}, {\"s_petal length (cm)\": -0.1677659569053991, \"s_petal width (cm)\": -0.07063539028825655, \"s_sepal length (cm)\": -0.013843665545651987, \"s_sepal width (cm)\": -0.015900855294479543, \"sepal length (cm)\": 5.8, \"sepal width (cm)\": 2.7, \"petal length (cm)\": 5.1, \"petal width (cm)\": 1.9, \"species\": \"virginica\"}, {\"s_petal length (cm)\": -0.17336014161951255, \"s_petal width (cm)\": -0.06603982964601804, \"s_sepal length (cm)\": -0.023107321960509936, \"s_sepal width (cm)\": -0.007064444158901201, \"sepal length (cm)\": 7.1, \"sepal width (cm)\": 3.0, \"petal length (cm)\": 5.9, \"petal width (cm)\": 2.1, \"species\": \"virginica\"}, {\"s_petal length (cm)\": -0.17591081746671489, \"s_petal width (cm)\": -0.06590632128887583, \"s_sepal length (cm)\": -0.01736095435388399, \"s_sepal width (cm)\": -0.00933668092539286, \"sepal length (cm)\": 6.3, \"sepal width (cm)\": 2.9, \"petal length (cm)\": 5.6, \"petal width (cm)\": 1.8, \"species\": \"virginica\"}, {\"s_petal length (cm)\": -0.17506631272266823, \"s_petal width (cm)\": -0.06789789288655554, \"s_sepal length (cm)\": -0.018446436930290633, \"s_sepal width (cm)\": -0.00811965813294857, \"sepal length (cm)\": 6.5, \"sepal width (cm)\": 3.0, \"petal length (cm)\": 5.8, \"petal width (cm)\": 2.2, \"species\": \"virginica\"}, {\"s_petal length (cm)\": -0.1789920038074818, \"s_petal width (cm)\": -0.0626907855972596, \"s_sepal length (cm)\": -0.022137378869246757, \"s_sepal width (cm)\": -0.005910747874232153, \"sepal length (cm)\": 7.6, \"sepal width (cm)\": 3.0, \"petal length (cm)\": 6.6, \"petal width (cm)\": 2.1, \"species\": \"virginica\"}, {\"s_petal length (cm)\": -0.16844891071262352, \"s_petal width (cm)\": -0.07653947188950988, \"s_sepal length (cm)\": 0.007417437489069298, \"s_sepal width (cm)\": -0.01744270318508276, \"sepal length (cm)\": 4.9, \"sepal width (cm)\": 2.5, \"petal length (cm)\": 4.5, \"petal width (cm)\": 1.7, \"species\": \"virginica\"}, {\"s_petal length (cm)\": -0.17777128844005824, \"s_petal width (cm)\": -0.06160962855576446, \"s_sepal length (cm)\": -0.022405463746384177, \"s_sepal width (cm)\": -0.007004475955784864, \"sepal length (cm)\": 7.3, \"sepal width (cm)\": 2.9, \"petal length (cm)\": 6.3, \"petal width (cm)\": 1.8, \"species\": \"virginica\"}, {\"s_petal length (cm)\": -0.17141657951144637, \"s_petal width (cm)\": -0.06493001355284031, \"s_sepal length (cm)\": -0.017790516593718483, \"s_sepal width (cm)\": -0.015060107966606964, \"sepal length (cm)\": 6.7, \"sepal width (cm)\": 2.5, \"petal length (cm)\": 5.8, \"petal width (cm)\": 1.8, \"species\": \"virginica\"}, {\"s_petal length (cm)\": -0.1833017003901944, \"s_petal width (cm)\": -0.07187780219430506, \"s_sepal length (cm)\": -0.021793465916718685, \"s_sepal width (cm)\": 0.007576293162639761, \"sepal length (cm)\": 7.2, \"sepal width (cm)\": 3.6, \"petal length (cm)\": 6.1, \"petal width (cm)\": 2.5, \"species\": \"virginica\"}, {\"s_petal length (cm)\": -0.17544339989285396, \"s_petal width (cm)\": -0.07073843428176485, \"s_sepal length (cm)\": -0.020546117176110046, \"s_sepal width (cm)\": -0.0007689302982763491, \"sepal length (cm)\": 6.5, \"sepal width (cm)\": 3.2, \"petal length (cm)\": 5.1, \"petal width (cm)\": 2.0, \"species\": \"virginica\"}, {\"s_petal length (cm)\": -0.16793893465831095, \"s_petal width (cm)\": -0.06907948201962844, \"s_sepal length (cm)\": -0.018222448183527168, \"s_sepal width (cm)\": -0.013574487558606255, \"sepal length (cm)\": 6.4, \"sepal width (cm)\": 2.7, \"petal length (cm)\": 5.3, \"petal width (cm)\": 1.9, \"species\": \"virginica\"}, {\"s_petal length (cm)\": -0.16903907546025176, \"s_petal width (cm)\": -0.07460609800247464, \"s_sepal length (cm)\": -0.019629050130616763, \"s_sepal width (cm)\": -0.005837993909070832, \"sepal length (cm)\": 6.8, \"sepal width (cm)\": 3.0, \"petal length (cm)\": 5.5, \"petal width (cm)\": 2.1, \"species\": \"virginica\"}, {\"s_petal length (cm)\": -0.16721411125452534, \"s_petal width (cm)\": -0.07012312084296074, \"s_sepal length (cm)\": -0.010495032062329684, \"s_sepal width (cm)\": -0.019869013544581232, \"sepal length (cm)\": 5.7, \"sepal width (cm)\": 2.5, \"petal length (cm)\": 5.0, \"petal width (cm)\": 2.0, \"species\": \"virginica\"}, {\"s_petal length (cm)\": -0.1661780373989597, \"s_petal width (cm)\": -0.07397613661312508, \"s_sepal length (cm)\": -0.014252591384050356, \"s_sepal width (cm)\": -0.01416424759708905, \"sepal length (cm)\": 5.8, \"sepal width (cm)\": 2.8, \"petal length (cm)\": 5.1, \"petal width (cm)\": 2.4, \"species\": \"virginica\"}, {\"s_petal length (cm)\": -0.1761619678157531, \"s_petal width (cm)\": -0.0741795660316249, \"s_sepal length (cm)\": -0.0165872631700852, \"s_sepal width (cm)\": -0.0016907212902286112, \"sepal length (cm)\": 6.4, \"sepal width (cm)\": 3.2, \"petal length (cm)\": 5.3, \"petal width (cm)\": 2.3, \"species\": \"virginica\"}, {\"s_petal length (cm)\": -0.17697220563983698, \"s_petal width (cm)\": -0.06659500388678136, \"s_sepal length (cm)\": -0.018014766232794674, \"s_sepal width (cm)\": -0.0070074775348371865, \"sepal length (cm)\": 6.5, \"sepal width (cm)\": 3.0, \"petal length (cm)\": 5.5, \"petal width (cm)\": 1.8, \"species\": \"virginica\"}, {\"s_petal length (cm)\": -0.1906283965994649, \"s_petal width (cm)\": -0.06719090203453651, \"s_sepal length (cm)\": -0.023462132440024278, \"s_sepal width (cm)\": 0.011500787898534356, \"sepal length (cm)\": 7.7, \"sepal width (cm)\": 3.8, \"petal length (cm)\": 6.7, \"petal width (cm)\": 2.2, \"species\": \"virginica\"}, {\"s_petal length (cm)\": -0.17655282444462672, \"s_petal width (cm)\": -0.06473339524126115, \"s_sepal length (cm)\": -0.0208146605924137, \"s_sepal width (cm)\": -0.007668757395862036, \"sepal length (cm)\": 7.7, \"sepal width (cm)\": 2.6, \"petal length (cm)\": 6.9, \"petal width (cm)\": 2.3, \"species\": \"virginica\"}, {\"s_petal length (cm)\": -0.1530549331564724, \"s_petal width (cm)\": -0.07902377417016254, \"s_sepal length (cm)\": -0.01093568956091813, \"s_sepal width (cm)\": -0.023526468125639993, \"sepal length (cm)\": 6.0, \"sepal width (cm)\": 2.2, \"petal length (cm)\": 5.0, \"petal width (cm)\": 1.5, \"species\": \"virginica\"}, {\"s_petal length (cm)\": -0.17439726853927606, \"s_petal width (cm)\": -0.0694785437484493, \"s_sepal length (cm)\": -0.021172180950087938, \"s_sepal width (cm)\": -0.00454915034120025, \"sepal length (cm)\": 6.9, \"sepal width (cm)\": 3.2, \"petal length (cm)\": 5.7, \"petal width (cm)\": 2.3, \"species\": \"virginica\"}, {\"s_petal length (cm)\": -0.17661787154731262, \"s_petal width (cm)\": -0.07224464418407384, \"s_sepal length (cm)\": -0.007648913212533748, \"s_sepal width (cm)\": -0.010725630270108186, \"sepal length (cm)\": 5.6, \"sepal width (cm)\": 2.8, \"petal length (cm)\": 4.9, \"petal width (cm)\": 2.0, \"species\": \"virginica\"}, {\"s_petal length (cm)\": -0.17693317367318254, \"s_petal width (cm)\": -0.06301350179817988, \"s_sepal length (cm)\": -0.022601403205032913, \"s_sepal width (cm)\": -0.00651444555863076, \"sepal length (cm)\": 7.7, \"sepal width (cm)\": 2.8, \"petal length (cm)\": 6.7, \"petal width (cm)\": 2.0, \"species\": \"virginica\"}, {\"s_petal length (cm)\": -0.16386495561500278, \"s_petal width (cm)\": -0.07336272245950792, \"s_sepal length (cm)\": -0.017961570338046975, \"s_sepal width (cm)\": -0.012517726745114782, \"sepal length (cm)\": 6.3, \"sepal width (cm)\": 2.7, \"petal length (cm)\": 4.9, \"petal width (cm)\": 1.8, \"species\": \"virginica\"}, {\"s_petal length (cm)\": -0.18268703828826946, \"s_petal width (cm)\": -0.06964195643833943, \"s_sepal length (cm)\": -0.01810974065734243, \"s_sepal width (cm)\": 0.0013103466138143782, \"sepal length (cm)\": 6.7, \"sepal width (cm)\": 3.3, \"petal length (cm)\": 5.7, \"petal width (cm)\": 2.1, \"species\": \"virginica\"}, {\"s_petal length (cm)\": -0.17548485696255237, \"s_petal width (cm)\": -0.06490507419653163, \"s_sepal length (cm)\": -0.02477376651511433, \"s_sepal width (cm)\": -0.0037860861387064015, \"sepal length (cm)\": 7.2, \"sepal width (cm)\": 3.2, \"petal length (cm)\": 6.0, \"petal width (cm)\": 1.8, \"species\": \"virginica\"}, {\"s_petal length (cm)\": -0.16650139907480524, \"s_petal width (cm)\": -0.07019312191197777, \"s_sepal length (cm)\": -0.018681690395984885, \"s_sepal width (cm)\": -0.011833208848980314, \"sepal length (cm)\": 6.2, \"sepal width (cm)\": 2.8, \"petal length (cm)\": 4.8, \"petal width (cm)\": 1.8, \"species\": \"virginica\"}, {\"s_petal length (cm)\": -0.17358263510766941, \"s_petal width (cm)\": -0.0721943230550523, \"s_sepal length (cm)\": -0.0152402079942036, \"s_sepal width (cm)\": -0.005855411840142932, \"sepal length (cm)\": 6.1, \"sepal width (cm)\": 3.0, \"petal length (cm)\": 4.9, \"petal width (cm)\": 1.8, \"species\": \"virginica\"}, {\"s_petal length (cm)\": -0.1732656081508619, \"s_petal width (cm)\": -0.06670475922870656, \"s_sepal length (cm)\": -0.017728756727626957, \"s_sepal width (cm)\": -0.011587622697774053, \"sepal length (cm)\": 6.4, \"sepal width (cm)\": 2.8, \"petal length (cm)\": 5.6, \"petal width (cm)\": 2.1, \"species\": \"virginica\"}, {\"s_petal length (cm)\": -0.16049633171979136, \"s_petal width (cm)\": -0.0777236706704309, \"s_sepal length (cm)\": -0.025215230351800816, \"s_sepal width (cm)\": -0.004846484620184277, \"sepal length (cm)\": 7.2, \"sepal width (cm)\": 3.0, \"petal length (cm)\": 5.8, \"petal width (cm)\": 1.6, \"species\": \"virginica\"}, {\"s_petal length (cm)\": -0.16994311537852, \"s_petal width (cm)\": -0.07112617746842259, \"s_sepal length (cm)\": -0.019642763662257853, \"s_sepal width (cm)\": -0.00848901750240287, \"sepal length (cm)\": 7.4, \"sepal width (cm)\": 2.8, \"petal length (cm)\": 6.1, \"petal width (cm)\": 1.9, \"species\": \"virginica\"}, {\"s_petal length (cm)\": -0.18454917812698698, \"s_petal width (cm)\": -0.06964458598781084, \"s_sepal length (cm)\": -0.02376877311492462, \"s_sepal width (cm)\": 0.00950911605755314, \"sepal length (cm)\": 7.9, \"sepal width (cm)\": 3.8, \"petal length (cm)\": 6.4, \"petal width (cm)\": 2.0, \"species\": \"virginica\"}, {\"s_petal length (cm)\": -0.1727929638815248, \"s_petal width (cm)\": -0.0672066517618306, \"s_sepal length (cm)\": -0.01771661626608695, \"s_sepal width (cm)\": -0.01162934357944681, \"sepal length (cm)\": 6.4, \"sepal width (cm)\": 2.8, \"petal length (cm)\": 5.6, \"petal width (cm)\": 2.2, \"species\": \"virginica\"}, {\"s_petal length (cm)\": -0.15953132335582546, \"s_petal width (cm)\": -0.0774200968949198, \"s_sepal length (cm)\": -0.01928012787224033, \"s_sepal width (cm)\": -0.010396285679864614, \"sepal length (cm)\": 6.3, \"sepal width (cm)\": 2.8, \"petal length (cm)\": 5.1, \"petal width (cm)\": 1.5, \"species\": \"virginica\"}, {\"s_petal length (cm)\": -0.16484534763517547, \"s_petal width (cm)\": -0.06878979254859174, \"s_sepal length (cm)\": -0.01824935688544939, \"s_sepal width (cm)\": -0.014343563699483475, \"sepal length (cm)\": 6.1, \"sepal width (cm)\": 2.6, \"petal length (cm)\": 5.6, \"petal width (cm)\": 1.4, \"species\": \"virginica\"}, {\"s_petal length (cm)\": -0.1672428892267395, \"s_petal width (cm)\": -0.07618362055110581, \"s_sepal length (cm)\": -0.021191122910962215, \"s_sepal width (cm)\": -0.0050840662645060125, \"sepal length (cm)\": 7.7, \"sepal width (cm)\": 3.0, \"petal length (cm)\": 6.1, \"petal width (cm)\": 2.3, \"species\": \"virginica\"}, {\"s_petal length (cm)\": -0.18195701085050978, \"s_petal width (cm)\": -0.07331828366966398, \"s_sepal length (cm)\": -0.015977916407690224, \"s_sepal width (cm)\": 0.002807345626344618, \"sepal length (cm)\": 6.3, \"sepal width (cm)\": 3.4, \"petal length (cm)\": 5.6, \"petal width (cm)\": 2.4, \"species\": \"virginica\"}, {\"s_petal length (cm)\": -0.18277859323747403, \"s_petal width (cm)\": -0.06624422919684975, \"s_sepal length (cm)\": -0.015358300932968028, \"s_sepal width (cm)\": -0.00419707980594515, \"sepal length (cm)\": 6.4, \"sepal width (cm)\": 3.1, \"petal length (cm)\": 5.5, \"petal width (cm)\": 1.8, \"species\": \"virginica\"}, {\"s_petal length (cm)\": -0.17395599448131208, \"s_petal width (cm)\": -0.07102409635120283, \"s_sepal length (cm)\": -0.014941105711738747, \"s_sepal width (cm)\": -0.005547123143193111, \"sepal length (cm)\": 6.0, \"sepal width (cm)\": 3.0, \"petal length (cm)\": 4.8, \"petal width (cm)\": 1.8, \"species\": \"virginica\"}, {\"s_petal length (cm)\": -0.1698370472528959, \"s_petal width (cm)\": -0.07462228499304768, \"s_sepal length (cm)\": -0.01986282989872623, \"s_sepal width (cm)\": -0.004692351368990003, \"sepal length (cm)\": 6.9, \"sepal width (cm)\": 3.1, \"petal length (cm)\": 5.4, \"petal width (cm)\": 2.1, \"species\": \"virginica\"}, {\"s_petal length (cm)\": -0.1725992701422477, \"s_petal width (cm)\": -0.07071075533518317, \"s_sepal length (cm)\": -0.020159135693949462, \"s_sepal width (cm)\": -0.006047740039377816, \"sepal length (cm)\": 6.7, \"sepal width (cm)\": 3.1, \"petal length (cm)\": 5.6, \"petal width (cm)\": 2.4, \"species\": \"virginica\"}, {\"s_petal length (cm)\": -0.1671618054622166, \"s_petal width (cm)\": -0.07017862365755079, \"s_sepal length (cm)\": -0.025046509831952044, \"s_sepal width (cm)\": -0.006125865376962594, \"sepal length (cm)\": 6.9, \"sepal width (cm)\": 3.1, \"petal length (cm)\": 5.1, \"petal width (cm)\": 2.3, \"species\": \"virginica\"}, {\"s_petal length (cm)\": -0.1677659569053991, \"s_petal width (cm)\": -0.07063539028825655, \"s_sepal length (cm)\": -0.013843665545651987, \"s_sepal width (cm)\": -0.015900855294479543, \"sepal length (cm)\": 5.8, \"sepal width (cm)\": 2.7, \"petal length (cm)\": 5.1, \"petal width (cm)\": 1.9, \"species\": \"virginica\"}, {\"s_petal length (cm)\": -0.18372932878295994, \"s_petal width (cm)\": -0.06557666459013414, \"s_sepal length (cm)\": -0.018244730869984863, \"s_sepal width (cm)\": -0.002029872784767753, \"sepal length (cm)\": 6.8, \"sepal width (cm)\": 3.2, \"petal length (cm)\": 5.9, \"petal width (cm)\": 2.3, \"species\": \"virginica\"}, {\"s_petal length (cm)\": -0.18139191885880332, \"s_petal width (cm)\": -0.071337657253219, \"s_sepal length (cm)\": -0.017670120335388617, \"s_sepal width (cm)\": 0.000833319034527033, \"sepal length (cm)\": 6.7, \"sepal width (cm)\": 3.3, \"petal length (cm)\": 5.7, \"petal width (cm)\": 2.5, \"species\": \"virginica\"}, {\"s_petal length (cm)\": -0.16695258614835964, \"s_petal width (cm)\": -0.07358976444626492, \"s_sepal length (cm)\": -0.02158084698989532, \"s_sepal width (cm)\": -0.0069408838531696965, \"sepal length (cm)\": 6.7, \"sepal width (cm)\": 3.0, \"petal length (cm)\": 5.2, \"petal width (cm)\": 2.3, \"species\": \"virginica\"}, {\"s_petal length (cm)\": -0.16284521536494156, \"s_petal width (cm)\": -0.07429254486010872, \"s_sepal length (cm)\": -0.015584983769581007, \"s_sepal width (cm)\": -0.015226455433553512, \"sepal length (cm)\": 6.3, \"sepal width (cm)\": 2.5, \"petal length (cm)\": 5.0, \"petal width (cm)\": 1.9, \"species\": \"virginica\"}, {\"s_petal length (cm)\": -0.16672807744844836, \"s_petal width (cm)\": -0.07586421777645724, \"s_sepal length (cm)\": -0.0183836804304761, \"s_sepal width (cm)\": -0.0073451536459751, \"sepal length (cm)\": 6.5, \"sepal width (cm)\": 3.0, \"petal length (cm)\": 5.2, \"petal width (cm)\": 2.0, \"species\": \"virginica\"}, {\"s_petal length (cm)\": -0.18111491784917166, \"s_petal width (cm)\": -0.07424184747990625, \"s_sepal length (cm)\": -0.015898909588631285, \"s_sepal width (cm)\": 0.003526163610417979, \"sepal length (cm)\": 6.2, \"sepal width (cm)\": 3.4, \"petal length (cm)\": 5.4, \"petal width (cm)\": 2.3, \"species\": \"virginica\"}, {\"s_petal length (cm)\": -0.1768920331484873, \"s_petal width (cm)\": -0.07159291291739278, \"s_sepal length (cm)\": -0.011295526239005677, \"s_sepal width (cm)\": -0.007106798236726372, \"sepal length (cm)\": 5.9, \"sepal width (cm)\": 3.0, \"petal length (cm)\": 5.1, \"petal width (cm)\": 1.8, \"species\": \"virginica\"}]}}, {\"mode\": \"vega-lite\"});\n",
       "</script>"
      ],
      "text/plain": [
       "alt.Chart(...)"
      ]
     },
     "execution_count": 58,
     "metadata": {},
     "output_type": "execute_result"
    }
   ],
   "source": [
    "alt.Chart(chart_df).mark_point().encode(\n",
    "    x=feature, y=f\"s_{feature}\", color=\"species\"\n",
    ").properties(title=f\"predicting {iris.target_names[prediction]}\")"
   ]
  },
  {
   "cell_type": "code",
   "execution_count": 60,
   "metadata": {},
   "outputs": [
    {
     "data": {
      "text/html": [
       "\n",
       "<div id=\"altair-viz-031cb26f3d494d59b23cb70a3ba61f94\"></div>\n",
       "<script type=\"text/javascript\">\n",
       "  (function(spec, embedOpt){\n",
       "    let outputDiv = document.currentScript.previousElementSibling;\n",
       "    if (outputDiv.id !== \"altair-viz-031cb26f3d494d59b23cb70a3ba61f94\") {\n",
       "      outputDiv = document.getElementById(\"altair-viz-031cb26f3d494d59b23cb70a3ba61f94\");\n",
       "    }\n",
       "    const paths = {\n",
       "      \"vega\": \"https://cdn.jsdelivr.net/npm//vega@5?noext\",\n",
       "      \"vega-lib\": \"https://cdn.jsdelivr.net/npm//vega-lib?noext\",\n",
       "      \"vega-lite\": \"https://cdn.jsdelivr.net/npm//vega-lite@4.8.1?noext\",\n",
       "      \"vega-embed\": \"https://cdn.jsdelivr.net/npm//vega-embed@6?noext\",\n",
       "    };\n",
       "\n",
       "    function loadScript(lib) {\n",
       "      return new Promise(function(resolve, reject) {\n",
       "        var s = document.createElement('script');\n",
       "        s.src = paths[lib];\n",
       "        s.async = true;\n",
       "        s.onload = () => resolve(paths[lib]);\n",
       "        s.onerror = () => reject(`Error loading script: ${paths[lib]}`);\n",
       "        document.getElementsByTagName(\"head\")[0].appendChild(s);\n",
       "      });\n",
       "    }\n",
       "\n",
       "    function showError(err) {\n",
       "      outputDiv.innerHTML = `<div class=\"error\" style=\"color:red;\">${err}</div>`;\n",
       "      throw err;\n",
       "    }\n",
       "\n",
       "    function displayChart(vegaEmbed) {\n",
       "      vegaEmbed(outputDiv, spec, embedOpt)\n",
       "        .catch(err => showError(`Javascript Error: ${err.message}<br>This usually means there's a typo in your chart specification. See the javascript console for the full traceback.`));\n",
       "    }\n",
       "\n",
       "    if(typeof define === \"function\" && define.amd) {\n",
       "      requirejs.config({paths});\n",
       "      require([\"vega-embed\"], displayChart, err => showError(`Error loading script: ${err.message}`));\n",
       "    } else if (typeof vegaEmbed === \"function\") {\n",
       "      displayChart(vegaEmbed);\n",
       "    } else {\n",
       "      loadScript(\"vega\")\n",
       "        .then(() => loadScript(\"vega-lite\"))\n",
       "        .then(() => loadScript(\"vega-embed\"))\n",
       "        .catch(showError)\n",
       "        .then(() => displayChart(vegaEmbed));\n",
       "    }\n",
       "  })({\"config\": {\"view\": {\"continuousWidth\": 400, \"continuousHeight\": 300}}, \"data\": {\"name\": \"data-74d877be9a2258775548254892d90f9e\"}, \"mark\": \"point\", \"encoding\": {\"color\": {\"type\": \"nominal\", \"field\": \"species\"}, \"x\": {\"type\": \"quantitative\", \"field\": \"sepal width (cm)\"}, \"y\": {\"type\": \"quantitative\", \"field\": \"s_sepal width (cm)\"}}, \"title\": \"predicting versicolor\", \"$schema\": \"https://vega.github.io/schema/vega-lite/v4.8.1.json\", \"datasets\": {\"data-74d877be9a2258775548254892d90f9e\": [{\"s_sepal width (cm)\": -0.0030966834868774717, \"s_sepal length (cm)\": -0.03439360239750612, \"s_petal width (cm)\": -0.0687926716545168, \"s_petal length (cm)\": -0.15002859493570314, \"sepal length (cm)\": 5.1, \"sepal width (cm)\": 3.5, \"petal length (cm)\": 1.4, \"petal width (cm)\": 0.2, \"species\": \"setosa\"}, {\"s_sepal width (cm)\": 0.0017535633890317925, \"s_sepal length (cm)\": -0.044094690419872073, \"s_petal width (cm)\": -0.07128269116211497, \"s_petal length (cm)\": -0.1356200683954623, \"sepal length (cm)\": 4.9, \"sepal width (cm)\": 3.0, \"petal length (cm)\": 1.4, \"petal width (cm)\": 0.2, \"species\": \"setosa\"}, {\"s_sepal width (cm)\": -0.0009526095518247596, \"s_sepal length (cm)\": -0.048009633514455224, \"s_petal width (cm)\": -0.06668398946923004, \"s_petal length (cm)\": -0.14090320824559996, \"sepal length (cm)\": 4.7, \"sepal width (cm)\": 3.2, \"petal length (cm)\": 1.3, \"petal width (cm)\": 0.2, \"species\": \"setosa\"}, {\"s_sepal width (cm)\": -0.0012717142938390852, \"s_sepal length (cm)\": -0.052495642425455236, \"s_petal width (cm)\": -0.06899576449165401, \"s_petal length (cm)\": -0.13283985167622472, \"sepal length (cm)\": 4.6, \"sepal width (cm)\": 3.1, \"petal length (cm)\": 1.5, \"petal width (cm)\": 0.2, \"species\": \"setosa\"}, {\"s_sepal width (cm)\": -0.0005140560913030334, \"s_sepal length (cm)\": -0.03641083790537207, \"s_petal width (cm)\": -0.06906907535397205, \"s_petal length (cm)\": -0.15031758312395638, \"sepal length (cm)\": 5.0, \"sepal width (cm)\": 3.6, \"petal length (cm)\": 1.4, \"petal width (cm)\": 0.2, \"species\": \"setosa\"}, {\"s_sepal width (cm)\": -0.003193831542463582, \"s_sepal length (cm)\": -0.02989045695216007, \"s_petal width (cm)\": -0.06871220500383862, \"s_petal length (cm)\": -0.14529062629916026, \"sepal length (cm)\": 5.4, \"sepal width (cm)\": 3.9, \"petal length (cm)\": 1.7, \"petal width (cm)\": 0.4, \"species\": \"setosa\"}, {\"s_sepal width (cm)\": 0.0006337223960742461, \"s_sepal length (cm)\": -0.049700870049343635, \"s_petal width (cm)\": -0.06301051149879952, \"s_petal length (cm)\": -0.13671744237309186, \"sepal length (cm)\": 4.6, \"sepal width (cm)\": 3.4, \"petal length (cm)\": 1.4, \"petal width (cm)\": 0.3, \"species\": \"setosa\"}, {\"s_sepal width (cm)\": -0.0010203954371741514, \"s_sepal length (cm)\": -0.037811310396161535, \"s_petal width (cm)\": -0.06900182864725202, \"s_petal length (cm)\": -0.14782896613594126, \"sepal length (cm)\": 5.0, \"sepal width (cm)\": 3.4, \"petal length (cm)\": 1.5, \"petal width (cm)\": 0.2, \"species\": \"setosa\"}, {\"s_sepal width (cm)\": 0.0009565736876276931, \"s_sepal length (cm)\": -0.06240609170281179, \"s_petal width (cm)\": -0.06695808124329722, \"s_petal length (cm)\": -0.12734301933113318, \"sepal length (cm)\": 4.4, \"sepal width (cm)\": 2.9, \"petal length (cm)\": 1.4, \"petal width (cm)\": 0.2, \"species\": \"setosa\"}, {\"s_sepal width (cm)\": -0.0006914964567632242, \"s_sepal length (cm)\": -0.04378642499264147, \"s_petal width (cm)\": -0.07102843981446766, \"s_petal length (cm)\": -0.13934954072170086, \"sepal length (cm)\": 4.9, \"sepal width (cm)\": 3.1, \"petal length (cm)\": 1.5, \"petal width (cm)\": 0.1, \"species\": \"setosa\"}, {\"s_sepal width (cm)\": -0.0010801045577556595, \"s_sepal length (cm)\": -0.027491752530090535, \"s_petal width (cm)\": -0.07018737684714216, \"s_petal length (cm)\": -0.15630214222887034, \"sepal length (cm)\": 5.4, \"sepal width (cm)\": 3.7, \"petal length (cm)\": 1.5, \"petal width (cm)\": 0.2, \"species\": \"setosa\"}, {\"s_sepal width (cm)\": -0.002084587877229413, \"s_sepal length (cm)\": -0.04423190641096236, \"s_petal width (cm)\": -0.06994449374381217, \"s_petal length (cm)\": -0.13849915605263113, \"sepal length (cm)\": 4.8, \"sepal width (cm)\": 3.4, \"petal length (cm)\": 1.6, \"petal width (cm)\": 0.2, \"species\": \"setosa\"}, {\"s_sepal width (cm)\": -0.0002833049916658448, \"s_sepal length (cm)\": -0.04783834833990647, \"s_petal width (cm)\": -0.07160011309371214, \"s_petal length (cm)\": -0.13602885216433006, \"sepal length (cm)\": 4.8, \"sepal width (cm)\": 3.0, \"petal length (cm)\": 1.4, \"petal width (cm)\": 0.1, \"species\": \"setosa\"}, {\"s_sepal width (cm)\": 0.0003804799332563641, \"s_sepal length (cm)\": -0.06230525586795209, \"s_petal width (cm)\": -0.060514123026011196, \"s_petal length (cm)\": -0.1333117196289076, \"sepal length (cm)\": 4.3, \"sepal width (cm)\": 3.0, \"petal length (cm)\": 1.1, \"petal width (cm)\": 0.1, \"species\": \"setosa\"}, {\"s_sepal width (cm)\": -0.003967361993445426, \"s_sepal length (cm)\": -0.0004957161067531413, \"s_petal width (cm)\": -0.07519884697627144, \"s_petal length (cm)\": -0.16046604092720687, \"sepal length (cm)\": 5.8, \"sepal width (cm)\": 4.0, \"petal length (cm)\": 1.2, \"petal width (cm)\": 0.2, \"species\": \"setosa\"}, {\"s_sepal width (cm)\": 0.0018177152274104075, \"s_sepal length (cm)\": -0.004255074220860758, \"s_petal width (cm)\": -0.07184825107639892, \"s_petal length (cm)\": -0.15522478435140982, \"sepal length (cm)\": 5.7, \"sepal width (cm)\": 4.4, \"petal length (cm)\": 1.5, \"petal width (cm)\": 0.4, \"species\": \"setosa\"}, {\"s_sepal width (cm)\": 5.55272724098721e-05, \"s_sepal length (cm)\": -0.027373568947412746, \"s_petal width (cm)\": -0.06485895415207296, \"s_petal length (cm)\": -0.15596274800141302, \"sepal length (cm)\": 5.4, \"sepal width (cm)\": 3.9, \"petal length (cm)\": 1.3, \"petal width (cm)\": 0.4, \"species\": \"setosa\"}, {\"s_sepal width (cm)\": -0.0036876115344185306, \"s_sepal length (cm)\": -0.03455569919256926, \"s_petal width (cm)\": -0.06378788812968911, \"s_petal length (cm)\": -0.14674378800125426, \"sepal length (cm)\": 5.1, \"sepal width (cm)\": 3.5, \"petal length (cm)\": 1.4, \"petal width (cm)\": 0.3, \"species\": \"setosa\"}, {\"s_sepal width (cm)\": -0.00833589103560406, \"s_sepal length (cm)\": -0.006243234398375028, \"s_petal width (cm)\": -0.07358666105268097, \"s_petal length (cm)\": -0.146455228990632, \"sepal length (cm)\": 5.7, \"sepal width (cm)\": 3.8, \"petal length (cm)\": 1.7, \"petal width (cm)\": 0.3, \"species\": \"setosa\"}, {\"s_sepal width (cm)\": -0.0005995045493714796, \"s_sepal length (cm)\": -0.033780752306569295, \"s_petal width (cm)\": -0.06650812581035598, \"s_petal length (cm)\": -0.14832890309213723, \"sepal length (cm)\": 5.1, \"sepal width (cm)\": 3.8, \"petal length (cm)\": 1.5, \"petal width (cm)\": 0.3, \"species\": \"setosa\"}, {\"s_sepal width (cm)\": -0.0052156668366547115, \"s_sepal length (cm)\": -0.03081964324100711, \"s_petal width (cm)\": -0.07847999619426976, \"s_petal length (cm)\": -0.1395935064704068, \"sepal length (cm)\": 5.4, \"sepal width (cm)\": 3.4, \"petal length (cm)\": 1.7, \"petal width (cm)\": 0.2, \"species\": \"setosa\"}, {\"s_sepal width (cm)\": -0.0019855452783006655, \"s_sepal length (cm)\": -0.03472303496745138, \"s_petal width (cm)\": -0.06399457438881159, \"s_petal length (cm)\": -0.14755681795065206, \"sepal length (cm)\": 5.1, \"sepal width (cm)\": 3.7, \"petal length (cm)\": 1.5, \"petal width (cm)\": 0.4, \"species\": \"setosa\"}, {\"s_sepal width (cm)\": 0.003994381055011709, \"s_sepal length (cm)\": -0.045356188249855295, \"s_petal width (cm)\": -0.06519434556281126, \"s_petal length (cm)\": -0.15051517955052124, \"sepal length (cm)\": 4.6, \"sepal width (cm)\": 3.6, \"petal length (cm)\": 1.0, \"petal width (cm)\": 0.2, \"species\": \"setosa\"}, {\"s_sepal width (cm)\": -0.011749057965235066, \"s_sepal length (cm)\": -0.03754874773520177, \"s_petal width (cm)\": -0.055010004877851515, \"s_petal length (cm)\": -0.13149204276415005, \"sepal length (cm)\": 5.1, \"sepal width (cm)\": 3.3, \"petal length (cm)\": 1.7, \"petal width (cm)\": 0.5, \"species\": \"setosa\"}, {\"s_sepal width (cm)\": -0.0067615584498689485, \"s_sepal length (cm)\": -0.042477941797733246, \"s_petal width (cm)\": -0.0770308157524412, \"s_petal length (cm)\": -0.10289103834453397, \"sepal length (cm)\": 4.8, \"sepal width (cm)\": 3.4, \"petal length (cm)\": 1.9, \"petal width (cm)\": 0.2, \"species\": \"setosa\"}, {\"s_sepal width (cm)\": 0.0005257606970679451, \"s_sepal length (cm)\": -0.04039573525633901, \"s_petal width (cm)\": -0.07572821027938964, \"s_petal length (cm)\": -0.1309318208360163, \"sepal length (cm)\": 5.0, \"sepal width (cm)\": 3.0, \"petal length (cm)\": 1.6, \"petal width (cm)\": 0.2, \"species\": \"setosa\"}, {\"s_sepal width (cm)\": -0.0032728376333154563, \"s_sepal length (cm)\": -0.0395950144442115, \"s_petal width (cm)\": -0.0644873370191526, \"s_petal length (cm)\": -0.13952402019128446, \"sepal length (cm)\": 5.0, \"sepal width (cm)\": 3.4, \"petal length (cm)\": 1.6, \"petal width (cm)\": 0.4, \"species\": \"setosa\"}, {\"s_sepal width (cm)\": -0.004228763287391718, \"s_sepal length (cm)\": -0.03313157653726455, \"s_petal width (cm)\": -0.06896665907950933, \"s_petal length (cm)\": -0.14913942561024077, \"sepal length (cm)\": 5.2, \"sepal width (cm)\": 3.5, \"petal length (cm)\": 1.5, \"petal width (cm)\": 0.2, \"species\": \"setosa\"}, {\"s_sepal width (cm)\": -0.004154459237398114, \"s_sepal length (cm)\": -0.03355849837906441, \"s_petal width (cm)\": -0.06790917618139464, \"s_petal length (cm)\": -0.15004036681867178, \"sepal length (cm)\": 5.2, \"sepal width (cm)\": 3.4, \"petal length (cm)\": 1.4, \"petal width (cm)\": 0.2, \"species\": \"setosa\"}, {\"s_sepal width (cm)\": -0.00405994434316484, \"s_sepal length (cm)\": -0.04868675567163509, \"s_petal width (cm)\": -0.07136564962813585, \"s_petal length (cm)\": -0.13118816131744665, \"sepal length (cm)\": 4.7, \"sepal width (cm)\": 3.2, \"petal length (cm)\": 1.6, \"petal width (cm)\": 0.2, \"species\": \"setosa\"}, {\"s_sepal width (cm)\": -0.0036670173243721627, \"s_sepal length (cm)\": -0.04768448322794923, \"s_petal width (cm)\": -0.07396698813193653, \"s_petal length (cm)\": -0.129413473047419, \"sepal length (cm)\": 4.8, \"sepal width (cm)\": 3.1, \"petal length (cm)\": 1.6, \"petal width (cm)\": 0.2, \"species\": \"setosa\"}, {\"s_sepal width (cm)\": -0.003589293034405583, \"s_sepal length (cm)\": -0.030345270613612002, \"s_petal width (cm)\": -0.06978168460421075, \"s_petal length (cm)\": -0.14481742702515807, \"sepal length (cm)\": 5.4, \"sepal width (cm)\": 3.4, \"petal length (cm)\": 1.5, \"petal width (cm)\": 0.4, \"species\": \"setosa\"}, {\"s_sepal width (cm)\": 0.003355571310892841, \"s_sepal length (cm)\": -0.03181682143632859, \"s_petal width (cm)\": -0.07040504190133834, \"s_petal length (cm)\": -0.1554612302823257, \"sepal length (cm)\": 5.2, \"sepal width (cm)\": 4.1, \"petal length (cm)\": 1.5, \"petal width (cm)\": 0.1, \"species\": \"setosa\"}, {\"s_sepal width (cm)\": 0.002123788233225718, \"s_sepal length (cm)\": -0.026085349773141794, \"s_petal width (cm)\": -0.07417792307427551, \"s_petal length (cm)\": -0.1560405209288856, \"sepal length (cm)\": 5.5, \"sepal width (cm)\": 4.2, \"petal length (cm)\": 1.4, \"petal width (cm)\": 0.2, \"species\": \"setosa\"}, {\"s_sepal width (cm)\": -0.0006600067510348362, \"s_sepal length (cm)\": -0.04400919330745301, \"s_petal width (cm)\": -0.07083563576179563, \"s_petal length (cm)\": -0.1392313541279524, \"sepal length (cm)\": 4.9, \"sepal width (cm)\": 3.1, \"petal length (cm)\": 1.5, \"petal width (cm)\": 0.2, \"species\": \"setosa\"}, {\"s_sepal width (cm)\": -0.0002805635887571656, \"s_sepal length (cm)\": -0.03802419277905211, \"s_petal width (cm)\": -0.06755800197569703, \"s_petal length (cm)\": -0.14999040493760465, \"sepal length (cm)\": 5.0, \"sepal width (cm)\": 3.2, \"petal length (cm)\": 1.2, \"petal width (cm)\": 0.2, \"species\": \"setosa\"}, {\"s_sepal width (cm)\": -0.004424144635667385, \"s_sepal length (cm)\": -0.024249727995330858, \"s_petal width (cm)\": -0.07108438216148688, \"s_petal length (cm)\": -0.15635869982386918, \"sepal length (cm)\": 5.5, \"sepal width (cm)\": 3.5, \"petal length (cm)\": 1.3, \"petal width (cm)\": 0.2, \"species\": \"setosa\"}, {\"s_sepal width (cm)\": 0.0010856493283542268, \"s_sepal length (cm)\": -0.04007471473367366, \"s_petal width (cm)\": -0.06818312675596613, \"s_petal length (cm)\": -0.14913936031331795, \"sepal length (cm)\": 4.9, \"sepal width (cm)\": 3.6, \"petal length (cm)\": 1.4, \"petal width (cm)\": 0.1, \"species\": \"setosa\"}, {\"s_sepal width (cm)\": 0.00020856087032744552, \"s_sepal length (cm)\": -0.05933576474726027, \"s_petal width (cm)\": -0.06453191120435092, \"s_petal length (cm)\": -0.13209150350833077, \"sepal length (cm)\": 4.4, \"sepal width (cm)\": 3.0, \"petal length (cm)\": 1.3, \"petal width (cm)\": 0.2, \"species\": \"setosa\"}, {\"s_sepal width (cm)\": -0.0027130449306045773, \"s_sepal length (cm)\": -0.03544240890196512, \"s_petal width (cm)\": -0.06914978822313006, \"s_petal length (cm)\": -0.1483572585608292, \"sepal length (cm)\": 5.1, \"sepal width (cm)\": 3.4, \"petal length (cm)\": 1.5, \"petal width (cm)\": 0.2, \"species\": \"setosa\"}, {\"s_sepal width (cm)\": -0.0017360117649534573, \"s_sepal length (cm)\": -0.03587597443651325, \"s_petal width (cm)\": -0.06295411674258228, \"s_petal length (cm)\": -0.1489094921540433, \"sepal length (cm)\": 5.0, \"sepal width (cm)\": 3.5, \"petal length (cm)\": 1.3, \"petal width (cm)\": 0.3, \"species\": \"setosa\"}, {\"s_sepal width (cm)\": 0.015469393751300492, \"s_sepal length (cm)\": -0.07712236925672951, \"s_petal width (cm)\": -0.06021641471875147, \"s_petal length (cm)\": -0.09816276440864334, \"sepal length (cm)\": 4.5, \"sepal width (cm)\": 2.3, \"petal length (cm)\": 1.3, \"petal width (cm)\": 0.3, \"species\": \"setosa\"}, {\"s_sepal width (cm)\": -0.00016665180266191293, \"s_sepal length (cm)\": -0.05689779687001391, \"s_petal width (cm)\": -0.06421302915528398, \"s_petal length (cm)\": -0.1344731407616547, \"sepal length (cm)\": 4.4, \"sepal width (cm)\": 3.2, \"petal length (cm)\": 1.3, \"petal width (cm)\": 0.2, \"species\": \"setosa\"}, {\"s_sepal width (cm)\": -0.006805760187384671, \"s_sepal length (cm)\": -0.03894488412737304, \"s_petal width (cm)\": -0.044252334912621705, \"s_petal length (cm)\": -0.13915924432356797, \"sepal length (cm)\": 5.0, \"sepal width (cm)\": 3.5, \"petal length (cm)\": 1.6, \"petal width (cm)\": 0.6, \"species\": \"setosa\"}, {\"s_sepal width (cm)\": -0.011244811073563496, \"s_sepal length (cm)\": -0.03188864313688708, \"s_petal width (cm)\": -0.07278429925498373, \"s_petal length (cm)\": -0.1083436657779101, \"sepal length (cm)\": 5.1, \"sepal width (cm)\": 3.8, \"petal length (cm)\": 1.9, \"petal width (cm)\": 0.4, \"species\": \"setosa\"}, {\"s_sepal width (cm)\": -0.0006025711868430234, \"s_sepal length (cm)\": -0.048605693604256914, \"s_petal width (cm)\": -0.06673667134844313, \"s_petal length (cm)\": -0.132887429276992, \"sepal length (cm)\": 4.8, \"sepal width (cm)\": 3.0, \"petal length (cm)\": 1.4, \"petal width (cm)\": 0.3, \"species\": \"setosa\"}, {\"s_sepal width (cm)\": -0.0021156498815774194, \"s_sepal length (cm)\": -0.034907737358825075, \"s_petal width (cm)\": -0.07293569418621357, \"s_petal length (cm)\": -0.14609486892295273, \"sepal length (cm)\": 5.1, \"sepal width (cm)\": 3.8, \"petal length (cm)\": 1.6, \"petal width (cm)\": 0.2, \"species\": \"setosa\"}, {\"s_sepal width (cm)\": -0.0007318198646605739, \"s_sepal length (cm)\": -0.051887612056761886, \"s_petal width (cm)\": -0.0667419055501681, \"s_petal length (cm)\": -0.13638928111802395, \"sepal length (cm)\": 4.6, \"sepal width (cm)\": 3.2, \"petal length (cm)\": 1.4, \"petal width (cm)\": 0.2, \"species\": \"setosa\"}, {\"s_sepal width (cm)\": -0.0011992390201016473, \"s_sepal length (cm)\": -0.029644760192709785, \"s_petal width (cm)\": -0.06998750025733119, \"s_petal length (cm)\": -0.1552854551462117, \"sepal length (cm)\": 5.3, \"sepal width (cm)\": 3.7, \"petal length (cm)\": 1.5, \"petal width (cm)\": 0.2, \"species\": \"setosa\"}, {\"s_sepal width (cm)\": -0.00014778899055549466, \"s_sepal length (cm)\": -0.03794429990777219, \"s_petal width (cm)\": -0.06790392971193157, \"s_petal length (cm)\": -0.1496664820062697, \"sepal length (cm)\": 5.0, \"sepal width (cm)\": 3.3, \"petal length (cm)\": 1.4, \"petal width (cm)\": 0.2, \"species\": \"setosa\"}, {\"s_sepal width (cm)\": 0.01962032794184987, \"s_sepal length (cm)\": 0.14602667772914282, \"s_petal width (cm)\": 0.18064808163411228, \"s_petal length (cm)\": 0.2476676825618944, \"sepal length (cm)\": 7.0, \"sepal width (cm)\": 3.2, \"petal length (cm)\": 4.7, \"petal width (cm)\": 1.4, \"species\": \"versicolor\"}, {\"s_sepal width (cm)\": 0.01828547950476575, \"s_sepal length (cm)\": 0.07375081847663359, \"s_petal width (cm)\": 0.1421428452980058, \"s_petal length (cm)\": 0.3724217512508461, \"sepal length (cm)\": 6.4, \"sepal width (cm)\": 3.2, \"petal length (cm)\": 4.5, \"petal width (cm)\": 1.5, \"species\": \"versicolor\"}, {\"s_sepal width (cm)\": 0.021376999481156123, \"s_sepal length (cm)\": 0.21146652313439585, \"s_petal width (cm)\": 0.18225301852896075, \"s_petal length (cm)\": 0.11673530957774564, \"sepal length (cm)\": 6.9, \"sepal width (cm)\": 3.1, \"petal length (cm)\": 4.9, \"petal width (cm)\": 1.5, \"species\": \"versicolor\"}, {\"s_sepal width (cm)\": -0.0002465675143341062, \"s_sepal length (cm)\": 0.010895661619144265, \"s_petal width (cm)\": 0.16138736138495502, \"s_petal length (cm)\": 0.434718790076622, \"sepal length (cm)\": 5.5, \"sepal width (cm)\": 2.3, \"petal length (cm)\": 4.0, \"petal width (cm)\": 1.3, \"species\": \"versicolor\"}, {\"s_sepal width (cm)\": 0.006266247928668894, \"s_sepal length (cm)\": 0.12105726915961817, \"s_petal width (cm)\": 0.1503752301620268, \"s_petal length (cm)\": 0.32868423811712844, \"sepal length (cm)\": 6.5, \"sepal width (cm)\": 2.8, \"petal length (cm)\": 4.6, \"petal width (cm)\": 1.5, \"species\": \"versicolor\"}, {\"s_sepal width (cm)\": -0.002987739099570591, \"s_sepal length (cm)\": 0.035906878688514, \"s_petal width (cm)\": 0.1982732367572616, \"s_petal length (cm)\": 0.3641611056329072, \"sepal length (cm)\": 5.7, \"sepal width (cm)\": 2.8, \"petal length (cm)\": 4.5, \"petal width (cm)\": 1.3, \"species\": \"versicolor\"}, {\"s_sepal width (cm)\": 0.046455404025956715, \"s_sepal length (cm)\": 0.11327182777272043, \"s_petal width (cm)\": 0.1413329421647298, \"s_petal length (cm)\": 0.28264506594679933, \"sepal length (cm)\": 6.3, \"sepal width (cm)\": 3.3, \"petal length (cm)\": 4.7, \"petal width (cm)\": 1.6, \"species\": \"versicolor\"}, {\"s_sepal width (cm)\": 0.02260430989376161, \"s_sepal length (cm)\": -0.021160848849305774, \"s_petal width (cm)\": 0.17866297281863563, \"s_petal length (cm)\": 0.40842788098484945, \"sepal length (cm)\": 4.9, \"sepal width (cm)\": 2.4, \"petal length (cm)\": 3.3, \"petal width (cm)\": 1.0, \"species\": \"versicolor\"}, {\"s_sepal width (cm)\": 0.012743616232606891, \"s_sepal length (cm)\": 0.10094737045283764, \"s_petal width (cm)\": 0.17576405079033924, \"s_petal length (cm)\": 0.3191820168613409, \"sepal length (cm)\": 6.6, \"sepal width (cm)\": 2.9, \"petal length (cm)\": 4.6, \"petal width (cm)\": 1.3, \"species\": \"versicolor\"}, {\"s_sepal width (cm)\": 0.005698369328703462, \"s_sepal length (cm)\": -0.0006409376950683165, \"s_petal width (cm)\": 0.1380571834426978, \"s_petal length (cm)\": 0.4489026275261758, \"sepal length (cm)\": 5.2, \"sepal width (cm)\": 2.7, \"petal length (cm)\": 3.9, \"petal width (cm)\": 1.4, \"species\": \"versicolor\"}, {\"s_sepal width (cm)\": 0.02432067867829396, \"s_sepal length (cm)\": -0.02494342718979084, \"s_petal width (cm)\": 0.18432649084523223, \"s_petal length (cm)\": 0.4081529949827114, \"sepal length (cm)\": 5.0, \"sepal width (cm)\": 2.0, \"petal length (cm)\": 3.5, \"petal width (cm)\": 1.0, \"species\": \"versicolor\"}, {\"s_sepal width (cm)\": 0.008142957574841653, \"s_sepal length (cm)\": 0.04481260209962745, \"s_petal width (cm)\": 0.12748893470105227, \"s_petal length (cm)\": 0.429409092264862, \"sepal length (cm)\": 5.9, \"sepal width (cm)\": 3.0, \"petal length (cm)\": 4.2, \"petal width (cm)\": 1.5, \"species\": \"versicolor\"}, {\"s_sepal width (cm)\": 0.01998445754567965, \"s_sepal length (cm)\": 0.032312015191061805, \"s_petal width (cm)\": 0.16514023385128762, \"s_petal length (cm)\": 0.39454200779641424, \"sepal length (cm)\": 6.0, \"sepal width (cm)\": 2.2, \"petal length (cm)\": 4.0, \"petal width (cm)\": 1.0, \"species\": \"versicolor\"}, {\"s_sepal width (cm)\": 0.004541735921846396, \"s_sepal length (cm)\": 0.0813559273229664, \"s_petal width (cm)\": 0.21074276506029366, \"s_petal length (cm)\": 0.28829548638521146, \"sepal length (cm)\": 6.1, \"sepal width (cm)\": 2.9, \"petal length (cm)\": 4.7, \"petal width (cm)\": 1.4, \"species\": \"versicolor\"}, {\"s_sepal width (cm)\": 0.008067758084873144, \"s_sepal length (cm)\": 0.02358664262333532, \"s_petal width (cm)\": 0.14805626366997182, \"s_petal length (cm)\": 0.41949796168144005, \"sepal length (cm)\": 5.6, \"sepal width (cm)\": 2.9, \"petal length (cm)\": 3.6, \"petal width (cm)\": 1.3, \"species\": \"versicolor\"}, {\"s_sepal width (cm)\": 0.00879441929645225, \"s_sepal length (cm)\": 0.07370418368306653, \"s_petal width (cm)\": 0.16083161576858457, \"s_petal length (cm)\": 0.3633045870664783, \"sepal length (cm)\": 6.7, \"sepal width (cm)\": 3.1, \"petal length (cm)\": 4.4, \"petal width (cm)\": 1.4, \"species\": \"versicolor\"}, {\"s_sepal width (cm)\": 0.03407825544765894, \"s_sepal length (cm)\": 0.04271622000584491, \"s_petal width (cm)\": 0.1471260395420506, \"s_petal length (cm)\": 0.3744645150730928, \"sepal length (cm)\": 5.6, \"sepal width (cm)\": 3.0, \"petal length (cm)\": 4.5, \"petal width (cm)\": 1.5, \"species\": \"versicolor\"}, {\"s_sepal width (cm)\": 0.008828074828953064, \"s_sepal length (cm)\": 0.023354566925474496, \"s_petal width (cm)\": 0.1686930036533536, \"s_petal length (cm)\": 0.4075474351117665, \"sepal length (cm)\": 5.8, \"sepal width (cm)\": 2.7, \"petal length (cm)\": 4.1, \"petal width (cm)\": 1.0, \"species\": \"versicolor\"}, {\"s_sepal width (cm)\": -0.00816700322225039, \"s_sepal length (cm)\": 0.11123066300027704, \"s_petal width (cm)\": 0.13581240006063278, \"s_petal length (cm)\": 0.35720372780675175, \"sepal length (cm)\": 6.2, \"sepal width (cm)\": 2.2, \"petal length (cm)\": 4.5, \"petal width (cm)\": 1.5, \"species\": \"versicolor\"}, {\"s_sepal width (cm)\": 0.008182196353824889, \"s_sepal length (cm)\": 0.021250148113280826, \"s_petal width (cm)\": 0.16442072317354173, \"s_petal length (cm)\": 0.41461930121661744, \"sepal length (cm)\": 5.6, \"sepal width (cm)\": 2.5, \"petal length (cm)\": 3.9, \"petal width (cm)\": 1.1, \"species\": \"versicolor\"}, {\"s_sepal width (cm)\": 0.0503717687737125, \"s_sepal length (cm)\": 0.0014789314801942639, \"s_petal width (cm)\": -0.1130372561804007, \"s_petal length (cm)\": -0.047816301817162996, \"sepal length (cm)\": 5.9, \"sepal width (cm)\": 3.2, \"petal length (cm)\": 4.8, \"petal width (cm)\": 1.8, \"species\": \"versicolor\"}, {\"s_sepal width (cm)\": 0.0066081424371020325, \"s_sepal length (cm)\": 0.031801828035354085, \"s_petal width (cm)\": 0.1488305657002582, \"s_petal length (cm)\": 0.4239085755629874, \"sepal length (cm)\": 6.1, \"sepal width (cm)\": 2.8, \"petal length (cm)\": 4.0, \"petal width (cm)\": 1.3, \"species\": \"versicolor\"}, {\"s_sepal width (cm)\": -0.030508865051446787, \"s_sepal length (cm)\": 0.1435970861075918, \"s_petal width (cm)\": 0.17911733215151648, \"s_petal length (cm)\": 0.06710088178727862, \"sepal length (cm)\": 6.3, \"sepal width (cm)\": 2.5, \"petal length (cm)\": 4.9, \"petal width (cm)\": 1.5, \"species\": \"versicolor\"}, {\"s_sepal width (cm)\": 0.004350699903557492, \"s_sepal length (cm)\": 0.08294431846271813, \"s_petal width (cm)\": 0.23441376154276133, \"s_petal length (cm)\": 0.2721273087353105, \"sepal length (cm)\": 6.1, \"sepal width (cm)\": 2.8, \"petal length (cm)\": 4.7, \"petal width (cm)\": 1.2, \"species\": \"versicolor\"}, {\"s_sepal width (cm)\": 0.007327214193630943, \"s_sepal length (cm)\": 0.055296150944659894, \"s_petal width (cm)\": 0.16489964626560472, \"s_petal length (cm)\": 0.38076908241166313, \"sepal length (cm)\": 6.4, \"sepal width (cm)\": 2.9, \"petal length (cm)\": 4.3, \"petal width (cm)\": 1.3, \"species\": \"versicolor\"}, {\"s_sepal width (cm)\": 0.009320391802081995, \"s_sepal length (cm)\": 0.07562959750916351, \"s_petal width (cm)\": 0.16436451986629708, \"s_petal length (cm)\": 0.3585685178984593, \"sepal length (cm)\": 6.6, \"sepal width (cm)\": 3.0, \"petal length (cm)\": 4.4, \"petal width (cm)\": 1.4, \"species\": \"versicolor\"}, {\"s_sepal width (cm)\": 0.008580221539233948, \"s_sepal length (cm)\": 0.20812074775856085, \"s_petal width (cm)\": 0.2004780036514371, \"s_petal length (cm)\": 0.12746507530300955, \"sepal length (cm)\": 6.8, \"sepal width (cm)\": 2.8, \"petal length (cm)\": 4.8, \"petal width (cm)\": 1.4, \"species\": \"versicolor\"}, {\"s_sepal width (cm)\": 0.013809187788042701, \"s_sepal length (cm)\": 0.24493856805716044, \"s_petal width (cm)\": 0.12422528204392924, \"s_petal length (cm)\": 0.08148633533031241, \"sepal length (cm)\": 6.7, \"sepal width (cm)\": 3.0, \"petal length (cm)\": 5.0, \"petal width (cm)\": 1.7, \"species\": \"versicolor\"}, {\"s_sepal width (cm)\": 0.0015172419493896527, \"s_sepal length (cm)\": 0.06283265133144014, \"s_petal width (cm)\": 0.15342494831205866, \"s_petal length (cm)\": 0.3846333764889384, \"sepal length (cm)\": 6.0, \"sepal width (cm)\": 2.9, \"petal length (cm)\": 4.5, \"petal width (cm)\": 1.5, \"species\": \"versicolor\"}, {\"s_sepal width (cm)\": 0.01997005992018816, \"s_sepal length (cm)\": 0.020144881197321773, \"s_petal width (cm)\": 0.16114913607004766, \"s_petal length (cm)\": 0.39667677272942203, \"sepal length (cm)\": 5.7, \"sepal width (cm)\": 2.6, \"petal length (cm)\": 3.5, \"petal width (cm)\": 1.0, \"species\": \"versicolor\"}, {\"s_sepal width (cm)\": 0.016191715451041006, \"s_sepal length (cm)\": 0.002220495481543183, \"s_petal width (cm)\": 0.16684919817655575, \"s_petal length (cm)\": 0.4177418159459442, \"sepal length (cm)\": 5.5, \"sepal width (cm)\": 2.4, \"petal length (cm)\": 3.8, \"petal width (cm)\": 1.1, \"species\": \"versicolor\"}, {\"s_sepal width (cm)\": 0.02377408130698322, \"s_sepal length (cm)\": 0.0011477791941645055, \"s_petal width (cm)\": 0.1642766114718326, \"s_petal length (cm)\": 0.4091931654890192, \"sepal length (cm)\": 5.5, \"sepal width (cm)\": 2.4, \"petal length (cm)\": 3.7, \"petal width (cm)\": 1.0, \"species\": \"versicolor\"}, {\"s_sepal width (cm)\": 0.00838280068612518, \"s_sepal length (cm)\": 0.025040392597461048, \"s_petal width (cm)\": 0.15729273563948876, \"s_petal length (cm)\": 0.4161577625345153, \"sepal length (cm)\": 5.8, \"sepal width (cm)\": 2.7, \"petal length (cm)\": 3.9, \"petal width (cm)\": 1.2, \"species\": \"versicolor\"}, {\"s_sepal width (cm)\": -0.030443617983080595, \"s_sepal length (cm)\": -0.01708273120277075, \"s_petal width (cm)\": 0.07129228864544895, \"s_petal length (cm)\": -0.1637845557259592, \"sepal length (cm)\": 6.0, \"sepal width (cm)\": 2.7, \"petal length (cm)\": 5.1, \"petal width (cm)\": 1.6, \"species\": \"versicolor\"}, {\"s_sepal width (cm)\": 0.03412923472873236, \"s_sepal length (cm)\": -0.015771282739642373, \"s_petal width (cm)\": 0.14373747561017225, \"s_petal length (cm)\": 0.34808164923324664, \"sepal length (cm)\": 5.4, \"sepal width (cm)\": 3.0, \"petal length (cm)\": 4.5, \"petal width (cm)\": 1.5, \"species\": \"versicolor\"}, {\"s_sepal width (cm)\": 0.042869781891392816, \"s_sepal length (cm)\": 0.06050092108765226, \"s_petal width (cm)\": 0.12473496554768748, \"s_petal length (cm)\": 0.36702188210427555, \"sepal length (cm)\": 6.0, \"sepal width (cm)\": 3.4, \"petal length (cm)\": 4.5, \"petal width (cm)\": 1.6, \"species\": \"versicolor\"}, {\"s_sepal width (cm)\": 0.0166435152990822, \"s_sepal length (cm)\": 0.13821816557032168, \"s_petal width (cm)\": 0.16490856827895511, \"s_petal length (cm)\": 0.27234935623798545, \"sepal length (cm)\": 6.7, \"sepal width (cm)\": 3.1, \"petal length (cm)\": 4.7, \"petal width (cm)\": 1.5, \"species\": \"versicolor\"}, {\"s_sepal width (cm)\": 0.0010496239900416315, \"s_sepal length (cm)\": 0.08072626812412836, \"s_petal width (cm)\": 0.1681052231005059, \"s_petal length (cm)\": 0.3580244401291081, \"sepal length (cm)\": 6.3, \"sepal width (cm)\": 2.3, \"petal length (cm)\": 4.4, \"petal width (cm)\": 1.3, \"species\": \"versicolor\"}, {\"s_sepal width (cm)\": 0.008472449947453553, \"s_sepal length (cm)\": 0.029117155222723845, \"s_petal width (cm)\": 0.15235988694758107, \"s_petal length (cm)\": 0.4221652115838772, \"sepal length (cm)\": 5.6, \"sepal width (cm)\": 3.0, \"petal length (cm)\": 4.1, \"petal width (cm)\": 1.3, \"species\": \"versicolor\"}, {\"s_sepal width (cm)\": -0.0026797118810279186, \"s_sepal length (cm)\": 0.0037021154807586054, \"s_petal width (cm)\": 0.1634904669285262, \"s_petal length (cm)\": 0.4440655680073534, \"sepal length (cm)\": 5.5, \"sepal width (cm)\": 2.5, \"petal length (cm)\": 4.0, \"petal width (cm)\": 1.3, \"species\": \"versicolor\"}, {\"s_sepal width (cm)\": -0.035691739719093646, \"s_sepal length (cm)\": -0.022180487611496907, \"s_petal width (cm)\": 0.20740439588060938, \"s_petal length (cm)\": 0.3542130359356803, \"sepal length (cm)\": 5.5, \"sepal width (cm)\": 2.6, \"petal length (cm)\": 4.4, \"petal width (cm)\": 1.2, \"species\": \"versicolor\"}, {\"s_sepal width (cm)\": 0.016839290808478263, \"s_sepal length (cm)\": 0.05937741795229676, \"s_petal width (cm)\": 0.1724498355024358, \"s_petal length (cm)\": 0.3610967587313138, \"sepal length (cm)\": 6.1, \"sepal width (cm)\": 3.0, \"petal length (cm)\": 4.6, \"petal width (cm)\": 1.4, \"species\": \"versicolor\"}, {\"s_sepal width (cm)\": 0.008666826179293763, \"s_sepal length (cm)\": 0.030869639909132246, \"s_petal width (cm)\": 0.1579023119030839, \"s_petal length (cm)\": 0.4157417888046808, \"sepal length (cm)\": 5.8, \"sepal width (cm)\": 2.6, \"petal length (cm)\": 4.0, \"petal width (cm)\": 1.2, \"species\": \"versicolor\"}, {\"s_sepal width (cm)\": 0.024815698982289358, \"s_sepal length (cm)\": -0.01693821250780428, \"s_petal width (cm)\": 0.1816869453260136, \"s_petal length (cm)\": 0.3999781108819214, \"sepal length (cm)\": 5.0, \"sepal width (cm)\": 2.3, \"petal length (cm)\": 3.3, \"petal width (cm)\": 1.0, \"species\": \"versicolor\"}, {\"s_sepal width (cm)\": -0.005846163945372518, \"s_sepal length (cm)\": 0.018113263320088918, \"s_petal width (cm)\": 0.17318673988224365, \"s_petal length (cm)\": 0.42772575295435655, \"sepal length (cm)\": 5.6, \"sepal width (cm)\": 2.7, \"petal length (cm)\": 4.2, \"petal width (cm)\": 1.3, \"species\": \"versicolor\"}, {\"s_sepal width (cm)\": 0.012592339557937204, \"s_sepal length (cm)\": 0.03380205530654026, \"s_petal width (cm)\": 0.1635895676525736, \"s_petal length (cm)\": 0.4029360733332538, \"sepal length (cm)\": 5.7, \"sepal width (cm)\": 3.0, \"petal length (cm)\": 4.2, \"petal width (cm)\": 1.2, \"species\": \"versicolor\"}, {\"s_sepal width (cm)\": 0.007495553444649389, \"s_sepal length (cm)\": 0.03362331875866703, \"s_petal width (cm)\": 0.15679404776918537, \"s_petal length (cm)\": 0.4161254155332095, \"sepal length (cm)\": 5.7, \"sepal width (cm)\": 2.9, \"petal length (cm)\": 4.2, \"petal width (cm)\": 1.3, \"species\": \"versicolor\"}, {\"s_sepal width (cm)\": 0.006945436949789996, \"s_sepal length (cm)\": 0.04115134222254205, \"s_petal width (cm)\": 0.15475596715927298, \"s_petal length (cm)\": 0.4062866773526814, \"sepal length (cm)\": 6.2, \"sepal width (cm)\": 2.9, \"petal length (cm)\": 4.3, \"petal width (cm)\": 1.3, \"species\": \"versicolor\"}, {\"s_sepal width (cm)\": 0.025289259239622663, \"s_sepal length (cm)\": -0.012539763961432498, \"s_petal width (cm)\": 0.1861372359672332, \"s_petal length (cm)\": 0.3754544740464919, \"sepal length (cm)\": 5.1, \"sepal width (cm)\": 2.5, \"petal length (cm)\": 3.0, \"petal width (cm)\": 1.1, \"species\": \"versicolor\"}, {\"s_sepal width (cm)\": 0.0025424459873565064, \"s_sepal length (cm)\": 0.029205189391696473, \"s_petal width (cm)\": 0.15270542495276618, \"s_petal length (cm)\": 0.42922421497574476, \"sepal length (cm)\": 5.7, \"sepal width (cm)\": 2.8, \"petal length (cm)\": 4.1, \"petal width (cm)\": 1.3, \"species\": \"versicolor\"}, {\"s_sepal width (cm)\": 0.021851392764820315, \"s_sepal length (cm)\": 0.00037545028896841803, \"s_petal width (cm)\": -0.10610503394563064, \"s_petal length (cm)\": -0.22866487127066812, \"sepal length (cm)\": 6.3, \"sepal width (cm)\": 3.3, \"petal length (cm)\": 6.0, \"petal width (cm)\": 2.5, \"species\": \"virginica\"}, {\"s_sepal width (cm)\": -0.012587418932605413, \"s_sepal length (cm)\": -0.01590966692688489, \"s_petal width (cm)\": -0.08586146299011643, \"s_petal length (cm)\": -0.184058491962718, \"sepal length (cm)\": 5.8, \"sepal width (cm)\": 2.7, \"petal length (cm)\": 5.1, \"petal width (cm)\": 1.9, \"species\": \"virginica\"}, {\"s_sepal width (cm)\": 0.0011677510833773969, \"s_sepal length (cm)\": 0.036514831709794845, \"s_petal width (cm)\": -0.08701095309667031, \"s_petal length (cm)\": -0.26335928336465475, \"sepal length (cm)\": 7.1, \"sepal width (cm)\": 3.0, \"petal length (cm)\": 5.9, \"petal width (cm)\": 2.1, \"species\": \"virginica\"}, {\"s_sepal width (cm)\": -0.0024360462317388615, \"s_sepal length (cm)\": -0.015692952215297665, \"s_petal width (cm)\": -0.05170766681745009, \"s_petal length (cm)\": -0.2309641400805229, \"sepal length (cm)\": 6.3, \"sepal width (cm)\": 2.9, \"petal length (cm)\": 5.6, \"petal width (cm)\": 1.8, \"species\": \"virginica\"}, {\"s_sepal width (cm)\": 0.003990762832701139, \"s_sepal length (cm)\": 0.003323081158129418, \"s_petal width (cm)\": -0.08078832749709974, \"s_petal length (cm)\": -0.23946810738423774, \"sepal length (cm)\": 6.5, \"sepal width (cm)\": 3.0, \"petal length (cm)\": 5.8, \"petal width (cm)\": 2.2, \"species\": \"virginica\"}, {\"s_sepal width (cm)\": 0.0005053151294103775, \"s_sepal length (cm)\": 0.053723408119439736, \"s_petal width (cm)\": -0.07548826690000174, \"s_petal length (cm)\": -0.2896055733283758, \"sepal length (cm)\": 7.6, \"sepal width (cm)\": 3.0, \"petal length (cm)\": 6.6, \"petal width (cm)\": 2.1, \"species\": \"virginica\"}, {\"s_sepal width (cm)\": -0.07182736215507773, \"s_sepal length (cm)\": -0.14908519350472338, \"s_petal width (cm)\": 0.0031161752150132838, \"s_petal length (cm)\": 0.1944757553955614, \"sepal length (cm)\": 4.9, \"sepal width (cm)\": 2.5, \"petal length (cm)\": 4.5, \"petal width (cm)\": 1.7, \"species\": \"virginica\"}, {\"s_sepal width (cm)\": -0.002755440531538922, \"s_sepal length (cm)\": 0.07064246019003888, \"s_petal width (cm)\": -0.02576237646416868, \"s_petal length (cm)\": -0.3375709376333316, \"sepal length (cm)\": 7.3, \"sepal width (cm)\": 2.9, \"petal length (cm)\": 6.3, \"petal width (cm)\": 1.8, \"species\": \"virginica\"}, {\"s_sepal width (cm)\": -0.011637233372249506, \"s_sepal length (cm)\": 0.012650380076432419, \"s_petal width (cm)\": -0.04531273215351822, \"s_petal length (cm)\": -0.2590402441394495, \"sepal length (cm)\": 6.7, \"sepal width (cm)\": 2.5, \"petal length (cm)\": 5.8, \"petal width (cm)\": 1.8, \"species\": \"virginica\"}, {\"s_sepal width (cm)\": 0.030076956044209444, \"s_sepal length (cm)\": 0.03659607768844901, \"s_petal width (cm)\": -0.12610320730667643, \"s_petal length (cm)\": -0.2520391806947143, \"sepal length (cm)\": 7.2, \"sepal width (cm)\": 3.6, \"petal length (cm)\": 6.1, \"petal width (cm)\": 2.5, \"species\": \"virginica\"}, {\"s_sepal width (cm)\": 0.01988461039032386, \"s_sepal length (cm)\": 0.03648552614682854, \"s_petal width (cm)\": -0.1855445235136613, \"s_petal length (cm)\": -0.1370573611983013, \"sepal length (cm)\": 6.5, \"sepal width (cm)\": 3.2, \"petal length (cm)\": 5.1, \"petal width (cm)\": 2.0, \"species\": \"virginica\"}, {\"s_sepal width (cm)\": -0.010137742058774088, \"s_sepal length (cm)\": -0.003772759791421068, \"s_petal width (cm)\": -0.07619006122560781, \"s_petal length (cm)\": -0.21743381160277733, \"sepal length (cm)\": 6.4, \"sepal width (cm)\": 2.7, \"petal length (cm)\": 5.3, \"petal width (cm)\": 1.9, \"species\": \"virginica\"}, {\"s_sepal width (cm)\": 0.001105093785443087, \"s_sepal length (cm)\": 0.0239867075913313, \"s_petal width (cm)\": -0.1097751510005889, \"s_petal length (cm)\": -0.22680266634163737, \"sepal length (cm)\": 6.8, \"sepal width (cm)\": 3.0, \"petal length (cm)\": 5.5, \"petal width (cm)\": 2.1, \"species\": \"virginica\"}, {\"s_sepal width (cm)\": -0.017240810065289575, \"s_sepal length (cm)\": -0.017350347961725437, \"s_petal width (cm)\": -0.09852803031787083, \"s_petal length (cm)\": -0.16097851991424023, \"sepal length (cm)\": 5.7, \"sepal width (cm)\": 2.5, \"petal length (cm)\": 5.0, \"petal width (cm)\": 2.0, \"species\": \"virginica\"}, {\"s_sepal width (cm)\": -0.004546505356817526, \"s_sepal length (cm)\": -0.008926207908252493, \"s_petal width (cm)\": -0.12069447364718563, \"s_petal length (cm)\": -0.16838172046504446, \"sepal length (cm)\": 5.8, \"sepal width (cm)\": 2.8, \"petal length (cm)\": 5.1, \"petal width (cm)\": 2.4, \"species\": \"virginica\"}, {\"s_sepal width (cm)\": 0.019589685067551696, \"s_sepal length (cm)\": 0.00013402007730940746, \"s_petal width (cm)\": -0.130264879752453, \"s_petal length (cm)\": -0.19143250322011413, \"sepal length (cm)\": 6.4, \"sepal width (cm)\": 3.2, \"petal length (cm)\": 5.3, \"petal width (cm)\": 2.3, \"species\": \"virginica\"}, {\"s_sepal width (cm)\": -0.0036422069270967555, \"s_sepal length (cm)\": -0.0077902784038809125, \"s_petal width (cm)\": -0.0543407796932695, \"s_petal length (cm)\": -0.2241202436301074, \"sepal length (cm)\": 6.5, \"sepal width (cm)\": 3.0, \"petal length (cm)\": 5.5, \"petal width (cm)\": 1.8, \"species\": \"virginica\"}, {\"s_sepal width (cm)\": 0.027266527006707522, \"s_sepal length (cm)\": 0.04638092863462019, \"s_petal width (cm)\": -0.0965424406442065, \"s_petal length (cm)\": -0.2855755229996798, \"sepal length (cm)\": 7.7, \"sepal width (cm)\": 3.8, \"petal length (cm)\": 6.7, \"petal width (cm)\": 2.2, \"species\": \"virginica\"}, {\"s_sepal width (cm)\": 0.002753159890211604, \"s_sepal length (cm)\": 0.0605043843198905, \"s_petal width (cm)\": -0.08875388000415246, \"s_petal length (cm)\": -0.28638391771119825, \"sepal length (cm)\": 7.7, \"sepal width (cm)\": 2.6, \"petal length (cm)\": 6.9, \"petal width (cm)\": 2.3, \"species\": \"virginica\"}, {\"s_sepal width (cm)\": -0.06592530552882994, \"s_sepal length (cm)\": -0.04873426342660499, \"s_petal width (cm)\": 0.07424100991411339, \"s_petal length (cm)\": -0.16128990097989832, \"sepal length (cm)\": 6.0, \"sepal width (cm)\": 2.2, \"petal length (cm)\": 5.0, \"petal width (cm)\": 1.5, \"species\": \"virginica\"}, {\"s_sepal width (cm)\": 0.011905255447357599, \"s_sepal length (cm)\": 0.02417712042864871, \"s_petal width (cm)\": -0.10564814305111231, \"s_petal length (cm)\": -0.24248305602791972, \"sepal length (cm)\": 6.9, \"sepal width (cm)\": 3.2, \"petal length (cm)\": 5.7, \"petal width (cm)\": 2.3, \"species\": \"virginica\"}, {\"s_sepal width (cm)\": -0.00681759499026012, \"s_sepal length (cm)\": -0.03221778493566699, \"s_petal width (cm)\": -0.1259257885566611, \"s_petal length (cm)\": -0.12867291570237716, \"sepal length (cm)\": 5.6, \"sepal width (cm)\": 2.8, \"petal length (cm)\": 4.9, \"petal width (cm)\": 2.0, \"species\": \"virginica\"}, {\"s_sepal width (cm)\": -0.000982725102380122, \"s_sepal length (cm)\": 0.06460945630224292, \"s_petal width (cm)\": -0.059548319579783626, \"s_petal length (cm)\": -0.3045085966212181, \"sepal length (cm)\": 7.7, \"sepal width (cm)\": 2.8, \"petal length (cm)\": 6.7, \"petal width (cm)\": 2.0, \"species\": \"virginica\"}, {\"s_sepal width (cm)\": -0.02808428250113363, \"s_sepal length (cm)\": 0.010212915044862866, \"s_petal width (cm)\": -0.1565227920831651, \"s_petal length (cm)\": -0.10925594380235398, \"sepal length (cm)\": 6.3, \"sepal width (cm)\": 2.7, \"petal length (cm)\": 4.9, \"petal width (cm)\": 1.8, \"species\": \"virginica\"}, {\"s_sepal width (cm)\": 0.012824884709176615, \"s_sepal length (cm)\": 0.011138409667513685, \"s_petal width (cm)\": -0.09950328882236359, \"s_petal length (cm)\": -0.23552198089149246, \"sepal length (cm)\": 6.7, \"sepal width (cm)\": 3.3, \"petal length (cm)\": 5.7, \"petal width (cm)\": 2.1, \"species\": \"virginica\"}, {\"s_sepal width (cm)\": 0.00803545914672149, \"s_sepal length (cm)\": 0.0592892510408983, \"s_petal width (cm)\": -0.034050136815098664, \"s_petal length (cm)\": -0.31838367429192493, \"sepal length (cm)\": 7.2, \"sepal width (cm)\": 3.2, \"petal length (cm)\": 6.0, \"petal width (cm)\": 1.8, \"species\": \"virginica\"}, {\"s_sepal width (cm)\": -0.024377368493892465, \"s_sepal length (cm)\": 0.002934487547499469, \"s_petal width (cm)\": -0.17401246304692433, \"s_petal length (cm)\": -0.08363827128737611, \"sepal length (cm)\": 6.2, \"sepal width (cm)\": 2.8, \"petal length (cm)\": 4.8, \"petal width (cm)\": 1.8, \"species\": \"virginica\"}, {\"s_sepal width (cm)\": -0.007537733481699803, \"s_sepal length (cm)\": -0.014021341335686166, \"s_petal width (cm)\": -0.13005404598104353, \"s_petal length (cm)\": -0.11219712358645137, \"sepal length (cm)\": 6.1, \"sepal width (cm)\": 3.0, \"petal length (cm)\": 4.9, \"petal width (cm)\": 1.8, \"species\": \"virginica\"}, {\"s_sepal width (cm)\": 0.0010557299987208196, \"s_sepal length (cm)\": -0.0005924044259629918, \"s_petal width (cm)\": -0.08018502490722187, \"s_petal length (cm)\": -0.23102650796987706, \"sepal length (cm)\": 6.4, \"sepal width (cm)\": 2.8, \"petal length (cm)\": 5.6, \"petal width (cm)\": 2.1, \"species\": \"virginica\"}, {\"s_sepal width (cm)\": -0.032161590460261846, \"s_sepal length (cm)\": 0.08436759324155252, \"s_petal width (cm)\": 0.04735600426161382, \"s_petal length (cm)\": -0.30483218040176124, \"sepal length (cm)\": 7.2, \"sepal width (cm)\": 3.0, \"petal length (cm)\": 5.8, \"petal width (cm)\": 1.6, \"species\": \"virginica\"}, {\"s_sepal width (cm)\": -0.003758054990878168, \"s_sepal length (cm)\": 0.07914776220669009, \"s_petal width (cm)\": -0.07863380052420546, \"s_petal length (cm)\": -0.2913326598694662, \"sepal length (cm)\": 7.4, \"sepal width (cm)\": 2.8, \"petal length (cm)\": 6.1, \"petal width (cm)\": 1.9, \"species\": \"virginica\"}, {\"s_sepal width (cm)\": 0.017253113251971902, \"s_sepal length (cm)\": 0.0945475693446429, \"s_petal width (cm)\": -0.08056266364313275, \"s_petal length (cm)\": -0.29472410380934727, \"sepal length (cm)\": 7.9, \"sepal width (cm)\": 3.8, \"petal length (cm)\": 6.4, \"petal width (cm)\": 2.0, \"species\": \"virginica\"}, {\"s_sepal width (cm)\": 0.0012709753646342609, \"s_sepal length (cm)\": 0.0005924233073111573, \"s_petal width (cm)\": -0.08382370750462143, \"s_petal length (cm)\": -0.22912432446273295, \"sepal length (cm)\": 6.4, \"sepal width (cm)\": 2.8, \"petal length (cm)\": 5.6, \"petal width (cm)\": 2.2, \"species\": \"virginica\"}, {\"s_sepal width (cm)\": -0.06678129131318412, \"s_sepal length (cm)\": -0.0261713742201638, \"s_petal width (cm)\": 0.07768780767064357, \"s_petal length (cm)\": -0.16653342155432843, \"sepal length (cm)\": 6.3, \"sepal width (cm)\": 2.8, \"petal length (cm)\": 5.1, \"petal width (cm)\": 1.5, \"species\": \"virginica\"}, {\"s_sepal width (cm)\": -0.025291787396881066, \"s_sepal length (cm)\": -0.003668440593004335, \"s_petal width (cm)\": 0.10415923953076864, \"s_petal length (cm)\": -0.23621862111643868, \"sepal length (cm)\": 6.1, \"sepal width (cm)\": 2.6, \"petal length (cm)\": 5.6, \"petal width (cm)\": 1.4, \"species\": \"virginica\"}, {\"s_sepal width (cm)\": -0.00045742170995495546, \"s_sepal length (cm)\": 0.08947967528646758, \"s_petal width (cm)\": -0.15500744660104754, \"s_petal length (cm)\": -0.24229040894519532, \"sepal length (cm)\": 7.7, \"sepal width (cm)\": 3.0, \"petal length (cm)\": 6.1, \"petal width (cm)\": 2.3, \"species\": \"virginica\"}, {\"s_sepal width (cm)\": 0.02912477930075122, \"s_sepal length (cm)\": 0.0011280753978319402, \"s_petal width (cm)\": -0.12457249752538849, \"s_petal length (cm)\": -0.2083547409787621, \"sepal length (cm)\": 6.3, \"sepal width (cm)\": 3.4, \"petal length (cm)\": 5.6, \"petal width (cm)\": 2.4, \"species\": \"virginica\"}, {\"s_sepal width (cm)\": 0.0021736534834455312, \"s_sepal length (cm)\": -0.018431172290873724, \"s_petal width (cm)\": -0.06250812807290129, \"s_petal length (cm)\": -0.21800732534139872, \"sepal length (cm)\": 6.4, \"sepal width (cm)\": 3.1, \"petal length (cm)\": 5.5, \"petal width (cm)\": 1.8, \"species\": \"virginica\"}, {\"s_sepal width (cm)\": -0.001120205037795051, \"s_sepal length (cm)\": -0.008241953465413815, \"s_petal width (cm)\": -0.13572103220491705, \"s_petal length (cm)\": -0.07918706873578298, \"sepal length (cm)\": 6.0, \"sepal width (cm)\": 3.0, \"petal length (cm)\": 4.8, \"petal width (cm)\": 1.8, \"species\": \"virginica\"}, {\"s_sepal width (cm)\": 0.005504584802031448, \"s_sepal length (cm)\": 0.058984342026142667, \"s_petal width (cm)\": -0.17971299045148556, \"s_petal length (cm)\": -0.18993682900804826, \"sepal length (cm)\": 6.9, \"sepal width (cm)\": 3.1, \"petal length (cm)\": 5.4, \"petal width (cm)\": 2.1, \"species\": \"virginica\"}, {\"s_sepal width (cm)\": 0.006777646696318182, \"s_sepal length (cm)\": 0.014840374694827851, \"s_petal width (cm)\": -0.10566569763856615, \"s_petal length (cm)\": -0.2283354605735235, \"sepal length (cm)\": 6.7, \"sepal width (cm)\": 3.1, \"petal length (cm)\": 5.6, \"petal width (cm)\": 2.4, \"species\": \"virginica\"}, {\"s_sepal width (cm)\": 0.002902518634388722, \"s_sepal length (cm)\": 0.09584112966594593, \"s_petal width (cm)\": -0.25300096944718964, \"s_petal length (cm)\": -0.11658372891921613, \"sepal length (cm)\": 6.9, \"sepal width (cm)\": 3.1, \"petal length (cm)\": 5.1, \"petal width (cm)\": 2.3, \"species\": \"virginica\"}, {\"s_sepal width (cm)\": -0.012587418932605413, \"s_sepal length (cm)\": -0.01590966692688489, \"s_petal width (cm)\": -0.08586146299011643, \"s_petal length (cm)\": -0.184058491962718, \"sepal length (cm)\": 5.8, \"sepal width (cm)\": 2.7, \"petal length (cm)\": 5.1, \"petal width (cm)\": 1.9, \"species\": \"virginica\"}, {\"s_sepal width (cm)\": 0.010649403577026845, \"s_sepal length (cm)\": 0.01894996326436009, \"s_petal width (cm)\": -0.0997293537694176, \"s_petal length (cm)\": -0.24319710251906496, \"sepal length (cm)\": 6.8, \"sepal width (cm)\": 3.2, \"petal length (cm)\": 5.9, \"petal width (cm)\": 2.3, \"species\": \"virginica\"}, {\"s_sepal width (cm)\": 0.017040288847076604, \"s_sepal length (cm)\": 0.013237686089436651, \"s_petal width (cm)\": -0.11571151725378453, \"s_petal length (cm)\": -0.22740797106354146, \"sepal length (cm)\": 6.7, \"sepal width (cm)\": 3.3, \"petal length (cm)\": 5.7, \"petal width (cm)\": 2.5, \"species\": \"virginica\"}, {\"s_sepal width (cm)\": 0.00024276748265832093, \"s_sepal length (cm)\": 0.06398324506541837, \"s_petal width (cm)\": -0.2090157817151196, \"s_petal length (cm)\": -0.15868450374778986, \"sepal length (cm)\": 6.7, \"sepal width (cm)\": 3.0, \"petal length (cm)\": 5.2, \"petal width (cm)\": 2.3, \"species\": \"virginica\"}, {\"s_sepal width (cm)\": -0.021764057200931164, \"s_sepal length (cm)\": 0.012556545680095677, \"s_petal width (cm)\": -0.13456751824890448, \"s_petal length (cm)\": -0.15430152613346712, \"sepal length (cm)\": 6.3, \"sepal width (cm)\": 2.5, \"petal length (cm)\": 5.0, \"petal width (cm)\": 1.9, \"species\": \"virginica\"}, {\"s_sepal width (cm)\": -0.003417604251126763, \"s_sepal length (cm)\": 0.012824101790528425, \"s_petal width (cm)\": -0.11357889239582414, \"s_petal length (cm)\": -0.1989669200363059, \"sepal length (cm)\": 6.5, \"sepal width (cm)\": 3.0, \"petal length (cm)\": 5.2, \"petal width (cm)\": 2.0, \"species\": \"virginica\"}, {\"s_sepal width (cm)\": 0.030772807110102003, \"s_sepal length (cm)\": -0.0038257683509943102, \"s_petal width (cm)\": -0.13172487469852281, \"s_petal length (cm)\": -0.19028729693683263, \"sepal length (cm)\": 6.2, \"sepal width (cm)\": 3.4, \"petal length (cm)\": 5.4, \"petal width (cm)\": 2.3, \"species\": \"virginica\"}, {\"s_sepal width (cm)\": 0.0026521406352415094, \"s_sepal length (cm)\": -0.02266456787630669, \"s_petal width (cm)\": -0.09584088926068912, \"s_petal length (cm)\": -0.17270039261136402, \"sepal length (cm)\": 5.9, \"sepal width (cm)\": 3.0, \"petal length (cm)\": 5.1, \"petal width (cm)\": 1.8, \"species\": \"virginica\"}]}}, {\"mode\": \"vega-lite\"});\n",
       "</script>"
      ],
      "text/plain": [
       "alt.Chart(...)"
      ]
     },
     "execution_count": 60,
     "metadata": {},
     "output_type": "execute_result"
    }
   ],
   "source": [
    "compare_prediction = 1\n",
    "chart_df = pd.concat(\n",
    "    [dfs[compare_prediction].rename(columns={c: f\"s_{c}\" for c in dfs[1].columns}), df],\n",
    "    axis=1,\n",
    ")\n",
    "\n",
    "alt.Chart(chart_df).mark_point().encode(\n",
    "    x=feature, y=f\"s_{feature}\", color=\"species\"\n",
    ").properties(title=f\"predicting {iris.target_names[compare_prediction]}\")"
   ]
  },
  {
   "cell_type": "markdown",
   "metadata": {},
   "source": [
    "# Depoloying the model"
   ]
  },
  {
   "cell_type": "markdown",
   "metadata": {},
   "source": [
    "If the model is approved, submit the model to the automl library so that others can use it. It's commented out as a default as you may not want to save each idividual model. \n",
    "\n",
    "Here I like to add a description as it shows up in the models tab of the azure workspace. "
   ]
  },
  {
   "cell_type": "code",
   "execution_count": 61,
   "metadata": {
    "scrolled": true
   },
   "outputs": [
    {
     "data": {
      "text/plain": [
       "Model(workspace=Workspace.create(name='pjx-d-cu1-mlw-models', subscription_id='3465b147-e7ee-497a-8279-774442465d07', resource_group='Project_X_Dev'), name=AutoMLefd15a94165, id=AutoMLefd15a94165:1, version=1, tags={'targets': 'species', 'random_state': '42', 'description': 'experience testing for training course'}, properties={})"
      ]
     },
     "execution_count": 61,
     "metadata": {},
     "output_type": "execute_result"
    }
   ],
   "source": [
    "run.register_model(\n",
    "    tags=tags, description=description + \" - tested at \" + str(test[\"err\"].mean())\n",
    ")"
   ]
  },
  {
   "cell_type": "code",
   "execution_count": 62,
   "metadata": {},
   "outputs": [
    {
     "data": {
      "text/plain": [
       "{'stackensembleclassifier': StackEnsembleClassifier(base_learners=[('27', PipelineWithYTransformations(Pipeline={'memory': None, 'steps': [('SparseNormalizer', <automl.client.core.runtime.model_wrappers.SparseNormalizer object at 0x000001EE75BC3F28>), ('ExtraTreesClassifier', ExtraTreesClassifier(bootstrap=True, class_weight=None, criterion='entropy'...rbose=0, warm_start=False))]},\n",
       "                y_transformer={}, y_transformer_name='LabelEncoder'))],\n",
       "             meta_learner=LogisticRegression(C=1.0, class_weight=None, dual=False, fit_intercept=True,\n",
       "           intercept_scaling=1, max_iter=100, multi_class='warn',\n",
       "           n_jobs=None, penalty='l2', random_state=None, solver='warn',\n",
       "           tol=0.0001, verbose=0, warm_start=False),\n",
       "             training_cv_folds=5)}"
      ]
     },
     "execution_count": 62,
     "metadata": {},
     "output_type": "execute_result"
    }
   ],
   "source": [
    "fitted_model.named_steps"
   ]
  },
  {
   "cell_type": "code",
   "execution_count": 63,
   "metadata": {},
   "outputs": [],
   "source": [
    "import pickle"
   ]
  },
  {
   "cell_type": "code",
   "execution_count": 68,
   "metadata": {},
   "outputs": [],
   "source": [
    "pickle.dump(\n",
    "    dfs, open(\"../data/shapley_values.p\", \"wb\"), protocol=pickle.HIGHEST_PROTOCOL\n",
    ")\n",
    "pickle.dump(\n",
    "    fitted_model, open(\"../data/fitted_model.p\", \"wb\"), protocol=pickle.HIGHEST_PROTOCOL\n",
    ")"
   ]
  },
  {
   "cell_type": "code",
   "execution_count": null,
   "metadata": {},
   "outputs": [],
   "source": []
  }
 ],
 "metadata": {
  "kernelspec": {
   "display_name": "Python 3.7.7 64-bit ('azureml': conda)",
   "language": "python",
   "name": "python_defaultSpec_1598120500669"
  },
  "language_info": {
   "codemirror_mode": {
    "name": "ipython",
    "version": 3
   },
   "file_extension": ".py",
   "mimetype": "text/x-python",
   "name": "python",
   "nbconvert_exporter": "python",
   "pygments_lexer": "ipython3",
   "version": "3.7.7-final"
  }
 },
 "nbformat": 4,
 "nbformat_minor": 4
}